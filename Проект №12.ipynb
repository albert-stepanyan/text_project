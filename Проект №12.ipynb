{
 "cells": [
  {
   "cell_type": "markdown",
   "metadata": {},
   "source": [
    "# Проект для «Викишоп»"
   ]
  },
  {
   "cell_type": "markdown",
   "metadata": {},
   "source": [
    "## Описание проекта\n",
    "Интернет-магазин «Викишоп» запускает новый сервис. Теперь пользователи могут редактировать и дополнять описания товаров, как в вики-сообществах. То есть клиенты предлагают свои правки и комментируют изменения других. Магазину нужен инструмент, который будет искать токсичные комментарии и отправлять их на модерацию. \n",
    "\n",
    "Обучим модель классифицировать комментарии на позитивные и негативные. В нашем распоряжении набор данных с разметкой о токсичности правок.\n",
    "\n",
    "Построим модель со значением метрики качества *F1* не меньше 0.75. "
   ]
  },
  {
   "cell_type": "markdown",
   "metadata": {},
   "source": [
    "## План работы\n",
    "\n",
    "1.\tЗагрузим и подготовим данные.\n",
    "2.\tОбучим разные модели.\n",
    "3.\tСделаем выводы.\n",
    "\n",
    "Для выполнения проекта применять *BERT* необязательно."
   ]
  },
  {
   "cell_type": "markdown",
   "metadata": {},
   "source": [
    "## Описание данных\n",
    "\n",
    "-\t`text` — содержит текст комментария\n",
    "\n",
    "Целевой признак:\n",
    "-    `toxic`\n",
    "\n",
    "Данные находятся в файле: `toxic_comments.csv` "
   ]
  },
  {
   "cell_type": "code",
   "execution_count": 1,
   "metadata": {},
   "outputs": [
    {
     "data": {
      "text/html": [
       "<style>.container { width:90% !important; }</style>"
      ],
      "text/plain": [
       "<IPython.core.display.HTML object>"
      ]
     },
     "metadata": {},
     "output_type": "display_data"
    }
   ],
   "source": [
    "from IPython.core.display import display, HTML\n",
    "display(HTML(\"<style>.container { width:90% !important; }</style>\"))"
   ]
  },
  {
   "cell_type": "code",
   "execution_count": 2,
   "metadata": {},
   "outputs": [],
   "source": [
    "import warnings\n",
    "warnings.filterwarnings('ignore')"
   ]
  },
  {
   "cell_type": "markdown",
   "metadata": {},
   "source": [
    "<!-- Интернет-магазин «Викишоп» запускает новый сервис. Теперь пользователи могут редактировать и дополнять описания товаров, как в вики-сообществах. То есть клиенты предлагают свои правки и комментируют изменения других. Магазину нужен инструмент, который будет искать токсичные комментарии и отправлять их на модерацию. \n",
    "\n",
    "Обучите модель классифицировать комментарии на позитивные и негативные. В вашем распоряжении набор данных с разметкой о токсичности правок.\n",
    "\n",
    "Постройте модель со значением метрики качества *F1* не меньше 0.75. \n",
    "\n",
    "**Инструкция по выполнению проекта**\n",
    "\n",
    "1. Загрузите и подготовьте данные.\n",
    "2. Обучите разные модели. \n",
    "3. Сделайте выводы.\n",
    "\n",
    "Для выполнения проекта применять *BERT* необязательно, но вы можете попробовать.\n",
    "\n",
    "**Описание данных**\n",
    "\n",
    "Данные находятся в файле `toxic_comments.csv`. Столбец *text* в нём содержит текст комментария, а *toxic* — целевой признак. -->"
   ]
  },
  {
   "cell_type": "markdown",
   "metadata": {},
   "source": [
    "## Подготовка"
   ]
  },
  {
   "cell_type": "code",
   "execution_count": 3,
   "metadata": {
    "scrolled": true
   },
   "outputs": [
    {
     "name": "stdout",
     "output_type": "stream",
     "text": [
      "Requirement already satisfied: spacy in /opt/conda/lib/python3.9/site-packages (3.2.0)\n",
      "Requirement already satisfied: spacy-legacy<3.1.0,>=3.0.8 in /opt/conda/lib/python3.9/site-packages (from spacy) (3.0.10)\n",
      "Requirement already satisfied: numpy>=1.15.0 in /opt/conda/lib/python3.9/site-packages (from spacy) (1.21.1)\n",
      "Requirement already satisfied: setuptools in /opt/conda/lib/python3.9/site-packages (from spacy) (49.6.0.post20210108)\n",
      "Requirement already satisfied: jinja2 in /opt/conda/lib/python3.9/site-packages (from spacy) (3.0.1)\n",
      "Requirement already satisfied: packaging>=20.0 in /opt/conda/lib/python3.9/site-packages (from spacy) (21.3)\n",
      "Requirement already satisfied: spacy-loggers<2.0.0,>=1.0.0 in /opt/conda/lib/python3.9/site-packages (from spacy) (1.0.3)\n",
      "Requirement already satisfied: pathy>=0.3.5 in /opt/conda/lib/python3.9/site-packages (from spacy) (0.6.2)\n",
      "Requirement already satisfied: blis<0.8.0,>=0.4.0 in /opt/conda/lib/python3.9/site-packages (from spacy) (0.7.8)\n",
      "Requirement already satisfied: cymem<2.1.0,>=2.0.2 in /opt/conda/lib/python3.9/site-packages (from spacy) (2.0.6)\n",
      "Requirement already satisfied: tqdm<5.0.0,>=4.38.0 in /opt/conda/lib/python3.9/site-packages (from spacy) (4.61.2)\n",
      "Requirement already satisfied: wasabi<1.1.0,>=0.8.1 in /opt/conda/lib/python3.9/site-packages (from spacy) (0.10.1)\n",
      "Requirement already satisfied: srsly<3.0.0,>=2.4.1 in /opt/conda/lib/python3.9/site-packages (from spacy) (2.4.4)\n",
      "Requirement already satisfied: thinc<8.1.0,>=8.0.12 in /opt/conda/lib/python3.9/site-packages (from spacy) (8.0.17)\n",
      "Requirement already satisfied: pydantic!=1.8,!=1.8.1,<1.9.0,>=1.7.4 in /opt/conda/lib/python3.9/site-packages (from spacy) (1.8.2)\n",
      "Requirement already satisfied: catalogue<2.1.0,>=2.0.6 in /opt/conda/lib/python3.9/site-packages (from spacy) (2.0.8)\n",
      "Requirement already satisfied: langcodes<4.0.0,>=3.2.0 in /opt/conda/lib/python3.9/site-packages (from spacy) (3.3.0)\n",
      "Requirement already satisfied: typer<0.5.0,>=0.3.0 in /opt/conda/lib/python3.9/site-packages (from spacy) (0.4.2)\n",
      "Requirement already satisfied: preshed<3.1.0,>=3.0.2 in /opt/conda/lib/python3.9/site-packages (from spacy) (3.0.7)\n",
      "Requirement already satisfied: requests<3.0.0,>=2.13.0 in /opt/conda/lib/python3.9/site-packages (from spacy) (2.25.1)\n",
      "Requirement already satisfied: murmurhash<1.1.0,>=0.28.0 in /opt/conda/lib/python3.9/site-packages (from spacy) (1.0.8)\n",
      "Requirement already satisfied: pyparsing!=3.0.5,>=2.0.2 in /opt/conda/lib/python3.9/site-packages (from packaging>=20.0->spacy) (2.4.7)\n",
      "Requirement already satisfied: smart-open<6.0.0,>=5.2.1 in /opt/conda/lib/python3.9/site-packages (from pathy>=0.3.5->spacy) (5.2.1)\n",
      "Requirement already satisfied: typing-extensions>=3.7.4.3 in /opt/conda/lib/python3.9/site-packages (from pydantic!=1.8,!=1.8.1,<1.9.0,>=1.7.4->spacy) (4.3.0)\n",
      "Requirement already satisfied: chardet<5,>=3.0.2 in /opt/conda/lib/python3.9/site-packages (from requests<3.0.0,>=2.13.0->spacy) (4.0.0)\n",
      "Requirement already satisfied: certifi>=2017.4.17 in /opt/conda/lib/python3.9/site-packages (from requests<3.0.0,>=2.13.0->spacy) (2022.6.15)\n",
      "Requirement already satisfied: urllib3<1.27,>=1.21.1 in /opt/conda/lib/python3.9/site-packages (from requests<3.0.0,>=2.13.0->spacy) (1.26.6)\n",
      "Requirement already satisfied: idna<3,>=2.5 in /opt/conda/lib/python3.9/site-packages (from requests<3.0.0,>=2.13.0->spacy) (2.10)\n",
      "Requirement already satisfied: click<9.0.0,>=7.1.1 in /opt/conda/lib/python3.9/site-packages (from typer<0.5.0,>=0.3.0->spacy) (8.1.3)\n",
      "Requirement already satisfied: MarkupSafe>=2.0 in /opt/conda/lib/python3.9/site-packages (from jinja2->spacy) (2.1.1)\n",
      "\u001b[38;5;3m⚠ As of spaCy v3.0, shortcuts like 'en' are deprecated. Please use the\n",
      "full pipeline package name 'en_core_web_sm' instead.\u001b[0m\n",
      "Collecting en-core-web-sm==3.2.0\n",
      "  Downloading https://github.com/explosion/spacy-models/releases/download/en_core_web_sm-3.2.0/en_core_web_sm-3.2.0-py3-none-any.whl (13.9 MB)\n",
      "\u001b[K     |████████████████████████████████| 13.9 MB 1.3 MB/s eta 0:00:01\n",
      "\u001b[?25hRequirement already satisfied: spacy<3.3.0,>=3.2.0 in /opt/conda/lib/python3.9/site-packages (from en-core-web-sm==3.2.0) (3.2.0)\n",
      "Requirement already satisfied: catalogue<2.1.0,>=2.0.6 in /opt/conda/lib/python3.9/site-packages (from spacy<3.3.0,>=3.2.0->en-core-web-sm==3.2.0) (2.0.8)\n",
      "Requirement already satisfied: tqdm<5.0.0,>=4.38.0 in /opt/conda/lib/python3.9/site-packages (from spacy<3.3.0,>=3.2.0->en-core-web-sm==3.2.0) (4.61.2)\n",
      "Requirement already satisfied: spacy-loggers<2.0.0,>=1.0.0 in /opt/conda/lib/python3.9/site-packages (from spacy<3.3.0,>=3.2.0->en-core-web-sm==3.2.0) (1.0.3)\n",
      "Requirement already satisfied: requests<3.0.0,>=2.13.0 in /opt/conda/lib/python3.9/site-packages (from spacy<3.3.0,>=3.2.0->en-core-web-sm==3.2.0) (2.25.1)\n",
      "Requirement already satisfied: typer<0.5.0,>=0.3.0 in /opt/conda/lib/python3.9/site-packages (from spacy<3.3.0,>=3.2.0->en-core-web-sm==3.2.0) (0.4.2)\n",
      "Requirement already satisfied: wasabi<1.1.0,>=0.8.1 in /opt/conda/lib/python3.9/site-packages (from spacy<3.3.0,>=3.2.0->en-core-web-sm==3.2.0) (0.10.1)\n",
      "Requirement already satisfied: thinc<8.1.0,>=8.0.12 in /opt/conda/lib/python3.9/site-packages (from spacy<3.3.0,>=3.2.0->en-core-web-sm==3.2.0) (8.0.17)\n",
      "Requirement already satisfied: preshed<3.1.0,>=3.0.2 in /opt/conda/lib/python3.9/site-packages (from spacy<3.3.0,>=3.2.0->en-core-web-sm==3.2.0) (3.0.7)\n",
      "Requirement already satisfied: murmurhash<1.1.0,>=0.28.0 in /opt/conda/lib/python3.9/site-packages (from spacy<3.3.0,>=3.2.0->en-core-web-sm==3.2.0) (1.0.8)\n",
      "Requirement already satisfied: cymem<2.1.0,>=2.0.2 in /opt/conda/lib/python3.9/site-packages (from spacy<3.3.0,>=3.2.0->en-core-web-sm==3.2.0) (2.0.6)\n",
      "Requirement already satisfied: numpy>=1.15.0 in /opt/conda/lib/python3.9/site-packages (from spacy<3.3.0,>=3.2.0->en-core-web-sm==3.2.0) (1.21.1)\n",
      "Requirement already satisfied: setuptools in /opt/conda/lib/python3.9/site-packages (from spacy<3.3.0,>=3.2.0->en-core-web-sm==3.2.0) (49.6.0.post20210108)\n",
      "Requirement already satisfied: packaging>=20.0 in /opt/conda/lib/python3.9/site-packages (from spacy<3.3.0,>=3.2.0->en-core-web-sm==3.2.0) (21.3)\n",
      "Requirement already satisfied: jinja2 in /opt/conda/lib/python3.9/site-packages (from spacy<3.3.0,>=3.2.0->en-core-web-sm==3.2.0) (3.0.1)\n",
      "Requirement already satisfied: pathy>=0.3.5 in /opt/conda/lib/python3.9/site-packages (from spacy<3.3.0,>=3.2.0->en-core-web-sm==3.2.0) (0.6.2)\n",
      "Requirement already satisfied: spacy-legacy<3.1.0,>=3.0.8 in /opt/conda/lib/python3.9/site-packages (from spacy<3.3.0,>=3.2.0->en-core-web-sm==3.2.0) (3.0.10)\n",
      "Requirement already satisfied: langcodes<4.0.0,>=3.2.0 in /opt/conda/lib/python3.9/site-packages (from spacy<3.3.0,>=3.2.0->en-core-web-sm==3.2.0) (3.3.0)\n",
      "Requirement already satisfied: blis<0.8.0,>=0.4.0 in /opt/conda/lib/python3.9/site-packages (from spacy<3.3.0,>=3.2.0->en-core-web-sm==3.2.0) (0.7.8)\n",
      "Requirement already satisfied: pydantic!=1.8,!=1.8.1,<1.9.0,>=1.7.4 in /opt/conda/lib/python3.9/site-packages (from spacy<3.3.0,>=3.2.0->en-core-web-sm==3.2.0) (1.8.2)\n",
      "Requirement already satisfied: srsly<3.0.0,>=2.4.1 in /opt/conda/lib/python3.9/site-packages (from spacy<3.3.0,>=3.2.0->en-core-web-sm==3.2.0) (2.4.4)\n",
      "Requirement already satisfied: pyparsing!=3.0.5,>=2.0.2 in /opt/conda/lib/python3.9/site-packages (from packaging>=20.0->spacy<3.3.0,>=3.2.0->en-core-web-sm==3.2.0) (2.4.7)\n",
      "Requirement already satisfied: smart-open<6.0.0,>=5.2.1 in /opt/conda/lib/python3.9/site-packages (from pathy>=0.3.5->spacy<3.3.0,>=3.2.0->en-core-web-sm==3.2.0) (5.2.1)\n",
      "Requirement already satisfied: typing-extensions>=3.7.4.3 in /opt/conda/lib/python3.9/site-packages (from pydantic!=1.8,!=1.8.1,<1.9.0,>=1.7.4->spacy<3.3.0,>=3.2.0->en-core-web-sm==3.2.0) (4.3.0)\n",
      "Requirement already satisfied: certifi>=2017.4.17 in /opt/conda/lib/python3.9/site-packages (from requests<3.0.0,>=2.13.0->spacy<3.3.0,>=3.2.0->en-core-web-sm==3.2.0) (2022.6.15)\n",
      "Requirement already satisfied: chardet<5,>=3.0.2 in /opt/conda/lib/python3.9/site-packages (from requests<3.0.0,>=2.13.0->spacy<3.3.0,>=3.2.0->en-core-web-sm==3.2.0) (4.0.0)\n",
      "Requirement already satisfied: urllib3<1.27,>=1.21.1 in /opt/conda/lib/python3.9/site-packages (from requests<3.0.0,>=2.13.0->spacy<3.3.0,>=3.2.0->en-core-web-sm==3.2.0) (1.26.6)\n",
      "Requirement already satisfied: idna<3,>=2.5 in /opt/conda/lib/python3.9/site-packages (from requests<3.0.0,>=2.13.0->spacy<3.3.0,>=3.2.0->en-core-web-sm==3.2.0) (2.10)\n",
      "Requirement already satisfied: click<9.0.0,>=7.1.1 in /opt/conda/lib/python3.9/site-packages (from typer<0.5.0,>=0.3.0->spacy<3.3.0,>=3.2.0->en-core-web-sm==3.2.0) (8.1.3)\n",
      "Requirement already satisfied: MarkupSafe>=2.0 in /opt/conda/lib/python3.9/site-packages (from jinja2->spacy<3.3.0,>=3.2.0->en-core-web-sm==3.2.0) (2.1.1)\n",
      "\u001b[38;5;2m✔ Download and installation successful\u001b[0m\n",
      "You can now load the package via spacy.load('en_core_web_sm')\n"
     ]
    }
   ],
   "source": [
    "import sys\n",
    "!{sys.executable} -m pip install spacy\n",
    "\n",
    "!{sys.executable} -m spacy download en"
   ]
  },
  {
   "cell_type": "code",
   "execution_count": 4,
   "metadata": {},
   "outputs": [
    {
     "name": "stderr",
     "output_type": "stream",
     "text": [
      "[nltk_data] Downloading package wordnet to /home/jovyan/nltk_data...\n",
      "[nltk_data]   Package wordnet is already up-to-date!\n",
      "[nltk_data] Downloading package stopwords to /home/jovyan/nltk_data...\n",
      "[nltk_data]   Package stopwords is already up-to-date!\n"
     ]
    }
   ],
   "source": [
    "import pandas as pd\n",
    "import numpy as np\n",
    "import matplotlib.pyplot as plt\n",
    "import nltk\n",
    "from nltk.corpus import stopwords as nltk_stopwords\n",
    "nltk.download('wordnet')\n",
    "nltk.download('stopwords')\n",
    "import re\n",
    "from sklearn.pipeline import Pipeline\n",
    "from sklearn.model_selection import train_test_split, GridSearchCV\n",
    "from sklearn.feature_extraction.text import TfidfVectorizer\n",
    "from sklearn.metrics import f1_score, accuracy_score\n",
    "from sklearn.linear_model import LogisticRegression\n",
    "from sklearn.svm import LinearSVC\n",
    "from sklearn.tree import DecisionTreeClassifier\n",
    "import spacy\n",
    "nlp = spacy.load(\"en_core_web_sm\")"
   ]
  },
  {
   "cell_type": "code",
   "execution_count": 5,
   "metadata": {},
   "outputs": [
    {
     "data": {
      "text/html": [
       "<style  type=\"text/css\" >\n",
       "#T_31ac5_row0_col0,#T_31ac5_row0_col2,#T_31ac5_row1_col2,#T_31ac5_row2_col2,#T_31ac5_row3_col2,#T_31ac5_row4_col2,#T_31ac5_row5_col2,#T_31ac5_row7_col2,#T_31ac5_row8_col2,#T_31ac5_row9_col2{\n",
       "            background-color:  #f7fbff;\n",
       "            color:  #000000;\n",
       "        }#T_31ac5_row1_col0{\n",
       "            background-color:  #e1edf8;\n",
       "            color:  #000000;\n",
       "        }#T_31ac5_row2_col0{\n",
       "            background-color:  #ccdff1;\n",
       "            color:  #000000;\n",
       "        }#T_31ac5_row3_col0{\n",
       "            background-color:  #abd0e6;\n",
       "            color:  #000000;\n",
       "        }#T_31ac5_row4_col0{\n",
       "            background-color:  #82bbdb;\n",
       "            color:  #000000;\n",
       "        }#T_31ac5_row5_col0{\n",
       "            background-color:  #58a1cf;\n",
       "            color:  #000000;\n",
       "        }#T_31ac5_row6_col0{\n",
       "            background-color:  #3787c0;\n",
       "            color:  #000000;\n",
       "        }#T_31ac5_row6_col2,#T_31ac5_row9_col0{\n",
       "            background-color:  #08306b;\n",
       "            color:  #f1f1f1;\n",
       "        }#T_31ac5_row7_col0{\n",
       "            background-color:  #1b69af;\n",
       "            color:  #f1f1f1;\n",
       "        }#T_31ac5_row8_col0{\n",
       "            background-color:  #084d96;\n",
       "            color:  #f1f1f1;\n",
       "        }</style><table id=\"T_31ac5_\" ><thead>    <tr>        <th class=\"blank level0\" ></th>        <th class=\"col_heading level0 col0\" >Unnamed: 0</th>        <th class=\"col_heading level0 col1\" >text</th>        <th class=\"col_heading level0 col2\" >toxic</th>    </tr></thead><tbody>\n",
       "                <tr>\n",
       "                        <th id=\"T_31ac5_level0_row0\" class=\"row_heading level0 row0\" >0</th>\n",
       "                        <td id=\"T_31ac5_row0_col0\" class=\"data row0 col0\" >0</td>\n",
       "                        <td id=\"T_31ac5_row0_col1\" class=\"data row0 col1\" >Explanation\n",
       "Why the edits made under my username Hardcore Metallica Fan were reverted? They weren't vandalisms, just closure on some GAs after I voted at New York Dolls FAC. And please don't remove the template from the talk page since I'm retired now.89.205.38.27</td>\n",
       "                        <td id=\"T_31ac5_row0_col2\" class=\"data row0 col2\" >0</td>\n",
       "            </tr>\n",
       "            <tr>\n",
       "                        <th id=\"T_31ac5_level0_row1\" class=\"row_heading level0 row1\" >1</th>\n",
       "                        <td id=\"T_31ac5_row1_col0\" class=\"data row1 col0\" >1</td>\n",
       "                        <td id=\"T_31ac5_row1_col1\" class=\"data row1 col1\" >D'aww! He matches this background colour I'm seemingly stuck with. Thanks.  (talk) 21:51, January 11, 2016 (UTC)</td>\n",
       "                        <td id=\"T_31ac5_row1_col2\" class=\"data row1 col2\" >0</td>\n",
       "            </tr>\n",
       "            <tr>\n",
       "                        <th id=\"T_31ac5_level0_row2\" class=\"row_heading level0 row2\" >2</th>\n",
       "                        <td id=\"T_31ac5_row2_col0\" class=\"data row2 col0\" >2</td>\n",
       "                        <td id=\"T_31ac5_row2_col1\" class=\"data row2 col1\" >Hey man, I'm really not trying to edit war. It's just that this guy is constantly removing relevant information and talking to me through edits instead of my talk page. He seems to care more about the formatting than the actual info.</td>\n",
       "                        <td id=\"T_31ac5_row2_col2\" class=\"data row2 col2\" >0</td>\n",
       "            </tr>\n",
       "            <tr>\n",
       "                        <th id=\"T_31ac5_level0_row3\" class=\"row_heading level0 row3\" >3</th>\n",
       "                        <td id=\"T_31ac5_row3_col0\" class=\"data row3 col0\" >3</td>\n",
       "                        <td id=\"T_31ac5_row3_col1\" class=\"data row3 col1\" >\"\n",
       "More\n",
       "I can't make any real suggestions on improvement - I wondered if the section statistics should be later on, or a subsection of \"\"types of accidents\"\"  -I think the references may need tidying so that they are all in the exact same format ie date format etc. I can do that later on, if no-one else does first - if you have any preferences for formatting style on references or want to do it yourself please let me know.\n",
       "\n",
       "There appears to be a backlog on articles for review so I guess there may be a delay until a reviewer turns up. It's listed in the relevant form eg Wikipedia:Good_article_nominations#Transport  \"</td>\n",
       "                        <td id=\"T_31ac5_row3_col2\" class=\"data row3 col2\" >0</td>\n",
       "            </tr>\n",
       "            <tr>\n",
       "                        <th id=\"T_31ac5_level0_row4\" class=\"row_heading level0 row4\" >4</th>\n",
       "                        <td id=\"T_31ac5_row4_col0\" class=\"data row4 col0\" >4</td>\n",
       "                        <td id=\"T_31ac5_row4_col1\" class=\"data row4 col1\" >You, sir, are my hero. Any chance you remember what page that's on?</td>\n",
       "                        <td id=\"T_31ac5_row4_col2\" class=\"data row4 col2\" >0</td>\n",
       "            </tr>\n",
       "            <tr>\n",
       "                        <th id=\"T_31ac5_level0_row5\" class=\"row_heading level0 row5\" >5</th>\n",
       "                        <td id=\"T_31ac5_row5_col0\" class=\"data row5 col0\" >5</td>\n",
       "                        <td id=\"T_31ac5_row5_col1\" class=\"data row5 col1\" >\"\n",
       "\n",
       "Congratulations from me as well, use the tools well.  · talk \"</td>\n",
       "                        <td id=\"T_31ac5_row5_col2\" class=\"data row5 col2\" >0</td>\n",
       "            </tr>\n",
       "            <tr>\n",
       "                        <th id=\"T_31ac5_level0_row6\" class=\"row_heading level0 row6\" >6</th>\n",
       "                        <td id=\"T_31ac5_row6_col0\" class=\"data row6 col0\" >6</td>\n",
       "                        <td id=\"T_31ac5_row6_col1\" class=\"data row6 col1\" >COCKSUCKER BEFORE YOU PISS AROUND ON MY WORK</td>\n",
       "                        <td id=\"T_31ac5_row6_col2\" class=\"data row6 col2\" >1</td>\n",
       "            </tr>\n",
       "            <tr>\n",
       "                        <th id=\"T_31ac5_level0_row7\" class=\"row_heading level0 row7\" >7</th>\n",
       "                        <td id=\"T_31ac5_row7_col0\" class=\"data row7 col0\" >7</td>\n",
       "                        <td id=\"T_31ac5_row7_col1\" class=\"data row7 col1\" >Your vandalism to the Matt Shirvington article has been reverted.  Please don't do it again, or you will be banned.</td>\n",
       "                        <td id=\"T_31ac5_row7_col2\" class=\"data row7 col2\" >0</td>\n",
       "            </tr>\n",
       "            <tr>\n",
       "                        <th id=\"T_31ac5_level0_row8\" class=\"row_heading level0 row8\" >8</th>\n",
       "                        <td id=\"T_31ac5_row8_col0\" class=\"data row8 col0\" >8</td>\n",
       "                        <td id=\"T_31ac5_row8_col1\" class=\"data row8 col1\" >Sorry if the word 'nonsense' was offensive to you. Anyway, I'm not intending to write anything in the article(wow they would jump on me for vandalism), I'm merely requesting that it be more encyclopedic so one can use it for school as a reference. I have been to the selective breeding page but it's almost a stub. It points to 'animal breeding' which is a short messy article that gives you no info. There must be someone around with expertise in eugenics? 93.161.107.169</td>\n",
       "                        <td id=\"T_31ac5_row8_col2\" class=\"data row8 col2\" >0</td>\n",
       "            </tr>\n",
       "            <tr>\n",
       "                        <th id=\"T_31ac5_level0_row9\" class=\"row_heading level0 row9\" >9</th>\n",
       "                        <td id=\"T_31ac5_row9_col0\" class=\"data row9 col0\" >9</td>\n",
       "                        <td id=\"T_31ac5_row9_col1\" class=\"data row9 col1\" >alignment on this subject and which are contrary to those of DuLithgow</td>\n",
       "                        <td id=\"T_31ac5_row9_col2\" class=\"data row9 col2\" >0</td>\n",
       "            </tr>\n",
       "    </tbody></table>"
      ],
      "text/plain": [
       "<pandas.io.formats.style.Styler at 0x7fa96c095940>"
      ]
     },
     "metadata": {},
     "output_type": "display_data"
    }
   ],
   "source": [
    "toxic_comments = pd.read_csv('/datasets/toxic_comments.csv')\n",
    "display(toxic_comments.head(10).style.background_gradient(cmap='Blues', axis=0))"
   ]
  },
  {
   "cell_type": "code",
   "execution_count": 6,
   "metadata": {},
   "outputs": [],
   "source": [
    "toxic_comments.drop('Unnamed: 0', axis= 1 , inplace= True )"
   ]
  },
  {
   "cell_type": "code",
   "execution_count": 7,
   "metadata": {},
   "outputs": [
    {
     "data": {
      "text/html": [
       "<style  type=\"text/css\" >\n",
       "#T_a2f16_row0_col1,#T_a2f16_row1_col1,#T_a2f16_row2_col1,#T_a2f16_row3_col1,#T_a2f16_row4_col1,#T_a2f16_row5_col1,#T_a2f16_row7_col1,#T_a2f16_row8_col1,#T_a2f16_row9_col1{\n",
       "            background-color:  #f7fbff;\n",
       "            color:  #000000;\n",
       "        }#T_a2f16_row6_col1{\n",
       "            background-color:  #08306b;\n",
       "            color:  #f1f1f1;\n",
       "        }</style><table id=\"T_a2f16_\" ><thead>    <tr>        <th class=\"blank level0\" ></th>        <th class=\"col_heading level0 col0\" >text</th>        <th class=\"col_heading level0 col1\" >toxic</th>    </tr></thead><tbody>\n",
       "                <tr>\n",
       "                        <th id=\"T_a2f16_level0_row0\" class=\"row_heading level0 row0\" >0</th>\n",
       "                        <td id=\"T_a2f16_row0_col0\" class=\"data row0 col0\" >Explanation\n",
       "Why the edits made under my username Hardcore Metallica Fan were reverted? They weren't vandalisms, just closure on some GAs after I voted at New York Dolls FAC. And please don't remove the template from the talk page since I'm retired now.89.205.38.27</td>\n",
       "                        <td id=\"T_a2f16_row0_col1\" class=\"data row0 col1\" >0</td>\n",
       "            </tr>\n",
       "            <tr>\n",
       "                        <th id=\"T_a2f16_level0_row1\" class=\"row_heading level0 row1\" >1</th>\n",
       "                        <td id=\"T_a2f16_row1_col0\" class=\"data row1 col0\" >D'aww! He matches this background colour I'm seemingly stuck with. Thanks.  (talk) 21:51, January 11, 2016 (UTC)</td>\n",
       "                        <td id=\"T_a2f16_row1_col1\" class=\"data row1 col1\" >0</td>\n",
       "            </tr>\n",
       "            <tr>\n",
       "                        <th id=\"T_a2f16_level0_row2\" class=\"row_heading level0 row2\" >2</th>\n",
       "                        <td id=\"T_a2f16_row2_col0\" class=\"data row2 col0\" >Hey man, I'm really not trying to edit war. It's just that this guy is constantly removing relevant information and talking to me through edits instead of my talk page. He seems to care more about the formatting than the actual info.</td>\n",
       "                        <td id=\"T_a2f16_row2_col1\" class=\"data row2 col1\" >0</td>\n",
       "            </tr>\n",
       "            <tr>\n",
       "                        <th id=\"T_a2f16_level0_row3\" class=\"row_heading level0 row3\" >3</th>\n",
       "                        <td id=\"T_a2f16_row3_col0\" class=\"data row3 col0\" >\"\n",
       "More\n",
       "I can't make any real suggestions on improvement - I wondered if the section statistics should be later on, or a subsection of \"\"types of accidents\"\"  -I think the references may need tidying so that they are all in the exact same format ie date format etc. I can do that later on, if no-one else does first - if you have any preferences for formatting style on references or want to do it yourself please let me know.\n",
       "\n",
       "There appears to be a backlog on articles for review so I guess there may be a delay until a reviewer turns up. It's listed in the relevant form eg Wikipedia:Good_article_nominations#Transport  \"</td>\n",
       "                        <td id=\"T_a2f16_row3_col1\" class=\"data row3 col1\" >0</td>\n",
       "            </tr>\n",
       "            <tr>\n",
       "                        <th id=\"T_a2f16_level0_row4\" class=\"row_heading level0 row4\" >4</th>\n",
       "                        <td id=\"T_a2f16_row4_col0\" class=\"data row4 col0\" >You, sir, are my hero. Any chance you remember what page that's on?</td>\n",
       "                        <td id=\"T_a2f16_row4_col1\" class=\"data row4 col1\" >0</td>\n",
       "            </tr>\n",
       "            <tr>\n",
       "                        <th id=\"T_a2f16_level0_row5\" class=\"row_heading level0 row5\" >5</th>\n",
       "                        <td id=\"T_a2f16_row5_col0\" class=\"data row5 col0\" >\"\n",
       "\n",
       "Congratulations from me as well, use the tools well.  · talk \"</td>\n",
       "                        <td id=\"T_a2f16_row5_col1\" class=\"data row5 col1\" >0</td>\n",
       "            </tr>\n",
       "            <tr>\n",
       "                        <th id=\"T_a2f16_level0_row6\" class=\"row_heading level0 row6\" >6</th>\n",
       "                        <td id=\"T_a2f16_row6_col0\" class=\"data row6 col0\" >COCKSUCKER BEFORE YOU PISS AROUND ON MY WORK</td>\n",
       "                        <td id=\"T_a2f16_row6_col1\" class=\"data row6 col1\" >1</td>\n",
       "            </tr>\n",
       "            <tr>\n",
       "                        <th id=\"T_a2f16_level0_row7\" class=\"row_heading level0 row7\" >7</th>\n",
       "                        <td id=\"T_a2f16_row7_col0\" class=\"data row7 col0\" >Your vandalism to the Matt Shirvington article has been reverted.  Please don't do it again, or you will be banned.</td>\n",
       "                        <td id=\"T_a2f16_row7_col1\" class=\"data row7 col1\" >0</td>\n",
       "            </tr>\n",
       "            <tr>\n",
       "                        <th id=\"T_a2f16_level0_row8\" class=\"row_heading level0 row8\" >8</th>\n",
       "                        <td id=\"T_a2f16_row8_col0\" class=\"data row8 col0\" >Sorry if the word 'nonsense' was offensive to you. Anyway, I'm not intending to write anything in the article(wow they would jump on me for vandalism), I'm merely requesting that it be more encyclopedic so one can use it for school as a reference. I have been to the selective breeding page but it's almost a stub. It points to 'animal breeding' which is a short messy article that gives you no info. There must be someone around with expertise in eugenics? 93.161.107.169</td>\n",
       "                        <td id=\"T_a2f16_row8_col1\" class=\"data row8 col1\" >0</td>\n",
       "            </tr>\n",
       "            <tr>\n",
       "                        <th id=\"T_a2f16_level0_row9\" class=\"row_heading level0 row9\" >9</th>\n",
       "                        <td id=\"T_a2f16_row9_col0\" class=\"data row9 col0\" >alignment on this subject and which are contrary to those of DuLithgow</td>\n",
       "                        <td id=\"T_a2f16_row9_col1\" class=\"data row9 col1\" >0</td>\n",
       "            </tr>\n",
       "    </tbody></table>"
      ],
      "text/plain": [
       "<pandas.io.formats.style.Styler at 0x7fa85b512f40>"
      ]
     },
     "metadata": {},
     "output_type": "display_data"
    }
   ],
   "source": [
    "display(toxic_comments.head(10).style.background_gradient(cmap='Blues', axis=0))"
   ]
  },
  {
   "cell_type": "code",
   "execution_count": 8,
   "metadata": {},
   "outputs": [
    {
     "name": "stdout",
     "output_type": "stream",
     "text": [
      "<class 'pandas.core.frame.DataFrame'>\n",
      "RangeIndex: 159292 entries, 0 to 159291\n",
      "Data columns (total 2 columns):\n",
      " #   Column  Non-Null Count   Dtype \n",
      "---  ------  --------------   ----- \n",
      " 0   text    159292 non-null  object\n",
      " 1   toxic   159292 non-null  int64 \n",
      "dtypes: int64(1), object(1)\n",
      "memory usage: 2.4+ MB\n"
     ]
    }
   ],
   "source": [
    "toxic_comments.info()"
   ]
  },
  {
   "cell_type": "code",
   "execution_count": 9,
   "metadata": {},
   "outputs": [
    {
     "name": "stdout",
     "output_type": "stream",
     "text": [
      "\u001b[38;5;19m Количество дубликатов =  0 \u001b[0m\n"
     ]
    }
   ],
   "source": [
    "print('\\u001b[38;5;19m','Количество дубликатов = ', toxic_comments.duplicated().sum(), '\\u001b[0m')"
   ]
  },
  {
   "cell_type": "code",
   "execution_count": 10,
   "metadata": {},
   "outputs": [
    {
     "data": {
      "image/png": "[encoded data removed]",
      "text/plain": [
       "<Figure size 576x576 with 1 Axes>"
      ]
     },
     "metadata": {},
     "output_type": "display_data"
    }
   ],
   "source": [
    "data = [len(toxic_comments[toxic_comments['toxic'] == 0]), len(toxic_comments[toxic_comments['toxic'] == 1])]\n",
    "labels = ['Процент объектов класса 0', 'Процент объектов класса 1']\n",
    "plt.figure(figsize=(8,8))\n",
    "plt.rc('font', size= 20 ) \n",
    "\n",
    "fbcolor = [\"green\", \"red\"]\n",
    "\n",
    "explode = [0.02, 0.05]\n",
    "\n",
    "plt.pie(data, labels = labels, explode = explode, colors = fbcolor, autopct='%.2f%%', textprops={'color':\"b\"})\n",
    "plt.title('Соотношение объектов класса 0 и класса 1',\n",
    "          fontsize=20, fontweight=\"bold\", color='blue')\n",
    "plt.show() "
   ]
  },
  {
   "cell_type": "markdown",
   "metadata": {},
   "source": [
    "***Подготовим данные для векторизации***"
   ]
  },
  {
   "cell_type": "code",
   "execution_count": 11,
   "metadata": {},
   "outputs": [],
   "source": [
    "def lemmatize(text):\n",
    "    doc = nlp(text)\n",
    "    lemmatized_output = \" \".join([token.lemma_ for token in doc])\n",
    "    return lemmatized_output"
   ]
  },
  {
   "cell_type": "code",
   "execution_count": 12,
   "metadata": {},
   "outputs": [],
   "source": [
    "def clear_text(text):\n",
    "    text = text.lower()\n",
    "    text = re.sub(r'[^a-z+\\' ]', ' ', text)\n",
    "    return \" \".join(text.split())"
   ]
  },
  {
   "cell_type": "code",
   "execution_count": 13,
   "metadata": {},
   "outputs": [
    {
     "data": {
      "application/vnd.jupyter.widget-view+json": {
       "model_id": "a90fc3a8568a4b569b2055e93b02de1e",
       "version_major": 2,
       "version_minor": 0
      },
      "text/plain": [
       "  0%|          | 0/159292 [00:00<?, ?it/s]"
      ]
     },
     "metadata": {},
     "output_type": "display_data"
    }
   ],
   "source": [
    "from tqdm.notebook import tqdm\n",
    "tqdm.pandas()\n",
    "\n",
    "toxic_comments['lemm_text'] = toxic_comments['text'].apply(clear_text)\n",
    "toxic_comments['lemm_text'] = toxic_comments['lemm_text'].progress_apply(lemmatize)"
   ]
  },
  {
   "cell_type": "code",
   "execution_count": 14,
   "metadata": {},
   "outputs": [],
   "source": [
    "stopwords = set(nltk_stopwords.words('english'))"
   ]
  },
  {
   "cell_type": "code",
   "execution_count": 15,
   "metadata": {
    "scrolled": false
   },
   "outputs": [
    {
     "data": {
      "text/html": [
       "<style  type=\"text/css\" >\n",
       "#T_58140_row0_col1,#T_58140_row1_col1,#T_58140_row2_col1,#T_58140_row3_col1,#T_58140_row4_col1,#T_58140_row5_col1,#T_58140_row7_col1,#T_58140_row8_col1,#T_58140_row9_col1{\n",
       "            background-color:  #f7fbff;\n",
       "            color:  #000000;\n",
       "        }#T_58140_row6_col1{\n",
       "            background-color:  #08306b;\n",
       "            color:  #f1f1f1;\n",
       "        }</style><table id=\"T_58140_\" ><thead>    <tr>        <th class=\"blank level0\" ></th>        <th class=\"col_heading level0 col0\" >text</th>        <th class=\"col_heading level0 col1\" >toxic</th>        <th class=\"col_heading level0 col2\" >lemm_text</th>    </tr></thead><tbody>\n",
       "                <tr>\n",
       "                        <th id=\"T_58140_level0_row0\" class=\"row_heading level0 row0\" >0</th>\n",
       "                        <td id=\"T_58140_row0_col0\" class=\"data row0 col0\" >Explanation\n",
       "Why the edits made under my username Hardcore Metallica Fan were reverted? They weren't vandalisms, just closure on some GAs after I voted at New York Dolls FAC. And please don't remove the template from the talk page since I'm retired now.89.205.38.27</td>\n",
       "                        <td id=\"T_58140_row0_col1\" class=\"data row0 col1\" >0</td>\n",
       "                        <td id=\"T_58140_row0_col2\" class=\"data row0 col2\" >explanation why the edit make under my username hardcore metallica fan be revert they be not vandalism just closure on some gas after I vote at new york doll fac and please do not remove the template from the talk page since I be retire now</td>\n",
       "            </tr>\n",
       "            <tr>\n",
       "                        <th id=\"T_58140_level0_row1\" class=\"row_heading level0 row1\" >1</th>\n",
       "                        <td id=\"T_58140_row1_col0\" class=\"data row1 col0\" >D'aww! He matches this background colour I'm seemingly stuck with. Thanks.  (talk) 21:51, January 11, 2016 (UTC)</td>\n",
       "                        <td id=\"T_58140_row1_col1\" class=\"data row1 col1\" >0</td>\n",
       "                        <td id=\"T_58140_row1_col2\" class=\"data row1 col2\" >d'aww he match this background colour I be seemingly stuck with thank talk january utc</td>\n",
       "            </tr>\n",
       "            <tr>\n",
       "                        <th id=\"T_58140_level0_row2\" class=\"row_heading level0 row2\" >2</th>\n",
       "                        <td id=\"T_58140_row2_col0\" class=\"data row2 col0\" >Hey man, I'm really not trying to edit war. It's just that this guy is constantly removing relevant information and talking to me through edits instead of my talk page. He seems to care more about the formatting than the actual info.</td>\n",
       "                        <td id=\"T_58140_row2_col1\" class=\"data row2 col1\" >0</td>\n",
       "                        <td id=\"T_58140_row2_col2\" class=\"data row2 col2\" >hey man I be really not try to edit war it be just that this guy be constantly remove relevant information and talk to I through edit instead of my talk page he seem to care more about the formatting than the actual info</td>\n",
       "            </tr>\n",
       "            <tr>\n",
       "                        <th id=\"T_58140_level0_row3\" class=\"row_heading level0 row3\" >3</th>\n",
       "                        <td id=\"T_58140_row3_col0\" class=\"data row3 col0\" >\"\n",
       "More\n",
       "I can't make any real suggestions on improvement - I wondered if the section statistics should be later on, or a subsection of \"\"types of accidents\"\"  -I think the references may need tidying so that they are all in the exact same format ie date format etc. I can do that later on, if no-one else does first - if you have any preferences for formatting style on references or want to do it yourself please let me know.\n",
       "\n",
       "There appears to be a backlog on articles for review so I guess there may be a delay until a reviewer turns up. It's listed in the relevant form eg Wikipedia:Good_article_nominations#Transport  \"</td>\n",
       "                        <td id=\"T_58140_row3_col1\" class=\"data row3 col1\" >0</td>\n",
       "                        <td id=\"T_58140_row3_col2\" class=\"data row3 col2\" >more I can not make any real suggestion on improvement I wonder if the section statistic should be later on or a subsection of type of accident I think the reference may need tidy so that they be all in the exact same format ie date format etc I can do that later on if no one else do first if you have any preference for format style on reference or want to do it yourself please let I know there appear to be a backlog on article for review so I guess there may be a delay until a reviewer turn up it be list in the relevant form eg wikipedia good article nomination transport</td>\n",
       "            </tr>\n",
       "            <tr>\n",
       "                        <th id=\"T_58140_level0_row4\" class=\"row_heading level0 row4\" >4</th>\n",
       "                        <td id=\"T_58140_row4_col0\" class=\"data row4 col0\" >You, sir, are my hero. Any chance you remember what page that's on?</td>\n",
       "                        <td id=\"T_58140_row4_col1\" class=\"data row4 col1\" >0</td>\n",
       "                        <td id=\"T_58140_row4_col2\" class=\"data row4 col2\" >you sir be my hero any chance you remember what page that be on</td>\n",
       "            </tr>\n",
       "            <tr>\n",
       "                        <th id=\"T_58140_level0_row5\" class=\"row_heading level0 row5\" >5</th>\n",
       "                        <td id=\"T_58140_row5_col0\" class=\"data row5 col0\" >\"\n",
       "\n",
       "Congratulations from me as well, use the tools well.  · talk \"</td>\n",
       "                        <td id=\"T_58140_row5_col1\" class=\"data row5 col1\" >0</td>\n",
       "                        <td id=\"T_58140_row5_col2\" class=\"data row5 col2\" >congratulation from I as well use the tool well talk</td>\n",
       "            </tr>\n",
       "            <tr>\n",
       "                        <th id=\"T_58140_level0_row6\" class=\"row_heading level0 row6\" >6</th>\n",
       "                        <td id=\"T_58140_row6_col0\" class=\"data row6 col0\" >COCKSUCKER BEFORE YOU PISS AROUND ON MY WORK</td>\n",
       "                        <td id=\"T_58140_row6_col1\" class=\"data row6 col1\" >1</td>\n",
       "                        <td id=\"T_58140_row6_col2\" class=\"data row6 col2\" >cocksucker before you piss around on my work</td>\n",
       "            </tr>\n",
       "            <tr>\n",
       "                        <th id=\"T_58140_level0_row7\" class=\"row_heading level0 row7\" >7</th>\n",
       "                        <td id=\"T_58140_row7_col0\" class=\"data row7 col0\" >Your vandalism to the Matt Shirvington article has been reverted.  Please don't do it again, or you will be banned.</td>\n",
       "                        <td id=\"T_58140_row7_col1\" class=\"data row7 col1\" >0</td>\n",
       "                        <td id=\"T_58140_row7_col2\" class=\"data row7 col2\" >your vandalism to the matt shirvington article have be revert please do not do it again or you will be ban</td>\n",
       "            </tr>\n",
       "            <tr>\n",
       "                        <th id=\"T_58140_level0_row8\" class=\"row_heading level0 row8\" >8</th>\n",
       "                        <td id=\"T_58140_row8_col0\" class=\"data row8 col0\" >Sorry if the word 'nonsense' was offensive to you. Anyway, I'm not intending to write anything in the article(wow they would jump on me for vandalism), I'm merely requesting that it be more encyclopedic so one can use it for school as a reference. I have been to the selective breeding page but it's almost a stub. It points to 'animal breeding' which is a short messy article that gives you no info. There must be someone around with expertise in eugenics? 93.161.107.169</td>\n",
       "                        <td id=\"T_58140_row8_col1\" class=\"data row8 col1\" >0</td>\n",
       "                        <td id=\"T_58140_row8_col2\" class=\"data row8 col2\" >sorry if the word ' nonsense ' be offensive to you anyway I be not intend to write anything in the article wow they would jump on I for vandalism I be merely request that it be more encyclopedic so one can use it for school as a reference I have be to the selective breeding page but it be almost a stub it point to ' animal breeding ' which be a short messy article that give you no info there must be someone around with expertise in eugenic</td>\n",
       "            </tr>\n",
       "            <tr>\n",
       "                        <th id=\"T_58140_level0_row9\" class=\"row_heading level0 row9\" >9</th>\n",
       "                        <td id=\"T_58140_row9_col0\" class=\"data row9 col0\" >alignment on this subject and which are contrary to those of DuLithgow</td>\n",
       "                        <td id=\"T_58140_row9_col1\" class=\"data row9 col1\" >0</td>\n",
       "                        <td id=\"T_58140_row9_col2\" class=\"data row9 col2\" >alignment on this subject and which be contrary to those of dulithgow</td>\n",
       "            </tr>\n",
       "    </tbody></table>"
      ],
      "text/plain": [
       "<pandas.io.formats.style.Styler at 0x7fa85b27e040>"
      ]
     },
     "metadata": {},
     "output_type": "display_data"
    }
   ],
   "source": [
    "display(toxic_comments.head(10).style.background_gradient(cmap='Blues', axis=0))"
   ]
  },
  {
   "cell_type": "markdown",
   "metadata": {},
   "source": [
    "***Разделим данные на тренировочную и тестовую выборки***"
   ]
  },
  {
   "cell_type": "code",
   "execution_count": 16,
   "metadata": {},
   "outputs": [],
   "source": [
    "X_train, X_test, y_train, y_test = train_test_split(toxic_comments['lemm_text'], toxic_comments['toxic'], test_size=0.1, random_state=42)"
   ]
  },
  {
   "cell_type": "code",
   "execution_count": 17,
   "metadata": {
    "scrolled": true
   },
   "outputs": [
    {
     "name": "stdout",
     "output_type": "stream",
     "text": [
      "\u001b[38;5;19m Размер тренировочного корпуса =  143362 \u001b[0m\n",
      "\u001b[38;5;19m Размер тестового корпуса =  15930 \u001b[0m\n"
     ]
    }
   ],
   "source": [
    "print('\\u001b[38;5;19m','Размер тренировочного корпуса = ', len(X_train), '\\u001b[0m')\n",
    "print('\\u001b[38;5;19m','Размер тестового корпуса = ', len(X_test), '\\u001b[0m')"
   ]
  },
  {
   "cell_type": "markdown",
   "metadata": {},
   "source": [
    "***Проведём векторизацию корпусов***"
   ]
  },
  {
   "cell_type": "code",
   "execution_count": 18,
   "metadata": {},
   "outputs": [],
   "source": [
    "tf_idf_vec = TfidfVectorizer(ngram_range=(1,1), stop_words=stopwords, min_df=3, max_df=0.9, strip_accents='unicode', use_idf=1, smooth_idf=1, sublinear_tf=1 )"
   ]
  },
  {
   "cell_type": "code",
   "execution_count": 19,
   "metadata": {},
   "outputs": [],
   "source": [
    "X_train_vec = tf_idf_vec.fit_transform(X_train)\n",
    "X_test_vec = tf_idf_vec.transform(X_test)"
   ]
  },
  {
   "cell_type": "code",
   "execution_count": 20,
   "metadata": {},
   "outputs": [
    {
     "name": "stdout",
     "output_type": "stream",
     "text": [
      "\u001b[38;5;19m Размер тренировочного датасета =  (143362, 39425) \u001b[0m\n",
      "\u001b[38;5;19m Размер тестового датасета =  (15930, 39425) \u001b[0m\n"
     ]
    }
   ],
   "source": [
    "print('\\u001b[38;5;19m','Размер тренировочного датасета = ', X_train_vec.shape, '\\u001b[0m')\n",
    "print('\\u001b[38;5;19m','Размер тестового датасета = ', X_test_vec.shape, '\\u001b[0m')"
   ]
  },
  {
   "cell_type": "markdown",
   "metadata": {},
   "source": [
    "## Обучение"
   ]
  },
  {
   "cell_type": "markdown",
   "metadata": {},
   "source": [
    "### Логистическая регрессия"
   ]
  },
  {
   "cell_type": "code",
   "execution_count": 21,
   "metadata": {},
   "outputs": [
    {
     "name": "stdout",
     "output_type": "stream",
     "text": [
      "Fitting 3 folds for each of 10 candidates, totalling 30 fits\n"
     ]
    },
    {
     "data": {
      "text/plain": [
       "GridSearchCV(cv=3,\n",
       "             estimator=Pipeline(steps=[('model',\n",
       "                                        LogisticRegression(max_iter=1000,\n",
       "                                                           random_state=42,\n",
       "                                                           solver='liblinear'))]),\n",
       "             n_jobs=-1,\n",
       "             param_grid=[{'model': [LogisticRegression(C=13, random_state=42,\n",
       "                                                       solver='liblinear')],\n",
       "                          'model__C': [10, 11, 12, 13, 14],\n",
       "                          'model__penalty': ['l1', 'l2']}],\n",
       "             scoring='f1', verbose=True)"
      ]
     },
     "execution_count": 21,
     "metadata": {},
     "output_type": "execute_result"
    }
   ],
   "source": [
    "pipe = Pipeline([\n",
    "    (\n",
    "    ('model', LogisticRegression(random_state=42, solver='liblinear', max_iter=1000))\n",
    "    )\n",
    "    ])\n",
    "\n",
    "param_grid = [\n",
    "        {\n",
    "            'model': [LogisticRegression(random_state=42, solver='liblinear')],\n",
    "            'model__penalty' : ['l1', 'l2'],\n",
    "            'model__C': list(range(10,15,1))\n",
    "        }\n",
    "]\n",
    "clf_lrm = GridSearchCV(pipe, param_grid=param_grid, scoring='f1', cv=3, verbose=True, n_jobs=-1)\n",
    "clf_lrm.fit(X_train_vec, y_train)"
   ]
  },
  {
   "cell_type": "code",
   "execution_count": 22,
   "metadata": {
    "scrolled": true
   },
   "outputs": [
    {
     "name": "stdout",
     "output_type": "stream",
     "text": [
      "\u001b[38;5;19m Наилучший показатель f1 на кросс-валидации =  0.7795 \u001b[0m\n",
      "\u001b[38;5;19m Параметр регуляризации для лучшей модели =  {'model': LogisticRegression(C=13, random_state=42, solver='liblinear'), 'model__C': 13, 'model__penalty': 'l2'} \u001b[0m\n"
     ]
    }
   ],
   "source": [
    "print('\\u001b[38;5;19m','Наилучший показатель f1 на кросс-валидации = ', round(clf_lrm.best_score_, 4), '\\u001b[0m')\n",
    "print('\\u001b[38;5;19m','Параметр регуляризации для лучшей модели = ', clf_lrm.best_params_, '\\u001b[0m')"
   ]
  },
  {
   "cell_type": "markdown",
   "metadata": {},
   "source": [
    "### LinearSVC"
   ]
  },
  {
   "cell_type": "code",
   "execution_count": 23,
   "metadata": {},
   "outputs": [
    {
     "name": "stdout",
     "output_type": "stream",
     "text": [
      "Fitting 3 folds for each of 10 candidates, totalling 30 fits\n"
     ]
    },
    {
     "data": {
      "text/plain": [
       "GridSearchCV(cv=3,\n",
       "             estimator=Pipeline(steps=[('model', LinearSVC(random_state=42))]),\n",
       "             n_jobs=-1,\n",
       "             param_grid=[{'model': [LinearSVC(C=15, random_state=42)],\n",
       "                          'model__C': [15, 16, 17, 18, 19],\n",
       "                          'model__penalty': ['l1', 'l2']}],\n",
       "             scoring='f1', verbose=True)"
      ]
     },
     "execution_count": 23,
     "metadata": {},
     "output_type": "execute_result"
    }
   ],
   "source": [
    "pipe = Pipeline([\n",
    "    (\n",
    "    ('model', LinearSVC(random_state=42, max_iter=1000))\n",
    "    )\n",
    "    ])\n",
    "\n",
    "param_grid = [\n",
    "        {\n",
    "            'model': [LinearSVC(random_state=42)],\n",
    "            'model__penalty' : ['l1', 'l2'],\n",
    "            'model__C': list(range(15,20,1))\n",
    "        }\n",
    "]\n",
    "clf_lsvc = GridSearchCV(pipe, param_grid=param_grid, scoring='f1', cv=3, verbose=True, n_jobs=-1)\n",
    "clf_lsvc.fit(X_train_vec, y_train)"
   ]
  },
  {
   "cell_type": "code",
   "execution_count": 24,
   "metadata": {},
   "outputs": [
    {
     "name": "stdout",
     "output_type": "stream",
     "text": [
      "\u001b[38;5;19m Наилучший показатель f1 на кросс-валидации =  0.7396 \u001b[0m\n",
      "\u001b[38;5;19m Параметр регуляризации для лучшей модели =  {'model': LinearSVC(C=15, random_state=42), 'model__C': 15, 'model__penalty': 'l2'} \u001b[0m\n"
     ]
    }
   ],
   "source": [
    "print('\\u001b[38;5;19m','Наилучший показатель f1 на кросс-валидации = ', round(clf_lsvc.best_score_, 4), '\\u001b[0m')\n",
    "print('\\u001b[38;5;19m','Параметр регуляризации для лучшей модели = ', clf_lsvc.best_params_, '\\u001b[0m')"
   ]
  },
  {
   "cell_type": "markdown",
   "metadata": {},
   "source": [
    "### Модель DecisionTreeClassifier"
   ]
  },
  {
   "cell_type": "code",
   "execution_count": 25,
   "metadata": {
    "scrolled": false
   },
   "outputs": [
    {
     "name": "stdout",
     "output_type": "stream",
     "text": [
      "Fitting 3 folds for each of 3 candidates, totalling 9 fits\n"
     ]
    },
    {
     "data": {
      "text/plain": [
       "GridSearchCV(cv=3,\n",
       "             estimator=Pipeline(steps=[('model',\n",
       "                                        DecisionTreeClassifier(random_state=42))]),\n",
       "             n_jobs=-1,\n",
       "             param_grid=[{'model': [DecisionTreeClassifier(max_depth=40,\n",
       "                                                           random_state=42)],\n",
       "                          'model__max_depth': [20, 30, 40]}],\n",
       "             scoring='f1', verbose=True)"
      ]
     },
     "execution_count": 25,
     "metadata": {},
     "output_type": "execute_result"
    }
   ],
   "source": [
    "pipe = Pipeline([\n",
    "    (\n",
    "    ('model', DecisionTreeClassifier(random_state=42))\n",
    "    )\n",
    "    ])\n",
    "\n",
    "param_grid = [\n",
    "        {\n",
    "            'model': [DecisionTreeClassifier(random_state=42)],\n",
    "            'model__max_depth': [20, 30, 40]\n",
    "            \n",
    "        }\n",
    "]\n",
    "clf_dtc = GridSearchCV(pipe, param_grid=param_grid, scoring='f1', cv=3, verbose=True, n_jobs=-1)\n",
    "clf_dtc.fit(X_train_vec, y_train)"
   ]
  },
  {
   "cell_type": "code",
   "execution_count": 26,
   "metadata": {},
   "outputs": [
    {
     "name": "stdout",
     "output_type": "stream",
     "text": [
      "\u001b[38;5;19m Наилучший показатель f1 на кросс-валидации =  0.7012 \u001b[0m\n",
      "\u001b[38;5;19m Параметр регуляризации для лучшей модели =  {'model': DecisionTreeClassifier(max_depth=40, random_state=42), 'model__max_depth': 40} \u001b[0m\n"
     ]
    }
   ],
   "source": [
    "print('\\u001b[38;5;19m','Наилучший показатель f1 на кросс-валидации = ', round(clf_dtc.best_score_, 4), '\\u001b[0m')\n",
    "print('\\u001b[38;5;19m','Параметр регуляризации для лучшей модели = ', clf_dtc.best_params_, '\\u001b[0m')"
   ]
  },
  {
   "cell_type": "code",
   "execution_count": 27,
   "metadata": {},
   "outputs": [
    {
     "data": {
      "text/html": [
       "<style  type=\"text/css\" >\n",
       "#T_0e1cf_row0_col0{\n",
       "            background-color:  #08306b;\n",
       "            color:  #f1f1f1;\n",
       "        }#T_0e1cf_row1_col0{\n",
       "            background-color:  #6fb0d7;\n",
       "            color:  #000000;\n",
       "        }#T_0e1cf_row2_col0{\n",
       "            background-color:  #f7fbff;\n",
       "            color:  #000000;\n",
       "        }</style><table id=\"T_0e1cf_\" ><thead>    <tr>        <th class=\"blank level0\" ></th>        <th class=\"col_heading level0 col0\" >Значение метрики качества F1</th>    </tr></thead><tbody>\n",
       "                <tr>\n",
       "                        <th id=\"T_0e1cf_level0_row0\" class=\"row_heading level0 row0\" >LogisticRegression</th>\n",
       "                        <td id=\"T_0e1cf_row0_col0\" class=\"data row0 col0\" >0.779500</td>\n",
       "            </tr>\n",
       "            <tr>\n",
       "                        <th id=\"T_0e1cf_level0_row1\" class=\"row_heading level0 row1\" >LinearSVC</th>\n",
       "                        <td id=\"T_0e1cf_row1_col0\" class=\"data row1 col0\" >0.739600</td>\n",
       "            </tr>\n",
       "            <tr>\n",
       "                        <th id=\"T_0e1cf_level0_row2\" class=\"row_heading level0 row2\" >DecisionTreeClassifier</th>\n",
       "                        <td id=\"T_0e1cf_row2_col0\" class=\"data row2 col0\" >0.701200</td>\n",
       "            </tr>\n",
       "    </tbody></table>"
      ],
      "text/plain": [
       "<pandas.io.formats.style.Styler at 0x7fa84fbbe1c0>"
      ]
     },
     "metadata": {},
     "output_type": "display_data"
    }
   ],
   "source": [
    "data = {'Значение метрики качества F1':[round(clf_lrm.best_score_, 4), round(clf_lsvc.best_score_, 4), round(clf_dtc.best_score_, 4)]}\n",
    "\n",
    "index = ['LogisticRegression', 'LinearSVC', 'DecisionTreeClassifier']\n",
    "\n",
    "data_final = pd.DataFrame(data=data, index=index)\n",
    "\n",
    "display(data_final.sort_values(by='Значение метрики качества F1', ascending=False).style.background_gradient(cmap='Blues', axis=0))"
   ]
  },
  {
   "cell_type": "markdown",
   "metadata": {},
   "source": [
    "***На тренировочной выборке лучший результат `f1 = 0.7795` у `LogisticRegression` с коэффициентом регуляризации С = 13, поэтому протестируем её на тестовой выборке***"
   ]
  },
  {
   "cell_type": "code",
   "execution_count": 28,
   "metadata": {},
   "outputs": [
    {
     "name": "stdout",
     "output_type": "stream",
     "text": [
      "\u001b[38;5;19m Показатель f1 на тестовой выборке =  0.7938 \u001b[0m\n"
     ]
    }
   ],
   "source": [
    "predict = clf_lrm.best_estimator_.predict(X_test_vec)\n",
    "f1_lr = f1_score(y_test, predict)\n",
    "print('\\u001b[38;5;19m','Показатель f1 на тестовой выборке = ', round(f1_lr, 4), '\\u001b[0m')"
   ]
  },
  {
   "cell_type": "markdown",
   "metadata": {},
   "source": [
    "## Выводы"
   ]
  },
  {
   "cell_type": "markdown",
   "metadata": {},
   "source": [
    "- Загрузили данные комментариев пользователей интернет-магазин «Викишоп» с оценкой токсичности твитов\n",
    "- Данные обработаны и проведена их лемматизация с помощью WordNetLemmatizer библиотеки nltk\n",
    "- Знаки пунктуации, а также лишние пробелы удалены\n",
    "- Стоп слова удалены (список взят из библиотеки nltk)\n",
    "- Векторизован корпус с помощью TfidfVectorizer\n",
    "- Были обучены 3 модели (`LogisticRegression`, `LinearSVC`, `DecisionTreeClassifier`) на получившихся данных с подбором гиперпараметров\n",
    "- Получены показатель f1 на тренировочной выборке каждой модели и лучшей себя показала модель логистической регрессии (`LogisticRegression`)\n",
    "- Максимальное значение f1 = 0.7938 на тестовой выборке показала модель логистической регрессии (`LogisticRegression`) с коэффициентом регуляризации С = 13\n",
    "- Полученное значение f1 удовлетворяет требованию быть не менее 0.75"
   ]
  }
 ],
 "metadata": {
  "ExecuteTimeLog": [
   {
    "duration": 59,
    "start_time": "2024-01-25T18:47:56.123Z"
   },
   {
    "duration": 2,
    "start_time": "2024-01-25T18:48:13.432Z"
   },
   {
    "duration": 4,
    "start_time": "2024-01-25T18:49:14.281Z"
   },
   {
    "duration": 58,
    "start_time": "2024-01-25T18:56:28.683Z"
   },
   {
    "duration": 2,
    "start_time": "2024-01-25T18:56:28.742Z"
   },
   {
    "duration": 46,
    "start_time": "2024-01-25T18:56:28.814Z"
   },
   {
    "duration": 60,
    "start_time": "2024-01-25T18:57:21.075Z"
   },
   {
    "duration": 3,
    "start_time": "2024-01-25T18:57:21.137Z"
   },
   {
    "duration": 402,
    "start_time": "2024-01-25T18:57:21.141Z"
   },
   {
    "duration": 3536,
    "start_time": "2024-01-25T18:57:21.545Z"
   },
   {
    "duration": 36,
    "start_time": "2024-01-25T18:58:45.904Z"
   },
   {
    "duration": 73,
    "start_time": "2024-01-25T19:00:40.569Z"
   },
   {
    "duration": 966,
    "start_time": "2024-01-25T19:01:01.776Z"
   },
   {
    "duration": 962,
    "start_time": "2024-01-25T19:01:14.999Z"
   },
   {
    "duration": 34,
    "start_time": "2024-01-25T19:04:10.120Z"
   },
   {
    "duration": 58,
    "start_time": "2024-01-25T19:04:18.989Z"
   },
   {
    "duration": 3,
    "start_time": "2024-01-25T19:04:19.048Z"
   },
   {
    "duration": 438,
    "start_time": "2024-01-25T19:04:19.052Z"
   },
   {
    "duration": 1235,
    "start_time": "2024-01-25T19:04:19.492Z"
   },
   {
    "duration": 106,
    "start_time": "2024-01-25T19:04:20.728Z"
   },
   {
    "duration": 0,
    "start_time": "2024-01-25T19:04:20.836Z"
   },
   {
    "duration": 58,
    "start_time": "2024-01-25T19:05:18.050Z"
   },
   {
    "duration": 2,
    "start_time": "2024-01-25T19:05:18.110Z"
   },
   {
    "duration": 425,
    "start_time": "2024-01-25T19:05:18.114Z"
   },
   {
    "duration": 1319,
    "start_time": "2024-01-25T19:05:18.541Z"
   },
   {
    "duration": 97,
    "start_time": "2024-01-25T19:05:19.862Z"
   },
   {
    "duration": 0,
    "start_time": "2024-01-25T19:05:19.961Z"
   },
   {
    "duration": 60,
    "start_time": "2024-01-25T19:05:46.379Z"
   },
   {
    "duration": 2,
    "start_time": "2024-01-25T19:05:46.441Z"
   },
   {
    "duration": 444,
    "start_time": "2024-01-25T19:05:46.445Z"
   },
   {
    "duration": 1331,
    "start_time": "2024-01-25T19:05:46.891Z"
   },
   {
    "duration": 6,
    "start_time": "2024-01-25T19:05:48.224Z"
   },
   {
    "duration": 54,
    "start_time": "2024-01-25T19:05:48.232Z"
   },
   {
    "duration": 58,
    "start_time": "2024-01-25T19:06:59.294Z"
   },
   {
    "duration": 3,
    "start_time": "2024-01-25T19:06:59.353Z"
   },
   {
    "duration": 397,
    "start_time": "2024-01-25T19:06:59.357Z"
   },
   {
    "duration": 1341,
    "start_time": "2024-01-25T19:06:59.756Z"
   },
   {
    "duration": 2,
    "start_time": "2024-01-25T19:07:01.098Z"
   },
   {
    "duration": 40,
    "start_time": "2024-01-25T19:07:01.102Z"
   },
   {
    "duration": 96,
    "start_time": "2024-01-25T19:07:01.144Z"
   },
   {
    "duration": 54,
    "start_time": "2024-01-25T19:07:35.634Z"
   },
   {
    "duration": 3,
    "start_time": "2024-01-25T19:07:35.690Z"
   },
   {
    "duration": 450,
    "start_time": "2024-01-25T19:07:35.694Z"
   },
   {
    "duration": 1353,
    "start_time": "2024-01-25T19:07:36.146Z"
   },
   {
    "duration": 16,
    "start_time": "2024-01-25T19:07:37.501Z"
   },
   {
    "duration": 17,
    "start_time": "2024-01-25T19:07:37.520Z"
   },
   {
    "duration": 38,
    "start_time": "2024-01-25T19:07:37.539Z"
   },
   {
    "duration": 47,
    "start_time": "2024-01-26T20:25:42.197Z"
   },
   {
    "duration": 2,
    "start_time": "2024-01-26T20:25:42.246Z"
   },
   {
    "duration": 464,
    "start_time": "2024-01-26T20:25:42.249Z"
   },
   {
    "duration": 2823,
    "start_time": "2024-01-26T20:25:42.715Z"
   },
   {
    "duration": 36,
    "start_time": "2024-01-26T20:25:45.540Z"
   },
   {
    "duration": 10,
    "start_time": "2024-01-26T20:25:45.578Z"
   },
   {
    "duration": 32,
    "start_time": "2024-01-26T20:25:45.589Z"
   },
   {
    "duration": 10,
    "start_time": "2024-01-26T20:26:19.797Z"
   },
   {
    "duration": 116,
    "start_time": "2024-01-26T20:35:09.316Z"
   },
   {
    "duration": 2,
    "start_time": "2024-01-26T20:35:09.434Z"
   },
   {
    "duration": 361,
    "start_time": "2024-01-26T20:35:09.437Z"
   },
   {
    "duration": 75,
    "start_time": "2024-01-26T20:35:09.800Z"
   },
   {
    "duration": 0,
    "start_time": "2024-01-26T20:35:09.882Z"
   },
   {
    "duration": 0,
    "start_time": "2024-01-26T20:35:09.884Z"
   },
   {
    "duration": 0,
    "start_time": "2024-01-26T20:35:09.885Z"
   },
   {
    "duration": 49,
    "start_time": "2024-01-26T20:35:20.927Z"
   },
   {
    "duration": 2,
    "start_time": "2024-01-26T20:35:20.978Z"
   },
   {
    "duration": 394,
    "start_time": "2024-01-26T20:35:20.982Z"
   },
   {
    "duration": 1210,
    "start_time": "2024-01-26T20:35:21.378Z"
   },
   {
    "duration": 11,
    "start_time": "2024-01-26T20:35:22.589Z"
   },
   {
    "duration": 14,
    "start_time": "2024-01-26T20:35:22.601Z"
   },
   {
    "duration": 28,
    "start_time": "2024-01-26T20:35:22.617Z"
   },
   {
    "duration": 90,
    "start_time": "2024-01-26T20:48:57.329Z"
   },
   {
    "duration": 58,
    "start_time": "2024-01-26T20:49:09.743Z"
   },
   {
    "duration": 2,
    "start_time": "2024-01-26T20:49:09.803Z"
   },
   {
    "duration": 613,
    "start_time": "2024-01-26T20:49:09.807Z"
   },
   {
    "duration": 969,
    "start_time": "2024-01-26T20:49:10.422Z"
   },
   {
    "duration": 9,
    "start_time": "2024-01-26T20:49:11.393Z"
   },
   {
    "duration": 26,
    "start_time": "2024-01-26T20:49:11.403Z"
   },
   {
    "duration": 35,
    "start_time": "2024-01-26T20:49:11.431Z"
   },
   {
    "duration": 234,
    "start_time": "2024-01-26T20:49:11.467Z"
   },
   {
    "duration": 161,
    "start_time": "2024-01-26T20:49:44.586Z"
   },
   {
    "duration": 159,
    "start_time": "2024-01-26T20:50:01.456Z"
   },
   {
    "duration": 166,
    "start_time": "2024-01-26T20:50:40.394Z"
   },
   {
    "duration": 199,
    "start_time": "2024-01-26T20:51:08.873Z"
   },
   {
    "duration": 155,
    "start_time": "2024-01-26T20:53:09.892Z"
   },
   {
    "duration": 151,
    "start_time": "2024-01-26T20:55:00.998Z"
   },
   {
    "duration": 139,
    "start_time": "2024-01-26T20:55:36.536Z"
   },
   {
    "duration": 137,
    "start_time": "2024-01-26T20:56:57.896Z"
   },
   {
    "duration": 62,
    "start_time": "2024-01-26T21:00:22.363Z"
   },
   {
    "duration": 3,
    "start_time": "2024-01-26T21:00:22.427Z"
   },
   {
    "duration": 719,
    "start_time": "2024-01-26T21:00:22.432Z"
   },
   {
    "duration": 1008,
    "start_time": "2024-01-26T21:00:23.153Z"
   },
   {
    "duration": 10,
    "start_time": "2024-01-26T21:00:24.162Z"
   },
   {
    "duration": 18,
    "start_time": "2024-01-26T21:00:24.173Z"
   },
   {
    "duration": 47,
    "start_time": "2024-01-26T21:00:24.193Z"
   },
   {
    "duration": 154,
    "start_time": "2024-01-26T21:00:24.242Z"
   },
   {
    "duration": 71,
    "start_time": "2024-01-26T21:00:24.397Z"
   },
   {
    "duration": 0,
    "start_time": "2024-01-26T21:00:24.469Z"
   },
   {
    "duration": 0,
    "start_time": "2024-01-26T21:00:24.482Z"
   },
   {
    "duration": 0,
    "start_time": "2024-01-26T21:00:24.483Z"
   },
   {
    "duration": 0,
    "start_time": "2024-01-26T21:00:24.484Z"
   },
   {
    "duration": 49,
    "start_time": "2024-01-26T21:01:33.660Z"
   },
   {
    "duration": 3,
    "start_time": "2024-01-26T21:01:33.710Z"
   },
   {
    "duration": 2604,
    "start_time": "2024-01-26T21:01:33.714Z"
   },
   {
    "duration": 1086,
    "start_time": "2024-01-26T21:01:36.320Z"
   },
   {
    "duration": 14,
    "start_time": "2024-01-26T21:01:37.408Z"
   },
   {
    "duration": 23,
    "start_time": "2024-01-26T21:01:37.424Z"
   },
   {
    "duration": 42,
    "start_time": "2024-01-26T21:01:37.448Z"
   },
   {
    "duration": 175,
    "start_time": "2024-01-26T21:01:37.492Z"
   },
   {
    "duration": 0,
    "start_time": "2024-01-26T21:01:37.669Z"
   },
   {
    "duration": 0,
    "start_time": "2024-01-26T21:01:37.670Z"
   },
   {
    "duration": 0,
    "start_time": "2024-01-26T21:01:37.671Z"
   },
   {
    "duration": 0,
    "start_time": "2024-01-26T21:01:37.682Z"
   },
   {
    "duration": 0,
    "start_time": "2024-01-26T21:01:37.683Z"
   },
   {
    "duration": 56,
    "start_time": "2024-01-26T21:02:22.991Z"
   },
   {
    "duration": 3,
    "start_time": "2024-01-26T21:02:23.049Z"
   },
   {
    "duration": 3060,
    "start_time": "2024-01-26T21:02:23.054Z"
   },
   {
    "duration": 913,
    "start_time": "2024-01-26T21:02:26.116Z"
   },
   {
    "duration": 12,
    "start_time": "2024-01-26T21:02:27.030Z"
   },
   {
    "duration": 30,
    "start_time": "2024-01-26T21:02:27.044Z"
   },
   {
    "duration": 37,
    "start_time": "2024-01-26T21:02:27.076Z"
   },
   {
    "duration": 165,
    "start_time": "2024-01-26T21:02:27.115Z"
   },
   {
    "duration": 4,
    "start_time": "2024-01-26T21:02:27.282Z"
   },
   {
    "duration": 5,
    "start_time": "2024-01-26T21:02:27.289Z"
   },
   {
    "duration": 191,
    "start_time": "2024-01-26T21:02:27.296Z"
   },
   {
    "duration": 0,
    "start_time": "2024-01-26T21:02:27.489Z"
   },
   {
    "duration": 0,
    "start_time": "2024-01-26T21:02:27.491Z"
   },
   {
    "duration": 2116,
    "start_time": "2024-01-26T21:04:27.630Z"
   },
   {
    "duration": 87143,
    "start_time": "2024-01-26T21:04:34.189Z"
   },
   {
    "duration": 4,
    "start_time": "2024-01-26T21:07:40.990Z"
   },
   {
    "duration": 12,
    "start_time": "2024-01-26T21:13:43.525Z"
   },
   {
    "duration": 11,
    "start_time": "2024-01-26T21:13:48.264Z"
   },
   {
    "duration": 50,
    "start_time": "2024-01-26T21:14:19.746Z"
   },
   {
    "duration": 4,
    "start_time": "2024-01-26T21:14:22.838Z"
   },
   {
    "duration": 4,
    "start_time": "2024-01-26T21:15:32.901Z"
   },
   {
    "duration": 3,
    "start_time": "2024-01-26T21:19:43.874Z"
   },
   {
    "duration": 5430,
    "start_time": "2024-01-26T21:19:47.379Z"
   },
   {
    "duration": 1313,
    "start_time": "2024-01-26T21:19:55.742Z"
   },
   {
    "duration": 4,
    "start_time": "2024-01-26T21:20:01.140Z"
   },
   {
    "duration": 209,
    "start_time": "2024-01-26T21:36:43.314Z"
   },
   {
    "duration": 1830696,
    "start_time": "2024-01-26T21:47:11.904Z"
   },
   {
    "duration": 48,
    "start_time": "2024-01-26T22:17:51.163Z"
   },
   {
    "duration": 3,
    "start_time": "2024-01-26T22:17:51.213Z"
   },
   {
    "duration": 2830,
    "start_time": "2024-01-26T22:17:51.217Z"
   },
   {
    "duration": 953,
    "start_time": "2024-01-26T22:17:54.049Z"
   },
   {
    "duration": 12,
    "start_time": "2024-01-26T22:17:55.003Z"
   },
   {
    "duration": 28,
    "start_time": "2024-01-26T22:17:55.017Z"
   },
   {
    "duration": 75,
    "start_time": "2024-01-26T22:17:55.047Z"
   },
   {
    "duration": 234,
    "start_time": "2024-01-26T22:17:55.124Z"
   },
   {
    "duration": 149,
    "start_time": "2024-01-26T22:17:55.360Z"
   },
   {
    "duration": 3,
    "start_time": "2024-01-26T22:17:55.512Z"
   },
   {
    "duration": 31,
    "start_time": "2024-01-26T22:17:55.516Z"
   },
   {
    "duration": 2169,
    "start_time": "2024-01-26T22:17:55.549Z"
   },
   {
    "duration": 87823,
    "start_time": "2024-01-26T22:17:57.720Z"
   },
   {
    "duration": 4,
    "start_time": "2024-01-26T22:19:25.545Z"
   },
   {
    "duration": 61,
    "start_time": "2024-01-26T22:19:25.550Z"
   },
   {
    "duration": 4,
    "start_time": "2024-01-26T22:19:25.613Z"
   },
   {
    "duration": 8,
    "start_time": "2024-01-26T22:19:25.618Z"
   },
   {
    "duration": 5377,
    "start_time": "2024-01-26T22:19:25.628Z"
   },
   {
    "duration": 1376,
    "start_time": "2024-01-26T22:19:31.006Z"
   },
   {
    "duration": 4,
    "start_time": "2024-01-26T22:19:32.383Z"
   },
   {
    "duration": 1097771,
    "start_time": "2024-01-26T22:19:32.389Z"
   },
   {
    "duration": 0,
    "start_time": "2024-01-26T22:37:50.162Z"
   },
   {
    "duration": 0,
    "start_time": "2024-01-26T22:37:50.164Z"
   },
   {
    "duration": 0,
    "start_time": "2024-01-26T22:37:50.165Z"
   },
   {
    "duration": 0,
    "start_time": "2024-01-26T22:37:50.166Z"
   },
   {
    "duration": 0,
    "start_time": "2024-01-26T22:37:50.167Z"
   },
   {
    "duration": 0,
    "start_time": "2024-01-26T22:37:50.168Z"
   },
   {
    "duration": 0,
    "start_time": "2024-01-26T22:37:50.181Z"
   },
   {
    "duration": 0,
    "start_time": "2024-01-26T22:37:50.182Z"
   },
   {
    "duration": 0,
    "start_time": "2024-01-26T22:37:50.184Z"
   },
   {
    "duration": 83,
    "start_time": "2024-01-26T22:37:55.238Z"
   },
   {
    "duration": 63224,
    "start_time": "2024-01-26T22:37:59.969Z"
   },
   {
    "duration": 12,
    "start_time": "2024-01-26T22:39:26.351Z"
   },
   {
    "duration": 6,
    "start_time": "2024-01-26T22:40:06.161Z"
   },
   {
    "duration": 76403,
    "start_time": "2024-01-26T22:40:17.180Z"
   },
   {
    "duration": 75,
    "start_time": "2024-01-26T22:41:51.472Z"
   },
   {
    "duration": 3,
    "start_time": "2024-01-26T22:42:42.061Z"
   },
   {
    "duration": 37150,
    "start_time": "2024-01-26T22:43:01.234Z"
   },
   {
    "duration": 73907,
    "start_time": "2024-01-26T22:47:51.688Z"
   },
   {
    "duration": 3,
    "start_time": "2024-01-26T22:49:22.595Z"
   },
   {
    "duration": 12,
    "start_time": "2024-01-26T22:49:33.948Z"
   },
   {
    "duration": 59,
    "start_time": "2024-01-27T08:52:25.977Z"
   },
   {
    "duration": 2,
    "start_time": "2024-01-27T08:52:26.038Z"
   },
   {
    "duration": 3240,
    "start_time": "2024-01-27T08:52:26.042Z"
   },
   {
    "duration": 3308,
    "start_time": "2024-01-27T08:52:29.284Z"
   },
   {
    "duration": 13,
    "start_time": "2024-01-27T08:52:32.594Z"
   },
   {
    "duration": 13,
    "start_time": "2024-01-27T08:52:32.609Z"
   },
   {
    "duration": 38,
    "start_time": "2024-01-27T08:52:32.623Z"
   },
   {
    "duration": 248,
    "start_time": "2024-01-27T08:52:32.663Z"
   },
   {
    "duration": 169,
    "start_time": "2024-01-27T08:52:32.913Z"
   },
   {
    "duration": 3,
    "start_time": "2024-01-27T08:52:33.085Z"
   },
   {
    "duration": 9,
    "start_time": "2024-01-27T08:52:33.089Z"
   },
   {
    "duration": 2260,
    "start_time": "2024-01-27T08:52:33.099Z"
   },
   {
    "duration": 91186,
    "start_time": "2024-01-27T08:52:35.361Z"
   },
   {
    "duration": 4,
    "start_time": "2024-01-27T08:54:06.548Z"
   },
   {
    "duration": 119,
    "start_time": "2024-01-27T08:54:06.553Z"
   },
   {
    "duration": 6,
    "start_time": "2024-01-27T08:54:06.673Z"
   },
   {
    "duration": 5,
    "start_time": "2024-01-27T08:54:06.681Z"
   },
   {
    "duration": 5783,
    "start_time": "2024-01-27T08:54:06.687Z"
   },
   {
    "duration": 1351,
    "start_time": "2024-01-27T08:54:12.471Z"
   },
   {
    "duration": 5,
    "start_time": "2024-01-27T08:54:13.824Z"
   },
   {
    "duration": 10,
    "start_time": "2024-01-27T08:54:13.830Z"
   },
   {
    "duration": 88,
    "start_time": "2024-01-27T08:54:13.842Z"
   },
   {
    "duration": 0,
    "start_time": "2024-01-27T08:54:13.933Z"
   },
   {
    "duration": 0,
    "start_time": "2024-01-27T08:54:13.934Z"
   },
   {
    "duration": 0,
    "start_time": "2024-01-27T08:54:13.936Z"
   },
   {
    "duration": 0,
    "start_time": "2024-01-27T08:54:13.938Z"
   },
   {
    "duration": 0,
    "start_time": "2024-01-27T08:54:13.939Z"
   },
   {
    "duration": 0,
    "start_time": "2024-01-27T08:54:13.941Z"
   },
   {
    "duration": 0,
    "start_time": "2024-01-27T08:54:13.942Z"
   },
   {
    "duration": 0,
    "start_time": "2024-01-27T08:54:13.944Z"
   },
   {
    "duration": 0,
    "start_time": "2024-01-27T08:54:13.945Z"
   },
   {
    "duration": 0,
    "start_time": "2024-01-27T08:54:13.947Z"
   },
   {
    "duration": 0,
    "start_time": "2024-01-27T08:54:13.949Z"
   },
   {
    "duration": 0,
    "start_time": "2024-01-27T08:54:13.950Z"
   },
   {
    "duration": 0,
    "start_time": "2024-01-27T08:54:13.951Z"
   },
   {
    "duration": 0,
    "start_time": "2024-01-27T08:54:13.953Z"
   },
   {
    "duration": 54,
    "start_time": "2024-01-27T08:55:04.136Z"
   },
   {
    "duration": 2,
    "start_time": "2024-01-27T08:55:04.192Z"
   },
   {
    "duration": 3183,
    "start_time": "2024-01-27T08:55:04.196Z"
   },
   {
    "duration": 991,
    "start_time": "2024-01-27T08:55:07.381Z"
   },
   {
    "duration": 17,
    "start_time": "2024-01-27T08:55:08.374Z"
   },
   {
    "duration": 12,
    "start_time": "2024-01-27T08:55:08.393Z"
   },
   {
    "duration": 35,
    "start_time": "2024-01-27T08:55:08.407Z"
   },
   {
    "duration": 261,
    "start_time": "2024-01-27T08:55:08.444Z"
   },
   {
    "duration": 176,
    "start_time": "2024-01-27T08:55:08.706Z"
   },
   {
    "duration": 3,
    "start_time": "2024-01-27T08:55:08.885Z"
   },
   {
    "duration": 14,
    "start_time": "2024-01-27T08:55:08.889Z"
   },
   {
    "duration": 2461,
    "start_time": "2024-01-27T08:55:08.905Z"
   },
   {
    "duration": 91689,
    "start_time": "2024-01-27T08:55:11.368Z"
   },
   {
    "duration": 4,
    "start_time": "2024-01-27T08:56:43.058Z"
   },
   {
    "duration": 61,
    "start_time": "2024-01-27T08:56:43.064Z"
   },
   {
    "duration": 4,
    "start_time": "2024-01-27T08:56:43.127Z"
   },
   {
    "duration": 4,
    "start_time": "2024-01-27T08:56:43.132Z"
   },
   {
    "duration": 5726,
    "start_time": "2024-01-27T08:56:43.137Z"
   },
   {
    "duration": 1398,
    "start_time": "2024-01-27T08:56:48.865Z"
   },
   {
    "duration": 4,
    "start_time": "2024-01-27T08:56:50.265Z"
   },
   {
    "duration": 9,
    "start_time": "2024-01-27T08:56:50.271Z"
   },
   {
    "duration": 4,
    "start_time": "2024-01-27T08:56:50.282Z"
   },
   {
    "duration": 80297,
    "start_time": "2024-01-27T08:56:50.287Z"
   },
   {
    "duration": 4,
    "start_time": "2024-01-27T08:58:10.586Z"
   },
   {
    "duration": 5,
    "start_time": "2024-01-27T08:58:10.591Z"
   },
   {
    "duration": 15,
    "start_time": "2024-01-27T08:58:10.598Z"
   },
   {
    "duration": 6558,
    "start_time": "2024-01-27T08:58:10.615Z"
   },
   {
    "duration": 3,
    "start_time": "2024-01-27T08:58:17.180Z"
   },
   {
    "duration": 8,
    "start_time": "2024-01-27T08:58:17.185Z"
   },
   {
    "duration": 12,
    "start_time": "2024-01-27T08:58:17.194Z"
   },
   {
    "duration": 183,
    "start_time": "2024-01-27T08:58:17.207Z"
   },
   {
    "duration": 0,
    "start_time": "2024-01-27T08:58:17.391Z"
   },
   {
    "duration": 0,
    "start_time": "2024-01-27T08:58:17.393Z"
   },
   {
    "duration": 0,
    "start_time": "2024-01-27T08:58:17.394Z"
   },
   {
    "duration": 0,
    "start_time": "2024-01-27T08:58:17.395Z"
   },
   {
    "duration": 0,
    "start_time": "2024-01-27T08:58:17.396Z"
   },
   {
    "duration": 28,
    "start_time": "2024-01-27T09:00:05.127Z"
   },
   {
    "duration": 56,
    "start_time": "2024-01-27T09:00:27.582Z"
   },
   {
    "duration": 3,
    "start_time": "2024-01-27T09:00:27.639Z"
   },
   {
    "duration": 3357,
    "start_time": "2024-01-27T09:00:27.644Z"
   },
   {
    "duration": 3328,
    "start_time": "2024-01-27T09:00:31.003Z"
   },
   {
    "duration": 13,
    "start_time": "2024-01-27T09:00:34.333Z"
   },
   {
    "duration": 20,
    "start_time": "2024-01-27T09:00:34.349Z"
   },
   {
    "duration": 48,
    "start_time": "2024-01-27T09:00:34.371Z"
   },
   {
    "duration": 242,
    "start_time": "2024-01-27T09:00:34.421Z"
   },
   {
    "duration": 168,
    "start_time": "2024-01-27T09:00:34.665Z"
   },
   {
    "duration": 3,
    "start_time": "2024-01-27T09:00:34.835Z"
   },
   {
    "duration": 6,
    "start_time": "2024-01-27T09:00:34.840Z"
   },
   {
    "duration": 2243,
    "start_time": "2024-01-27T09:00:34.848Z"
   },
   {
    "duration": 91375,
    "start_time": "2024-01-27T09:00:37.092Z"
   },
   {
    "duration": 3,
    "start_time": "2024-01-27T09:02:08.469Z"
   },
   {
    "duration": 55,
    "start_time": "2024-01-27T09:02:08.481Z"
   },
   {
    "duration": 5,
    "start_time": "2024-01-27T09:02:08.537Z"
   },
   {
    "duration": 7,
    "start_time": "2024-01-27T09:02:08.544Z"
   },
   {
    "duration": 5714,
    "start_time": "2024-01-27T09:02:08.553Z"
   },
   {
    "duration": 1440,
    "start_time": "2024-01-27T09:02:14.269Z"
   },
   {
    "duration": 5,
    "start_time": "2024-01-27T09:02:15.711Z"
   },
   {
    "duration": 15,
    "start_time": "2024-01-27T09:02:15.718Z"
   },
   {
    "duration": 27,
    "start_time": "2024-01-27T09:02:15.734Z"
   },
   {
    "duration": 84619,
    "start_time": "2024-01-27T09:02:15.763Z"
   },
   {
    "duration": 4,
    "start_time": "2024-01-27T09:03:40.383Z"
   },
   {
    "duration": 92,
    "start_time": "2024-01-27T09:03:40.389Z"
   },
   {
    "duration": 23,
    "start_time": "2024-01-27T09:03:40.484Z"
   },
   {
    "duration": 6836,
    "start_time": "2024-01-27T09:03:40.509Z"
   },
   {
    "duration": 4,
    "start_time": "2024-01-27T09:03:47.348Z"
   },
   {
    "duration": 6,
    "start_time": "2024-01-27T09:03:47.354Z"
   },
   {
    "duration": 5,
    "start_time": "2024-01-27T09:03:47.361Z"
   },
   {
    "duration": 52,
    "start_time": "2024-01-27T09:04:29.298Z"
   },
   {
    "duration": 7,
    "start_time": "2024-01-27T09:05:24.293Z"
   },
   {
    "duration": 8,
    "start_time": "2024-01-27T09:06:03.442Z"
   },
   {
    "duration": 52,
    "start_time": "2024-01-27T09:06:19.916Z"
   },
   {
    "duration": 3,
    "start_time": "2024-01-27T09:06:19.970Z"
   },
   {
    "duration": 3265,
    "start_time": "2024-01-27T09:06:19.974Z"
   },
   {
    "duration": 3367,
    "start_time": "2024-01-27T09:06:23.242Z"
   },
   {
    "duration": 14,
    "start_time": "2024-01-27T09:06:26.611Z"
   },
   {
    "duration": 17,
    "start_time": "2024-01-27T09:06:26.627Z"
   },
   {
    "duration": 44,
    "start_time": "2024-01-27T09:06:26.645Z"
   },
   {
    "duration": 261,
    "start_time": "2024-01-27T09:06:26.690Z"
   },
   {
    "duration": 186,
    "start_time": "2024-01-27T09:06:26.953Z"
   },
   {
    "duration": 3,
    "start_time": "2024-01-27T09:06:27.142Z"
   },
   {
    "duration": 18,
    "start_time": "2024-01-27T09:06:27.147Z"
   },
   {
    "duration": 2458,
    "start_time": "2024-01-27T09:06:27.167Z"
   },
   {
    "duration": 92612,
    "start_time": "2024-01-27T09:06:29.626Z"
   },
   {
    "duration": 4,
    "start_time": "2024-01-27T09:08:02.240Z"
   },
   {
    "duration": 72,
    "start_time": "2024-01-27T09:08:02.246Z"
   },
   {
    "duration": 3,
    "start_time": "2024-01-27T09:08:02.320Z"
   },
   {
    "duration": 9,
    "start_time": "2024-01-27T09:08:02.325Z"
   },
   {
    "duration": 5492,
    "start_time": "2024-01-27T09:08:02.335Z"
   },
   {
    "duration": 1431,
    "start_time": "2024-01-27T09:08:07.828Z"
   },
   {
    "duration": 3,
    "start_time": "2024-01-27T09:08:09.261Z"
   },
   {
    "duration": 19,
    "start_time": "2024-01-27T09:08:09.266Z"
   },
   {
    "duration": 13,
    "start_time": "2024-01-27T09:08:09.287Z"
   },
   {
    "duration": 80889,
    "start_time": "2024-01-27T09:08:09.302Z"
   },
   {
    "duration": 5,
    "start_time": "2024-01-27T09:09:30.193Z"
   },
   {
    "duration": 55,
    "start_time": "2024-01-27T09:09:30.200Z"
   },
   {
    "duration": 67,
    "start_time": "2024-01-27T09:09:30.257Z"
   },
   {
    "duration": 6189,
    "start_time": "2024-01-27T09:09:30.325Z"
   },
   {
    "duration": 5,
    "start_time": "2024-01-27T09:09:36.518Z"
   },
   {
    "duration": 12,
    "start_time": "2024-01-27T09:09:36.525Z"
   },
   {
    "duration": 10,
    "start_time": "2024-01-27T09:09:36.539Z"
   },
   {
    "duration": 52,
    "start_time": "2024-01-27T09:14:32.211Z"
   },
   {
    "duration": 3,
    "start_time": "2024-01-27T09:14:32.265Z"
   },
   {
    "duration": 3223,
    "start_time": "2024-01-27T09:14:32.270Z"
   },
   {
    "duration": 3378,
    "start_time": "2024-01-27T09:14:35.496Z"
   },
   {
    "duration": 14,
    "start_time": "2024-01-27T09:14:38.877Z"
   },
   {
    "duration": 12,
    "start_time": "2024-01-27T09:14:38.893Z"
   },
   {
    "duration": 37,
    "start_time": "2024-01-27T09:14:38.907Z"
   },
   {
    "duration": 252,
    "start_time": "2024-01-27T09:14:38.945Z"
   },
   {
    "duration": 159,
    "start_time": "2024-01-27T09:14:39.199Z"
   },
   {
    "duration": 3,
    "start_time": "2024-01-27T09:14:39.361Z"
   },
   {
    "duration": 14,
    "start_time": "2024-01-27T09:14:39.366Z"
   },
   {
    "duration": 2465,
    "start_time": "2024-01-27T09:14:39.382Z"
   },
   {
    "duration": 91407,
    "start_time": "2024-01-27T09:14:41.849Z"
   },
   {
    "duration": 4,
    "start_time": "2024-01-27T09:16:13.257Z"
   },
   {
    "duration": 59,
    "start_time": "2024-01-27T09:16:13.262Z"
   },
   {
    "duration": 4,
    "start_time": "2024-01-27T09:16:13.323Z"
   },
   {
    "duration": 4,
    "start_time": "2024-01-27T09:16:13.329Z"
   },
   {
    "duration": 5771,
    "start_time": "2024-01-27T09:16:13.334Z"
   },
   {
    "duration": 1391,
    "start_time": "2024-01-27T09:16:19.107Z"
   },
   {
    "duration": 4,
    "start_time": "2024-01-27T09:16:20.500Z"
   },
   {
    "duration": 4,
    "start_time": "2024-01-27T09:16:20.507Z"
   },
   {
    "duration": 8,
    "start_time": "2024-01-27T09:16:20.513Z"
   },
   {
    "duration": 80662,
    "start_time": "2024-01-27T09:16:20.523Z"
   },
   {
    "duration": 3,
    "start_time": "2024-01-27T09:17:41.187Z"
   },
   {
    "duration": 23,
    "start_time": "2024-01-27T09:17:41.192Z"
   },
   {
    "duration": 6652,
    "start_time": "2024-01-27T09:17:41.217Z"
   },
   {
    "duration": 3,
    "start_time": "2024-01-27T09:17:47.870Z"
   },
   {
    "duration": 8,
    "start_time": "2024-01-27T09:17:47.875Z"
   },
   {
    "duration": 5,
    "start_time": "2024-01-27T09:17:47.885Z"
   },
   {
    "duration": 11,
    "start_time": "2024-01-27T09:17:47.891Z"
   },
   {
    "duration": 24,
    "start_time": "2024-01-27T09:17:47.904Z"
   },
   {
    "duration": 38,
    "start_time": "2024-01-27T09:17:47.930Z"
   },
   {
    "duration": 57,
    "start_time": "2024-01-27T09:19:08.596Z"
   },
   {
    "duration": 8,
    "start_time": "2024-01-27T09:19:52.285Z"
   },
   {
    "duration": 52,
    "start_time": "2024-01-27T09:20:37.911Z"
   },
   {
    "duration": 3,
    "start_time": "2024-01-27T09:20:37.965Z"
   },
   {
    "duration": 3234,
    "start_time": "2024-01-27T09:20:37.970Z"
   },
   {
    "duration": 3293,
    "start_time": "2024-01-27T09:20:41.206Z"
   },
   {
    "duration": 14,
    "start_time": "2024-01-27T09:20:44.500Z"
   },
   {
    "duration": 13,
    "start_time": "2024-01-27T09:20:44.516Z"
   },
   {
    "duration": 59,
    "start_time": "2024-01-27T09:20:44.531Z"
   },
   {
    "duration": 240,
    "start_time": "2024-01-27T09:20:44.591Z"
   },
   {
    "duration": 169,
    "start_time": "2024-01-27T09:20:44.833Z"
   },
   {
    "duration": 4,
    "start_time": "2024-01-27T09:20:45.005Z"
   },
   {
    "duration": 32,
    "start_time": "2024-01-27T09:20:45.010Z"
   },
   {
    "duration": 2249,
    "start_time": "2024-01-27T09:20:45.044Z"
   },
   {
    "duration": 91091,
    "start_time": "2024-01-27T09:20:47.296Z"
   },
   {
    "duration": 4,
    "start_time": "2024-01-27T09:22:18.388Z"
   },
   {
    "duration": 64,
    "start_time": "2024-01-27T09:22:18.393Z"
   },
   {
    "duration": 5,
    "start_time": "2024-01-27T09:22:18.458Z"
   },
   {
    "duration": 15,
    "start_time": "2024-01-27T09:22:18.464Z"
   },
   {
    "duration": 5899,
    "start_time": "2024-01-27T09:22:18.481Z"
   },
   {
    "duration": 1406,
    "start_time": "2024-01-27T09:22:24.382Z"
   },
   {
    "duration": 4,
    "start_time": "2024-01-27T09:22:25.790Z"
   },
   {
    "duration": 36,
    "start_time": "2024-01-27T09:22:25.796Z"
   },
   {
    "duration": 28,
    "start_time": "2024-01-27T09:22:25.833Z"
   },
   {
    "duration": 82019,
    "start_time": "2024-01-27T09:22:25.863Z"
   },
   {
    "duration": 2,
    "start_time": "2024-01-27T09:23:47.884Z"
   },
   {
    "duration": 19,
    "start_time": "2024-01-27T09:23:47.887Z"
   },
   {
    "duration": 6558,
    "start_time": "2024-01-27T09:23:47.908Z"
   },
   {
    "duration": 3,
    "start_time": "2024-01-27T09:23:54.467Z"
   },
   {
    "duration": 4,
    "start_time": "2024-01-27T09:23:54.481Z"
   },
   {
    "duration": 4,
    "start_time": "2024-01-27T09:23:54.487Z"
   },
   {
    "duration": 5,
    "start_time": "2024-01-27T09:23:54.493Z"
   },
   {
    "duration": 12,
    "start_time": "2024-01-27T09:23:54.506Z"
   },
   {
    "duration": 27,
    "start_time": "2024-01-27T09:23:54.520Z"
   },
   {
    "duration": 10,
    "start_time": "2024-01-27T09:23:54.549Z"
   },
   {
    "duration": 184,
    "start_time": "2024-01-27T09:23:54.562Z"
   },
   {
    "duration": 12,
    "start_time": "2024-01-27T09:24:40.033Z"
   },
   {
    "duration": 12,
    "start_time": "2024-01-27T09:25:08.472Z"
   },
   {
    "duration": 55,
    "start_time": "2024-01-27T09:44:19.727Z"
   },
   {
    "duration": 3,
    "start_time": "2024-01-27T09:44:19.784Z"
   },
   {
    "duration": 3053,
    "start_time": "2024-01-27T09:44:19.788Z"
   },
   {
    "duration": 989,
    "start_time": "2024-01-27T09:44:22.843Z"
   },
   {
    "duration": 14,
    "start_time": "2024-01-27T09:44:23.834Z"
   },
   {
    "duration": 12,
    "start_time": "2024-01-27T09:44:23.849Z"
   },
   {
    "duration": 50,
    "start_time": "2024-01-27T09:44:23.862Z"
   },
   {
    "duration": 241,
    "start_time": "2024-01-27T09:44:23.913Z"
   },
   {
    "duration": 159,
    "start_time": "2024-01-27T09:44:24.156Z"
   },
   {
    "duration": 3,
    "start_time": "2024-01-27T09:44:24.317Z"
   },
   {
    "duration": 7,
    "start_time": "2024-01-27T09:44:24.321Z"
   },
   {
    "duration": 2441,
    "start_time": "2024-01-27T09:44:24.329Z"
   },
   {
    "duration": 89943,
    "start_time": "2024-01-27T09:44:26.772Z"
   },
   {
    "duration": 4,
    "start_time": "2024-01-27T09:45:56.719Z"
   },
   {
    "duration": 85,
    "start_time": "2024-01-27T09:45:56.724Z"
   },
   {
    "duration": 4,
    "start_time": "2024-01-27T09:45:56.811Z"
   },
   {
    "duration": 16,
    "start_time": "2024-01-27T09:45:56.817Z"
   },
   {
    "duration": 5822,
    "start_time": "2024-01-27T09:45:56.835Z"
   },
   {
    "duration": 1406,
    "start_time": "2024-01-27T09:46:02.658Z"
   },
   {
    "duration": 5,
    "start_time": "2024-01-27T09:46:04.065Z"
   },
   {
    "duration": 11,
    "start_time": "2024-01-27T09:46:04.071Z"
   },
   {
    "duration": 11,
    "start_time": "2024-01-27T09:46:04.084Z"
   },
   {
    "duration": 8,
    "start_time": "2024-01-27T09:46:04.097Z"
   },
   {
    "duration": 203031,
    "start_time": "2024-01-27T09:46:04.106Z"
   },
   {
    "duration": 0,
    "start_time": "2024-01-27T09:49:27.139Z"
   },
   {
    "duration": 0,
    "start_time": "2024-01-27T09:49:27.140Z"
   },
   {
    "duration": 0,
    "start_time": "2024-01-27T09:49:27.141Z"
   },
   {
    "duration": 0,
    "start_time": "2024-01-27T09:49:27.142Z"
   },
   {
    "duration": 0,
    "start_time": "2024-01-27T09:49:27.143Z"
   },
   {
    "duration": 0,
    "start_time": "2024-01-27T09:49:27.144Z"
   },
   {
    "duration": 0,
    "start_time": "2024-01-27T09:49:27.145Z"
   },
   {
    "duration": 0,
    "start_time": "2024-01-27T09:49:27.146Z"
   },
   {
    "duration": 0,
    "start_time": "2024-01-27T09:49:27.148Z"
   },
   {
    "duration": 0,
    "start_time": "2024-01-27T09:49:27.149Z"
   },
   {
    "duration": 0,
    "start_time": "2024-01-27T09:49:27.149Z"
   },
   {
    "duration": 0,
    "start_time": "2024-01-27T09:49:27.150Z"
   },
   {
    "duration": 0,
    "start_time": "2024-01-27T09:49:27.151Z"
   },
   {
    "duration": 59,
    "start_time": "2024-01-27T09:50:04.795Z"
   },
   {
    "duration": 3,
    "start_time": "2024-01-27T09:50:04.856Z"
   },
   {
    "duration": 3155,
    "start_time": "2024-01-27T09:50:04.863Z"
   },
   {
    "duration": 978,
    "start_time": "2024-01-27T09:50:08.020Z"
   },
   {
    "duration": 13,
    "start_time": "2024-01-27T09:50:09.002Z"
   },
   {
    "duration": 21,
    "start_time": "2024-01-27T09:50:09.016Z"
   },
   {
    "duration": 41,
    "start_time": "2024-01-27T09:50:09.039Z"
   },
   {
    "duration": 235,
    "start_time": "2024-01-27T09:50:09.082Z"
   },
   {
    "duration": 163,
    "start_time": "2024-01-27T09:50:09.320Z"
   },
   {
    "duration": 3,
    "start_time": "2024-01-27T09:50:09.485Z"
   },
   {
    "duration": 32,
    "start_time": "2024-01-27T09:50:09.490Z"
   },
   {
    "duration": 2267,
    "start_time": "2024-01-27T09:50:09.523Z"
   },
   {
    "duration": 92544,
    "start_time": "2024-01-27T09:50:11.791Z"
   },
   {
    "duration": 4,
    "start_time": "2024-01-27T09:51:44.336Z"
   },
   {
    "duration": 78,
    "start_time": "2024-01-27T09:51:44.341Z"
   },
   {
    "duration": 4,
    "start_time": "2024-01-27T09:51:44.421Z"
   },
   {
    "duration": 11,
    "start_time": "2024-01-27T09:51:44.426Z"
   },
   {
    "duration": 5726,
    "start_time": "2024-01-27T09:51:44.438Z"
   },
   {
    "duration": 1395,
    "start_time": "2024-01-27T09:51:50.165Z"
   },
   {
    "duration": 3,
    "start_time": "2024-01-27T09:51:51.562Z"
   },
   {
    "duration": 15,
    "start_time": "2024-01-27T09:51:51.567Z"
   },
   {
    "duration": 8,
    "start_time": "2024-01-27T09:51:51.584Z"
   },
   {
    "duration": 11,
    "start_time": "2024-01-27T09:51:51.593Z"
   },
   {
    "duration": 556575,
    "start_time": "2024-01-27T09:51:51.605Z"
   },
   {
    "duration": 0,
    "start_time": "2024-01-27T10:01:08.183Z"
   },
   {
    "duration": 1,
    "start_time": "2024-01-27T10:01:08.184Z"
   },
   {
    "duration": 0,
    "start_time": "2024-01-27T10:01:08.186Z"
   },
   {
    "duration": 0,
    "start_time": "2024-01-27T10:01:08.187Z"
   },
   {
    "duration": 0,
    "start_time": "2024-01-27T10:01:08.189Z"
   },
   {
    "duration": 0,
    "start_time": "2024-01-27T10:01:08.191Z"
   },
   {
    "duration": 0,
    "start_time": "2024-01-27T10:01:08.192Z"
   },
   {
    "duration": 0,
    "start_time": "2024-01-27T10:01:08.193Z"
   },
   {
    "duration": 0,
    "start_time": "2024-01-27T10:01:08.194Z"
   },
   {
    "duration": 0,
    "start_time": "2024-01-27T10:01:08.195Z"
   },
   {
    "duration": 0,
    "start_time": "2024-01-27T10:01:08.197Z"
   },
   {
    "duration": 0,
    "start_time": "2024-01-27T10:01:08.198Z"
   },
   {
    "duration": 0,
    "start_time": "2024-01-27T10:01:08.199Z"
   },
   {
    "duration": 57,
    "start_time": "2024-01-27T10:01:41.772Z"
   },
   {
    "duration": 3,
    "start_time": "2024-01-27T10:01:41.831Z"
   },
   {
    "duration": 3207,
    "start_time": "2024-01-27T10:01:41.839Z"
   },
   {
    "duration": 982,
    "start_time": "2024-01-27T10:01:45.047Z"
   },
   {
    "duration": 14,
    "start_time": "2024-01-27T10:01:46.031Z"
   },
   {
    "duration": 13,
    "start_time": "2024-01-27T10:01:46.046Z"
   },
   {
    "duration": 44,
    "start_time": "2024-01-27T10:01:46.060Z"
   },
   {
    "duration": 294,
    "start_time": "2024-01-27T10:01:46.105Z"
   },
   {
    "duration": 179,
    "start_time": "2024-01-27T10:01:46.402Z"
   },
   {
    "duration": 4,
    "start_time": "2024-01-27T10:01:46.582Z"
   },
   {
    "duration": 6,
    "start_time": "2024-01-27T10:01:46.587Z"
   },
   {
    "duration": 2347,
    "start_time": "2024-01-27T10:01:46.594Z"
   },
   {
    "duration": 90370,
    "start_time": "2024-01-27T10:01:48.943Z"
   },
   {
    "duration": 4,
    "start_time": "2024-01-27T10:03:19.314Z"
   },
   {
    "duration": 61,
    "start_time": "2024-01-27T10:03:19.319Z"
   },
   {
    "duration": 12,
    "start_time": "2024-01-27T10:03:19.382Z"
   },
   {
    "duration": 3,
    "start_time": "2024-01-27T10:03:19.395Z"
   },
   {
    "duration": 5688,
    "start_time": "2024-01-27T10:03:19.400Z"
   },
   {
    "duration": 1333,
    "start_time": "2024-01-27T10:03:25.090Z"
   },
   {
    "duration": 4,
    "start_time": "2024-01-27T10:03:26.424Z"
   },
   {
    "duration": 24,
    "start_time": "2024-01-27T10:03:26.430Z"
   },
   {
    "duration": 15,
    "start_time": "2024-01-27T10:03:26.456Z"
   },
   {
    "duration": 8,
    "start_time": "2024-01-27T10:03:26.472Z"
   },
   {
    "duration": 422106,
    "start_time": "2024-01-27T10:03:26.482Z"
   },
   {
    "duration": 128,
    "start_time": "2024-01-27T10:10:28.590Z"
   },
   {
    "duration": 0,
    "start_time": "2024-01-27T10:10:28.720Z"
   },
   {
    "duration": 0,
    "start_time": "2024-01-27T10:10:28.721Z"
   },
   {
    "duration": 0,
    "start_time": "2024-01-27T10:10:28.722Z"
   },
   {
    "duration": 0,
    "start_time": "2024-01-27T10:10:28.723Z"
   },
   {
    "duration": 0,
    "start_time": "2024-01-27T10:10:28.724Z"
   },
   {
    "duration": 0,
    "start_time": "2024-01-27T10:10:28.726Z"
   },
   {
    "duration": 0,
    "start_time": "2024-01-27T10:10:28.727Z"
   },
   {
    "duration": 0,
    "start_time": "2024-01-27T10:10:28.728Z"
   },
   {
    "duration": 0,
    "start_time": "2024-01-27T10:10:28.729Z"
   },
   {
    "duration": 0,
    "start_time": "2024-01-27T10:10:28.731Z"
   },
   {
    "duration": 0,
    "start_time": "2024-01-27T10:10:28.732Z"
   },
   {
    "duration": 0,
    "start_time": "2024-01-27T10:10:28.733Z"
   },
   {
    "duration": 0,
    "start_time": "2024-01-27T10:10:28.734Z"
   },
   {
    "duration": 1,
    "start_time": "2024-01-27T10:10:28.735Z"
   },
   {
    "duration": 165,
    "start_time": "2024-01-27T10:16:41.221Z"
   },
   {
    "duration": 59,
    "start_time": "2024-01-27T10:18:26.920Z"
   },
   {
    "duration": 3,
    "start_time": "2024-01-27T10:18:26.980Z"
   },
   {
    "duration": 3044,
    "start_time": "2024-01-27T10:18:26.985Z"
   },
   {
    "duration": 981,
    "start_time": "2024-01-27T10:18:30.031Z"
   },
   {
    "duration": 14,
    "start_time": "2024-01-27T10:18:31.014Z"
   },
   {
    "duration": 63,
    "start_time": "2024-01-27T10:18:31.030Z"
   },
   {
    "duration": 75,
    "start_time": "2024-01-27T10:18:31.096Z"
   },
   {
    "duration": 247,
    "start_time": "2024-01-27T10:18:31.173Z"
   },
   {
    "duration": 171,
    "start_time": "2024-01-27T10:18:31.422Z"
   },
   {
    "duration": 3,
    "start_time": "2024-01-27T10:18:31.597Z"
   },
   {
    "duration": 28,
    "start_time": "2024-01-27T10:18:31.602Z"
   },
   {
    "duration": 2351,
    "start_time": "2024-01-27T10:18:31.631Z"
   },
   {
    "duration": 90300,
    "start_time": "2024-01-27T10:18:33.984Z"
   },
   {
    "duration": 3,
    "start_time": "2024-01-27T10:20:04.286Z"
   },
   {
    "duration": 52,
    "start_time": "2024-01-27T10:20:04.290Z"
   },
   {
    "duration": 4,
    "start_time": "2024-01-27T10:20:04.344Z"
   },
   {
    "duration": 14,
    "start_time": "2024-01-27T10:20:04.349Z"
   },
   {
    "duration": 5740,
    "start_time": "2024-01-27T10:20:04.365Z"
   },
   {
    "duration": 1411,
    "start_time": "2024-01-27T10:20:10.107Z"
   },
   {
    "duration": 4,
    "start_time": "2024-01-27T10:20:11.520Z"
   },
   {
    "duration": 18,
    "start_time": "2024-01-27T10:20:11.526Z"
   },
   {
    "duration": 26,
    "start_time": "2024-01-27T10:20:11.545Z"
   },
   {
    "duration": 17,
    "start_time": "2024-01-27T10:20:11.572Z"
   },
   {
    "duration": 429397,
    "start_time": "2024-01-27T10:20:11.591Z"
   },
   {
    "duration": 4,
    "start_time": "2024-01-27T10:27:21.080Z"
   },
   {
    "duration": 99698,
    "start_time": "2024-01-27T10:27:21.086Z"
   },
   {
    "duration": 2,
    "start_time": "2024-01-27T10:29:00.786Z"
   },
   {
    "duration": 32518,
    "start_time": "2024-01-27T10:29:00.792Z"
   },
   {
    "duration": 79,
    "start_time": "2024-01-27T10:29:33.312Z"
   },
   {
    "duration": 0,
    "start_time": "2024-01-27T10:29:33.392Z"
   },
   {
    "duration": 0,
    "start_time": "2024-01-27T10:29:33.394Z"
   },
   {
    "duration": 1,
    "start_time": "2024-01-27T10:29:33.395Z"
   },
   {
    "duration": 0,
    "start_time": "2024-01-27T10:29:33.397Z"
   },
   {
    "duration": 0,
    "start_time": "2024-01-27T10:29:33.398Z"
   },
   {
    "duration": 0,
    "start_time": "2024-01-27T10:29:33.400Z"
   },
   {
    "duration": 0,
    "start_time": "2024-01-27T10:29:33.401Z"
   },
   {
    "duration": 0,
    "start_time": "2024-01-27T10:29:33.403Z"
   },
   {
    "duration": 0,
    "start_time": "2024-01-27T10:29:33.404Z"
   },
   {
    "duration": 0,
    "start_time": "2024-01-27T10:29:33.406Z"
   },
   {
    "duration": 4,
    "start_time": "2024-01-27T10:44:44.343Z"
   },
   {
    "duration": 183,
    "start_time": "2024-01-27T10:46:08.861Z"
   },
   {
    "duration": 6267,
    "start_time": "2024-01-27T10:46:54.062Z"
   },
   {
    "duration": 14,
    "start_time": "2024-01-27T10:47:06.539Z"
   },
   {
    "duration": 54,
    "start_time": "2024-01-27T17:17:27.792Z"
   },
   {
    "duration": 57,
    "start_time": "2024-01-27T17:38:53.127Z"
   },
   {
    "duration": 3,
    "start_time": "2024-01-27T17:38:53.186Z"
   },
   {
    "duration": 3356,
    "start_time": "2024-01-27T17:38:53.190Z"
   },
   {
    "duration": 3267,
    "start_time": "2024-01-27T17:38:56.549Z"
   },
   {
    "duration": 13,
    "start_time": "2024-01-27T17:38:59.817Z"
   },
   {
    "duration": 15,
    "start_time": "2024-01-27T17:38:59.831Z"
   },
   {
    "duration": 54,
    "start_time": "2024-01-27T17:38:59.847Z"
   },
   {
    "duration": 226,
    "start_time": "2024-01-27T17:38:59.904Z"
   },
   {
    "duration": 162,
    "start_time": "2024-01-27T17:39:00.131Z"
   },
   {
    "duration": 4,
    "start_time": "2024-01-27T17:39:00.295Z"
   },
   {
    "duration": 66,
    "start_time": "2024-01-27T17:39:00.300Z"
   },
   {
    "duration": 2471,
    "start_time": "2024-01-27T17:39:00.368Z"
   },
   {
    "duration": 90240,
    "start_time": "2024-01-27T17:39:02.840Z"
   },
   {
    "duration": 4,
    "start_time": "2024-01-27T17:40:33.082Z"
   },
   {
    "duration": 2,
    "start_time": "2024-01-27T17:40:33.090Z"
   },
   {
    "duration": 43,
    "start_time": "2024-01-27T17:40:33.094Z"
   },
   {
    "duration": 179,
    "start_time": "2024-01-27T17:40:33.138Z"
   },
   {
    "duration": 0,
    "start_time": "2024-01-27T17:40:33.318Z"
   },
   {
    "duration": 0,
    "start_time": "2024-01-27T17:40:33.319Z"
   },
   {
    "duration": 0,
    "start_time": "2024-01-27T17:40:33.320Z"
   },
   {
    "duration": 0,
    "start_time": "2024-01-27T17:40:33.322Z"
   },
   {
    "duration": 0,
    "start_time": "2024-01-27T17:40:33.323Z"
   },
   {
    "duration": 0,
    "start_time": "2024-01-27T17:40:33.324Z"
   },
   {
    "duration": 0,
    "start_time": "2024-01-27T17:40:33.331Z"
   },
   {
    "duration": 0,
    "start_time": "2024-01-27T17:40:33.332Z"
   },
   {
    "duration": 0,
    "start_time": "2024-01-27T17:40:33.333Z"
   },
   {
    "duration": 0,
    "start_time": "2024-01-27T17:40:33.334Z"
   },
   {
    "duration": 0,
    "start_time": "2024-01-27T17:40:33.335Z"
   },
   {
    "duration": 0,
    "start_time": "2024-01-27T17:40:33.336Z"
   },
   {
    "duration": 0,
    "start_time": "2024-01-27T17:40:33.337Z"
   },
   {
    "duration": 0,
    "start_time": "2024-01-27T17:40:33.338Z"
   },
   {
    "duration": 0,
    "start_time": "2024-01-27T17:40:33.339Z"
   },
   {
    "duration": 0,
    "start_time": "2024-01-27T17:40:33.340Z"
   },
   {
    "duration": 0,
    "start_time": "2024-01-27T17:40:33.341Z"
   },
   {
    "duration": 0,
    "start_time": "2024-01-27T17:40:33.380Z"
   },
   {
    "duration": 0,
    "start_time": "2024-01-27T17:40:33.382Z"
   },
   {
    "duration": 0,
    "start_time": "2024-01-27T17:40:33.383Z"
   },
   {
    "duration": 0,
    "start_time": "2024-01-27T17:40:33.384Z"
   },
   {
    "duration": 0,
    "start_time": "2024-01-27T17:40:33.385Z"
   },
   {
    "duration": 0,
    "start_time": "2024-01-27T17:40:33.386Z"
   },
   {
    "duration": 0,
    "start_time": "2024-01-27T17:40:33.387Z"
   },
   {
    "duration": 0,
    "start_time": "2024-01-27T17:40:33.387Z"
   },
   {
    "duration": 11,
    "start_time": "2024-01-27T17:42:13.714Z"
   },
   {
    "duration": 11,
    "start_time": "2024-01-27T17:43:55.323Z"
   },
   {
    "duration": 53,
    "start_time": "2024-01-27T17:44:30.023Z"
   },
   {
    "duration": 5,
    "start_time": "2024-01-27T17:44:32.437Z"
   },
   {
    "duration": 20,
    "start_time": "2024-01-27T17:50:58.785Z"
   },
   {
    "duration": 3,
    "start_time": "2024-01-27T17:51:07.380Z"
   },
   {
    "duration": 5417,
    "start_time": "2024-01-27T17:51:10.288Z"
   },
   {
    "duration": 1384,
    "start_time": "2024-01-27T17:52:23.038Z"
   },
   {
    "duration": 5,
    "start_time": "2024-01-27T17:52:27.205Z"
   },
   {
    "duration": 74,
    "start_time": "2024-01-27T17:53:27.527Z"
   },
   {
    "duration": 87947,
    "start_time": "2024-01-27T17:53:39.168Z"
   },
   {
    "duration": 1234581,
    "start_time": "2024-01-27T17:55:45.624Z"
   },
   {
    "duration": 7349,
    "start_time": "2024-01-27T18:16:25.860Z"
   },
   {
    "duration": 105045,
    "start_time": "2024-01-27T18:16:38.050Z"
   },
   {
    "duration": 16,
    "start_time": "2024-01-27T18:18:46.188Z"
   },
   {
    "duration": 8,
    "start_time": "2024-01-27T18:19:25.943Z"
   },
   {
    "duration": 108710,
    "start_time": "2024-01-27T18:19:36.136Z"
   },
   {
    "duration": 92950,
    "start_time": "2024-01-27T18:21:27.130Z"
   },
   {
    "duration": 479599,
    "start_time": "2024-01-27T18:23:14.895Z"
   },
   {
    "duration": 89,
    "start_time": "2024-01-27T18:32:27.786Z"
   },
   {
    "duration": 5,
    "start_time": "2024-01-27T18:32:44.706Z"
   },
   {
    "duration": 5,
    "start_time": "2024-01-27T18:33:23.611Z"
   },
   {
    "duration": 93137,
    "start_time": "2024-01-27T18:33:42.244Z"
   },
   {
    "duration": 5,
    "start_time": "2024-01-27T18:36:01.754Z"
   },
   {
    "duration": 19270,
    "start_time": "2024-01-27T18:36:56.306Z"
   },
   {
    "duration": 66,
    "start_time": "2024-01-27T18:37:39.153Z"
   },
   {
    "duration": 1128103,
    "start_time": "2024-01-27T18:38:45.987Z"
   },
   {
    "duration": 5,
    "start_time": "2024-01-27T18:58:08.715Z"
   },
   {
    "duration": 13,
    "start_time": "2024-01-27T18:58:15.238Z"
   },
   {
    "duration": 110368,
    "start_time": "2024-01-27T18:58:34.723Z"
   },
   {
    "duration": 41528,
    "start_time": "2024-01-27T19:01:28.820Z"
   },
   {
    "duration": 78,
    "start_time": "2024-01-27T19:02:42.133Z"
   },
   {
    "duration": 5,
    "start_time": "2024-01-27T19:03:24.897Z"
   },
   {
    "duration": 5561,
    "start_time": "2024-01-27T19:03:37.136Z"
   },
   {
    "duration": 18,
    "start_time": "2024-01-27T19:03:51.395Z"
   },
   {
    "duration": 294,
    "start_time": "2024-01-27T19:04:37.090Z"
   },
   {
    "duration": 12,
    "start_time": "2024-01-27T19:04:51.561Z"
   },
   {
    "duration": 122292,
    "start_time": "2024-01-27T19:05:32.390Z"
   },
   {
    "duration": 4,
    "start_time": "2024-01-27T19:07:44.152Z"
   },
   {
    "duration": 11018,
    "start_time": "2024-01-27T19:11:09.966Z"
   },
   {
    "duration": 7,
    "start_time": "2024-01-27T19:16:35.537Z"
   },
   {
    "duration": 167753,
    "start_time": "2024-01-27T19:16:46.635Z"
   },
   {
    "duration": 5,
    "start_time": "2024-01-27T19:19:38.723Z"
   },
   {
    "duration": 17,
    "start_time": "2024-01-27T19:29:19.000Z"
   },
   {
    "duration": 7,
    "start_time": "2024-01-27T19:29:30.673Z"
   },
   {
    "duration": 14,
    "start_time": "2024-01-27T19:29:37.769Z"
   },
   {
    "duration": 7,
    "start_time": "2024-01-27T19:30:16.246Z"
   },
   {
    "duration": 10602,
    "start_time": "2024-01-27T19:30:24.313Z"
   },
   {
    "duration": 10218,
    "start_time": "2024-01-27T19:32:32.795Z"
   },
   {
    "duration": 14,
    "start_time": "2024-01-27T19:39:42.674Z"
   },
   {
    "duration": 7,
    "start_time": "2024-01-27T19:40:10.586Z"
   },
   {
    "duration": 10297,
    "start_time": "2024-01-27T19:40:17.098Z"
   },
   {
    "duration": 10247,
    "start_time": "2024-01-27T19:40:47.334Z"
   },
   {
    "duration": 4,
    "start_time": "2024-01-27T19:42:39.003Z"
   },
   {
    "duration": 17,
    "start_time": "2024-01-27T19:42:49.994Z"
   },
   {
    "duration": 30,
    "start_time": "2024-01-27T19:49:01.965Z"
   },
   {
    "duration": 18,
    "start_time": "2024-01-27T19:49:10.274Z"
   },
   {
    "duration": 13,
    "start_time": "2024-01-27T19:49:26.361Z"
   },
   {
    "duration": 43848,
    "start_time": "2024-01-27T19:50:46.110Z"
   },
   {
    "duration": 4,
    "start_time": "2024-01-27T19:51:51.675Z"
   },
   {
    "duration": 10958,
    "start_time": "2024-01-27T19:52:34.228Z"
   },
   {
    "duration": 5,
    "start_time": "2024-01-27T19:56:07.180Z"
   },
   {
    "duration": 82,
    "start_time": "2024-01-27T19:57:10.967Z"
   },
   {
    "duration": 78,
    "start_time": "2024-01-27T19:57:39.069Z"
   },
   {
    "duration": 87,
    "start_time": "2024-01-27T19:57:54.067Z"
   },
   {
    "duration": 0,
    "start_time": "2024-01-27T20:05:02.864Z"
   },
   {
    "duration": 43839,
    "start_time": "2024-01-27T20:05:27.615Z"
   },
   {
    "duration": 107686,
    "start_time": "2024-01-27T20:06:51.845Z"
   },
   {
    "duration": 5,
    "start_time": "2024-01-27T20:08:47.491Z"
   },
   {
    "duration": 20829,
    "start_time": "2024-01-27T20:09:09.910Z"
   },
   {
    "duration": 12,
    "start_time": "2024-01-27T20:09:34.629Z"
   },
   {
    "duration": 55,
    "start_time": "2024-01-27T20:15:42.404Z"
   },
   {
    "duration": 3,
    "start_time": "2024-01-27T20:15:42.460Z"
   },
   {
    "duration": 1938,
    "start_time": "2024-01-27T20:15:42.464Z"
   },
   {
    "duration": 2,
    "start_time": "2024-01-27T20:15:44.404Z"
   },
   {
    "duration": 3488,
    "start_time": "2024-01-27T20:15:44.408Z"
   },
   {
    "duration": 11,
    "start_time": "2024-01-27T20:15:47.897Z"
   },
   {
    "duration": 42,
    "start_time": "2024-01-27T20:15:47.909Z"
   },
   {
    "duration": 33,
    "start_time": "2024-01-27T20:15:47.952Z"
   },
   {
    "duration": 249,
    "start_time": "2024-01-27T20:15:47.987Z"
   },
   {
    "duration": 191,
    "start_time": "2024-01-27T20:15:48.237Z"
   },
   {
    "duration": 4,
    "start_time": "2024-01-27T20:15:48.429Z"
   },
   {
    "duration": 5,
    "start_time": "2024-01-27T20:15:48.435Z"
   },
   {
    "duration": 2872,
    "start_time": "2024-01-27T20:15:48.442Z"
   },
   {
    "duration": 93212,
    "start_time": "2024-01-27T20:15:51.319Z"
   },
   {
    "duration": 4,
    "start_time": "2024-01-27T20:17:24.533Z"
   },
   {
    "duration": 70,
    "start_time": "2024-01-27T20:17:24.538Z"
   },
   {
    "duration": 12,
    "start_time": "2024-01-27T20:17:24.610Z"
   },
   {
    "duration": 12,
    "start_time": "2024-01-27T20:17:24.623Z"
   },
   {
    "duration": 5618,
    "start_time": "2024-01-27T20:17:24.637Z"
   },
   {
    "duration": 1413,
    "start_time": "2024-01-27T20:17:30.257Z"
   },
   {
    "duration": 8,
    "start_time": "2024-01-27T20:17:31.672Z"
   },
   {
    "duration": 1145608,
    "start_time": "2024-01-27T20:17:31.681Z"
   },
   {
    "duration": 91,
    "start_time": "2024-01-27T20:36:37.291Z"
   },
   {
    "duration": 103906,
    "start_time": "2024-01-27T20:36:37.385Z"
   },
   {
    "duration": 55688,
    "start_time": "2024-01-27T20:38:21.381Z"
   },
   {
    "duration": 12,
    "start_time": "2024-01-27T20:39:17.070Z"
   },
   {
    "duration": 6329,
    "start_time": "2024-01-27T20:39:17.083Z"
   },
   {
    "duration": 131,
    "start_time": "2024-01-27T20:39:23.414Z"
   },
   {
    "duration": 0,
    "start_time": "2024-01-27T20:39:23.546Z"
   },
   {
    "duration": 0,
    "start_time": "2024-01-27T20:39:23.547Z"
   },
   {
    "duration": 0,
    "start_time": "2024-01-27T20:39:23.548Z"
   },
   {
    "duration": 10,
    "start_time": "2024-01-27T20:39:36.330Z"
   },
   {
    "duration": 11,
    "start_time": "2024-01-27T20:40:01.618Z"
   },
   {
    "duration": 5776,
    "start_time": "2024-01-27T20:40:05.259Z"
   },
   {
    "duration": 10,
    "start_time": "2024-01-27T20:40:14.219Z"
   },
   {
    "duration": 19604,
    "start_time": "2024-01-27T20:41:01.771Z"
   },
   {
    "duration": 103892,
    "start_time": "2024-01-27T20:41:34.284Z"
   },
   {
    "duration": 4,
    "start_time": "2024-01-27T20:43:23.028Z"
   },
   {
    "duration": 19530,
    "start_time": "2024-01-27T20:43:27.365Z"
   },
   {
    "duration": 12,
    "start_time": "2024-01-27T20:43:50.699Z"
   },
   {
    "duration": 51,
    "start_time": "2024-01-27T21:44:26.350Z"
   },
   {
    "duration": 2,
    "start_time": "2024-01-27T21:44:26.403Z"
   },
   {
    "duration": 1773,
    "start_time": "2024-01-27T21:44:26.407Z"
   },
   {
    "duration": 1176,
    "start_time": "2024-01-27T21:44:28.183Z"
   },
   {
    "duration": 10,
    "start_time": "2024-01-27T21:44:29.361Z"
   },
   {
    "duration": 19,
    "start_time": "2024-01-27T21:44:29.373Z"
   },
   {
    "duration": 45,
    "start_time": "2024-01-27T21:44:29.394Z"
   },
   {
    "duration": 256,
    "start_time": "2024-01-27T21:44:29.441Z"
   },
   {
    "duration": 182,
    "start_time": "2024-01-27T21:44:29.698Z"
   },
   {
    "duration": 4,
    "start_time": "2024-01-27T21:44:29.882Z"
   },
   {
    "duration": 8,
    "start_time": "2024-01-27T21:44:29.888Z"
   },
   {
    "duration": 33,
    "start_time": "2024-01-27T21:44:29.897Z"
   },
   {
    "duration": 139,
    "start_time": "2024-01-27T21:44:29.932Z"
   },
   {
    "duration": 0,
    "start_time": "2024-01-27T21:44:30.072Z"
   },
   {
    "duration": 0,
    "start_time": "2024-01-27T21:44:30.074Z"
   },
   {
    "duration": 0,
    "start_time": "2024-01-27T21:44:30.080Z"
   },
   {
    "duration": 0,
    "start_time": "2024-01-27T21:44:30.081Z"
   },
   {
    "duration": 0,
    "start_time": "2024-01-27T21:44:30.083Z"
   },
   {
    "duration": 0,
    "start_time": "2024-01-27T21:44:30.084Z"
   },
   {
    "duration": 0,
    "start_time": "2024-01-27T21:44:30.085Z"
   },
   {
    "duration": 0,
    "start_time": "2024-01-27T21:44:30.086Z"
   },
   {
    "duration": 0,
    "start_time": "2024-01-27T21:44:30.087Z"
   },
   {
    "duration": 0,
    "start_time": "2024-01-27T21:44:30.088Z"
   },
   {
    "duration": 0,
    "start_time": "2024-01-27T21:44:30.090Z"
   },
   {
    "duration": 0,
    "start_time": "2024-01-27T21:44:30.091Z"
   },
   {
    "duration": 0,
    "start_time": "2024-01-27T21:44:30.092Z"
   },
   {
    "duration": 0,
    "start_time": "2024-01-27T21:44:30.093Z"
   },
   {
    "duration": 0,
    "start_time": "2024-01-27T21:44:30.094Z"
   },
   {
    "duration": 0,
    "start_time": "2024-01-27T21:44:30.095Z"
   },
   {
    "duration": 0,
    "start_time": "2024-01-27T21:44:30.096Z"
   },
   {
    "duration": 0,
    "start_time": "2024-01-27T21:44:30.097Z"
   },
   {
    "duration": 0,
    "start_time": "2024-01-27T21:44:30.098Z"
   },
   {
    "duration": 51,
    "start_time": "2024-01-27T21:45:40.331Z"
   },
   {
    "duration": 3,
    "start_time": "2024-01-27T21:45:40.384Z"
   },
   {
    "duration": 1816,
    "start_time": "2024-01-27T21:45:40.388Z"
   },
   {
    "duration": 1123,
    "start_time": "2024-01-27T21:45:42.206Z"
   },
   {
    "duration": 11,
    "start_time": "2024-01-27T21:45:43.330Z"
   },
   {
    "duration": 17,
    "start_time": "2024-01-27T21:45:43.342Z"
   },
   {
    "duration": 48,
    "start_time": "2024-01-27T21:45:43.360Z"
   },
   {
    "duration": 241,
    "start_time": "2024-01-27T21:45:43.410Z"
   },
   {
    "duration": 179,
    "start_time": "2024-01-27T21:45:43.653Z"
   },
   {
    "duration": 3,
    "start_time": "2024-01-27T21:45:43.834Z"
   },
   {
    "duration": 7,
    "start_time": "2024-01-27T21:45:43.839Z"
   },
   {
    "duration": 13,
    "start_time": "2024-01-27T21:45:43.848Z"
   },
   {
    "duration": 1574,
    "start_time": "2024-01-27T21:45:43.863Z"
   },
   {
    "duration": 0,
    "start_time": "2024-01-27T21:45:45.439Z"
   },
   {
    "duration": 0,
    "start_time": "2024-01-27T21:45:45.440Z"
   },
   {
    "duration": 0,
    "start_time": "2024-01-27T21:45:45.441Z"
   },
   {
    "duration": 0,
    "start_time": "2024-01-27T21:45:45.443Z"
   },
   {
    "duration": 0,
    "start_time": "2024-01-27T21:45:45.444Z"
   },
   {
    "duration": 0,
    "start_time": "2024-01-27T21:45:45.445Z"
   },
   {
    "duration": 0,
    "start_time": "2024-01-27T21:45:45.446Z"
   },
   {
    "duration": 0,
    "start_time": "2024-01-27T21:45:45.447Z"
   },
   {
    "duration": 0,
    "start_time": "2024-01-27T21:45:45.448Z"
   },
   {
    "duration": 0,
    "start_time": "2024-01-27T21:45:45.449Z"
   },
   {
    "duration": 0,
    "start_time": "2024-01-27T21:45:45.450Z"
   },
   {
    "duration": 0,
    "start_time": "2024-01-27T21:45:45.451Z"
   },
   {
    "duration": 0,
    "start_time": "2024-01-27T21:45:45.453Z"
   },
   {
    "duration": 0,
    "start_time": "2024-01-27T21:45:45.454Z"
   },
   {
    "duration": 0,
    "start_time": "2024-01-27T21:45:45.455Z"
   },
   {
    "duration": 0,
    "start_time": "2024-01-27T21:45:45.456Z"
   },
   {
    "duration": 0,
    "start_time": "2024-01-27T21:45:45.457Z"
   },
   {
    "duration": 0,
    "start_time": "2024-01-27T21:45:45.458Z"
   },
   {
    "duration": 0,
    "start_time": "2024-01-27T21:45:45.460Z"
   },
   {
    "duration": 103,
    "start_time": "2024-01-27T21:49:51.449Z"
   },
   {
    "duration": 3,
    "start_time": "2024-01-27T21:49:51.555Z"
   },
   {
    "duration": 1785,
    "start_time": "2024-01-27T21:49:51.560Z"
   },
   {
    "duration": 1120,
    "start_time": "2024-01-27T21:49:53.347Z"
   },
   {
    "duration": 19,
    "start_time": "2024-01-27T21:49:54.469Z"
   },
   {
    "duration": 22,
    "start_time": "2024-01-27T21:49:54.490Z"
   },
   {
    "duration": 56,
    "start_time": "2024-01-27T21:49:54.513Z"
   },
   {
    "duration": 238,
    "start_time": "2024-01-27T21:49:54.571Z"
   },
   {
    "duration": 177,
    "start_time": "2024-01-27T21:49:54.811Z"
   },
   {
    "duration": 3,
    "start_time": "2024-01-27T21:49:54.992Z"
   },
   {
    "duration": 13,
    "start_time": "2024-01-27T21:49:54.997Z"
   },
   {
    "duration": 22,
    "start_time": "2024-01-27T21:49:55.011Z"
   },
   {
    "duration": 88889,
    "start_time": "2024-01-27T21:49:55.035Z"
   },
   {
    "duration": 4,
    "start_time": "2024-01-27T21:51:23.925Z"
   },
   {
    "duration": 6,
    "start_time": "2024-01-27T21:51:23.930Z"
   },
   {
    "duration": 4,
    "start_time": "2024-01-27T21:51:23.937Z"
   },
   {
    "duration": 76,
    "start_time": "2024-01-27T21:51:23.943Z"
   },
   {
    "duration": 4,
    "start_time": "2024-01-27T21:51:24.021Z"
   },
   {
    "duration": 5,
    "start_time": "2024-01-27T21:51:24.027Z"
   },
   {
    "duration": 5756,
    "start_time": "2024-01-27T21:51:24.033Z"
   },
   {
    "duration": 1396,
    "start_time": "2024-01-27T21:51:29.791Z"
   },
   {
    "duration": 4,
    "start_time": "2024-01-27T21:51:31.189Z"
   },
   {
    "duration": 681180,
    "start_time": "2024-01-27T21:51:31.195Z"
   },
   {
    "duration": 0,
    "start_time": "2024-01-27T22:02:52.380Z"
   },
   {
    "duration": 0,
    "start_time": "2024-01-27T22:02:52.381Z"
   },
   {
    "duration": 0,
    "start_time": "2024-01-27T22:02:52.383Z"
   },
   {
    "duration": 0,
    "start_time": "2024-01-27T22:02:52.383Z"
   },
   {
    "duration": 0,
    "start_time": "2024-01-27T22:02:52.385Z"
   },
   {
    "duration": 0,
    "start_time": "2024-01-27T22:02:52.385Z"
   },
   {
    "duration": 0,
    "start_time": "2024-01-27T22:02:52.387Z"
   },
   {
    "duration": 0,
    "start_time": "2024-01-27T22:02:52.388Z"
   },
   {
    "duration": 0,
    "start_time": "2024-01-27T22:02:52.389Z"
   },
   {
    "duration": 58,
    "start_time": "2024-01-27T22:03:02.000Z"
   },
   {
    "duration": 3,
    "start_time": "2024-01-27T22:03:02.060Z"
   },
   {
    "duration": 1882,
    "start_time": "2024-01-27T22:03:02.065Z"
   },
   {
    "duration": 1132,
    "start_time": "2024-01-27T22:03:03.949Z"
   },
   {
    "duration": 11,
    "start_time": "2024-01-27T22:03:05.082Z"
   },
   {
    "duration": 12,
    "start_time": "2024-01-27T22:03:05.095Z"
   },
   {
    "duration": 33,
    "start_time": "2024-01-27T22:03:05.109Z"
   },
   {
    "duration": 251,
    "start_time": "2024-01-27T22:03:05.144Z"
   },
   {
    "duration": 193,
    "start_time": "2024-01-27T22:03:05.397Z"
   },
   {
    "duration": 3,
    "start_time": "2024-01-27T22:03:05.593Z"
   },
   {
    "duration": 5,
    "start_time": "2024-01-27T22:03:05.598Z"
   },
   {
    "duration": 5,
    "start_time": "2024-01-27T22:03:05.613Z"
   },
   {
    "duration": 3,
    "start_time": "2024-01-27T22:03:05.620Z"
   },
   {
    "duration": 194,
    "start_time": "2024-01-27T22:03:05.626Z"
   },
   {
    "duration": 0,
    "start_time": "2024-01-27T22:03:05.822Z"
   },
   {
    "duration": 0,
    "start_time": "2024-01-27T22:03:05.824Z"
   },
   {
    "duration": 0,
    "start_time": "2024-01-27T22:03:05.825Z"
   },
   {
    "duration": 0,
    "start_time": "2024-01-27T22:03:05.826Z"
   },
   {
    "duration": 0,
    "start_time": "2024-01-27T22:03:05.827Z"
   },
   {
    "duration": 0,
    "start_time": "2024-01-27T22:03:05.828Z"
   },
   {
    "duration": 0,
    "start_time": "2024-01-27T22:03:05.829Z"
   },
   {
    "duration": 0,
    "start_time": "2024-01-27T22:03:05.831Z"
   },
   {
    "duration": 0,
    "start_time": "2024-01-27T22:03:05.832Z"
   },
   {
    "duration": 0,
    "start_time": "2024-01-27T22:03:05.833Z"
   },
   {
    "duration": 0,
    "start_time": "2024-01-27T22:03:05.833Z"
   },
   {
    "duration": 0,
    "start_time": "2024-01-27T22:03:05.834Z"
   },
   {
    "duration": 0,
    "start_time": "2024-01-27T22:03:05.835Z"
   },
   {
    "duration": 0,
    "start_time": "2024-01-27T22:03:05.837Z"
   },
   {
    "duration": 0,
    "start_time": "2024-01-27T22:03:05.837Z"
   },
   {
    "duration": 0,
    "start_time": "2024-01-27T22:03:05.838Z"
   },
   {
    "duration": 0,
    "start_time": "2024-01-27T22:03:05.839Z"
   },
   {
    "duration": 0,
    "start_time": "2024-01-27T22:03:05.840Z"
   },
   {
    "duration": 0,
    "start_time": "2024-01-27T22:03:05.841Z"
   },
   {
    "duration": 13,
    "start_time": "2024-01-27T22:09:00.137Z"
   },
   {
    "duration": 54,
    "start_time": "2024-01-27T22:10:32.715Z"
   },
   {
    "duration": 2,
    "start_time": "2024-01-27T22:10:32.771Z"
   },
   {
    "duration": 1861,
    "start_time": "2024-01-27T22:10:32.775Z"
   },
   {
    "duration": 1107,
    "start_time": "2024-01-27T22:10:34.638Z"
   },
   {
    "duration": 11,
    "start_time": "2024-01-27T22:10:35.747Z"
   },
   {
    "duration": 25,
    "start_time": "2024-01-27T22:10:35.760Z"
   },
   {
    "duration": 58,
    "start_time": "2024-01-27T22:10:35.787Z"
   },
   {
    "duration": 248,
    "start_time": "2024-01-27T22:10:35.847Z"
   },
   {
    "duration": 176,
    "start_time": "2024-01-27T22:10:36.097Z"
   },
   {
    "duration": 131,
    "start_time": "2024-01-27T22:10:36.275Z"
   },
   {
    "duration": 0,
    "start_time": "2024-01-27T22:10:36.408Z"
   },
   {
    "duration": 0,
    "start_time": "2024-01-27T22:10:36.409Z"
   },
   {
    "duration": 0,
    "start_time": "2024-01-27T22:10:36.410Z"
   },
   {
    "duration": 0,
    "start_time": "2024-01-27T22:10:36.411Z"
   },
   {
    "duration": 0,
    "start_time": "2024-01-27T22:10:36.412Z"
   },
   {
    "duration": 0,
    "start_time": "2024-01-27T22:10:36.413Z"
   },
   {
    "duration": 0,
    "start_time": "2024-01-27T22:10:36.414Z"
   },
   {
    "duration": 0,
    "start_time": "2024-01-27T22:10:36.415Z"
   },
   {
    "duration": 0,
    "start_time": "2024-01-27T22:10:36.416Z"
   },
   {
    "duration": 0,
    "start_time": "2024-01-27T22:10:36.418Z"
   },
   {
    "duration": 0,
    "start_time": "2024-01-27T22:10:36.419Z"
   },
   {
    "duration": 0,
    "start_time": "2024-01-27T22:10:36.421Z"
   },
   {
    "duration": 0,
    "start_time": "2024-01-27T22:10:36.422Z"
   },
   {
    "duration": 0,
    "start_time": "2024-01-27T22:10:36.424Z"
   },
   {
    "duration": 0,
    "start_time": "2024-01-27T22:10:36.425Z"
   },
   {
    "duration": 0,
    "start_time": "2024-01-27T22:10:36.426Z"
   },
   {
    "duration": 0,
    "start_time": "2024-01-27T22:10:36.428Z"
   },
   {
    "duration": 0,
    "start_time": "2024-01-27T22:10:36.429Z"
   },
   {
    "duration": 1,
    "start_time": "2024-01-27T22:10:36.430Z"
   },
   {
    "duration": 0,
    "start_time": "2024-01-27T22:10:36.432Z"
   },
   {
    "duration": 0,
    "start_time": "2024-01-27T22:10:36.433Z"
   },
   {
    "duration": 0,
    "start_time": "2024-01-27T22:10:36.435Z"
   },
   {
    "duration": 0,
    "start_time": "2024-01-27T22:10:36.481Z"
   },
   {
    "duration": 56,
    "start_time": "2024-01-27T22:13:03.097Z"
   },
   {
    "duration": 3,
    "start_time": "2024-01-27T22:13:03.155Z"
   },
   {
    "duration": 199123,
    "start_time": "2024-01-27T22:13:03.159Z"
   },
   {
    "duration": 3552,
    "start_time": "2024-01-27T22:16:22.286Z"
   },
   {
    "duration": 1014,
    "start_time": "2024-01-27T22:16:25.840Z"
   },
   {
    "duration": 11,
    "start_time": "2024-01-27T22:16:26.856Z"
   },
   {
    "duration": 22,
    "start_time": "2024-01-27T22:16:26.868Z"
   },
   {
    "duration": 32,
    "start_time": "2024-01-27T22:16:26.892Z"
   },
   {
    "duration": 248,
    "start_time": "2024-01-27T22:16:26.926Z"
   },
   {
    "duration": 294,
    "start_time": "2024-01-27T22:16:27.180Z"
   },
   {
    "duration": 201,
    "start_time": "2024-01-27T22:16:27.476Z"
   },
   {
    "duration": 0,
    "start_time": "2024-01-27T22:16:27.680Z"
   },
   {
    "duration": 0,
    "start_time": "2024-01-27T22:16:27.681Z"
   },
   {
    "duration": 0,
    "start_time": "2024-01-27T22:16:27.683Z"
   },
   {
    "duration": 0,
    "start_time": "2024-01-27T22:16:27.684Z"
   },
   {
    "duration": 0,
    "start_time": "2024-01-27T22:16:27.685Z"
   },
   {
    "duration": 0,
    "start_time": "2024-01-27T22:16:27.687Z"
   },
   {
    "duration": 0,
    "start_time": "2024-01-27T22:16:27.688Z"
   },
   {
    "duration": 0,
    "start_time": "2024-01-27T22:16:27.690Z"
   },
   {
    "duration": 0,
    "start_time": "2024-01-27T22:16:27.691Z"
   },
   {
    "duration": 0,
    "start_time": "2024-01-27T22:16:27.692Z"
   },
   {
    "duration": 0,
    "start_time": "2024-01-27T22:16:27.694Z"
   },
   {
    "duration": 0,
    "start_time": "2024-01-27T22:16:27.695Z"
   },
   {
    "duration": 0,
    "start_time": "2024-01-27T22:16:27.696Z"
   },
   {
    "duration": 0,
    "start_time": "2024-01-27T22:16:27.697Z"
   },
   {
    "duration": 0,
    "start_time": "2024-01-27T22:16:27.698Z"
   },
   {
    "duration": 0,
    "start_time": "2024-01-27T22:16:27.700Z"
   },
   {
    "duration": 0,
    "start_time": "2024-01-27T22:16:27.702Z"
   },
   {
    "duration": 0,
    "start_time": "2024-01-27T22:16:27.703Z"
   },
   {
    "duration": 0,
    "start_time": "2024-01-27T22:16:27.705Z"
   },
   {
    "duration": 0,
    "start_time": "2024-01-27T22:16:27.706Z"
   },
   {
    "duration": 0,
    "start_time": "2024-01-27T22:16:27.708Z"
   },
   {
    "duration": 0,
    "start_time": "2024-01-27T22:16:27.709Z"
   },
   {
    "duration": 0,
    "start_time": "2024-01-27T22:16:27.711Z"
   },
   {
    "duration": 9087,
    "start_time": "2024-01-27T22:20:03.704Z"
   },
   {
    "duration": 88,
    "start_time": "2024-01-27T22:21:37.743Z"
   },
   {
    "duration": 86,
    "start_time": "2024-01-27T22:21:56.951Z"
   },
   {
    "duration": 525,
    "start_time": "2024-01-27T22:22:33.671Z"
   },
   {
    "duration": 52,
    "start_time": "2024-01-27T22:22:43.954Z"
   },
   {
    "duration": 2,
    "start_time": "2024-01-27T22:22:44.008Z"
   },
   {
    "duration": 8960,
    "start_time": "2024-01-27T22:22:44.012Z"
   },
   {
    "duration": 3538,
    "start_time": "2024-01-27T22:22:52.974Z"
   },
   {
    "duration": 962,
    "start_time": "2024-01-27T22:22:56.515Z"
   },
   {
    "duration": 11,
    "start_time": "2024-01-27T22:22:57.480Z"
   },
   {
    "duration": 13,
    "start_time": "2024-01-27T22:22:57.493Z"
   },
   {
    "duration": 48,
    "start_time": "2024-01-27T22:22:57.508Z"
   },
   {
    "duration": 234,
    "start_time": "2024-01-27T22:22:57.558Z"
   },
   {
    "duration": 313,
    "start_time": "2024-01-27T22:22:57.794Z"
   },
   {
    "duration": 205,
    "start_time": "2024-01-27T22:22:58.109Z"
   },
   {
    "duration": 0,
    "start_time": "2024-01-27T22:22:58.316Z"
   },
   {
    "duration": 0,
    "start_time": "2024-01-27T22:22:58.318Z"
   },
   {
    "duration": 0,
    "start_time": "2024-01-27T22:22:58.319Z"
   },
   {
    "duration": 0,
    "start_time": "2024-01-27T22:22:58.320Z"
   },
   {
    "duration": 0,
    "start_time": "2024-01-27T22:22:58.321Z"
   },
   {
    "duration": 0,
    "start_time": "2024-01-27T22:22:58.322Z"
   },
   {
    "duration": 0,
    "start_time": "2024-01-27T22:22:58.323Z"
   },
   {
    "duration": 0,
    "start_time": "2024-01-27T22:22:58.325Z"
   },
   {
    "duration": 0,
    "start_time": "2024-01-27T22:22:58.326Z"
   },
   {
    "duration": 0,
    "start_time": "2024-01-27T22:22:58.327Z"
   },
   {
    "duration": 0,
    "start_time": "2024-01-27T22:22:58.328Z"
   },
   {
    "duration": 0,
    "start_time": "2024-01-27T22:22:58.329Z"
   },
   {
    "duration": 0,
    "start_time": "2024-01-27T22:22:58.330Z"
   },
   {
    "duration": 0,
    "start_time": "2024-01-27T22:22:58.331Z"
   },
   {
    "duration": 0,
    "start_time": "2024-01-27T22:22:58.332Z"
   },
   {
    "duration": 0,
    "start_time": "2024-01-27T22:22:58.333Z"
   },
   {
    "duration": 0,
    "start_time": "2024-01-27T22:22:58.335Z"
   },
   {
    "duration": 0,
    "start_time": "2024-01-27T22:22:58.336Z"
   },
   {
    "duration": 0,
    "start_time": "2024-01-27T22:22:58.337Z"
   },
   {
    "duration": 0,
    "start_time": "2024-01-27T22:22:58.338Z"
   },
   {
    "duration": 0,
    "start_time": "2024-01-27T22:22:58.339Z"
   },
   {
    "duration": 0,
    "start_time": "2024-01-27T22:22:58.380Z"
   },
   {
    "duration": 0,
    "start_time": "2024-01-27T22:22:58.381Z"
   },
   {
    "duration": 4,
    "start_time": "2024-01-27T22:27:31.048Z"
   },
   {
    "duration": 4,
    "start_time": "2024-01-27T22:27:38.464Z"
   },
   {
    "duration": 2,
    "start_time": "2024-01-27T22:27:42.157Z"
   },
   {
    "duration": 17,
    "start_time": "2024-01-27T22:27:48.408Z"
   },
   {
    "duration": 44,
    "start_time": "2024-01-27T22:28:01.127Z"
   },
   {
    "duration": 4,
    "start_time": "2024-01-27T22:30:00.903Z"
   },
   {
    "duration": 3,
    "start_time": "2024-01-27T22:30:05.774Z"
   },
   {
    "duration": 4,
    "start_time": "2024-01-27T22:30:08.886Z"
   },
   {
    "duration": 90611,
    "start_time": "2024-01-27T22:30:11.980Z"
   },
   {
    "duration": 14,
    "start_time": "2024-01-27T22:32:56.330Z"
   },
   {
    "duration": 59,
    "start_time": "2024-01-27T22:33:32.770Z"
   },
   {
    "duration": 3,
    "start_time": "2024-01-27T22:33:32.830Z"
   },
   {
    "duration": 9074,
    "start_time": "2024-01-27T22:33:32.834Z"
   },
   {
    "duration": 3549,
    "start_time": "2024-01-27T22:33:41.911Z"
   },
   {
    "duration": 940,
    "start_time": "2024-01-27T22:33:45.461Z"
   },
   {
    "duration": 11,
    "start_time": "2024-01-27T22:33:46.402Z"
   },
   {
    "duration": 28,
    "start_time": "2024-01-27T22:33:46.415Z"
   },
   {
    "duration": 42,
    "start_time": "2024-01-27T22:33:46.444Z"
   },
   {
    "duration": 246,
    "start_time": "2024-01-27T22:33:46.487Z"
   },
   {
    "duration": 285,
    "start_time": "2024-01-27T22:33:46.736Z"
   },
   {
    "duration": 4,
    "start_time": "2024-01-27T22:33:47.022Z"
   },
   {
    "duration": 38,
    "start_time": "2024-01-27T22:33:47.027Z"
   },
   {
    "duration": 8,
    "start_time": "2024-01-27T22:33:47.067Z"
   },
   {
    "duration": 6,
    "start_time": "2024-01-27T22:33:47.077Z"
   },
   {
    "duration": 205,
    "start_time": "2024-01-27T22:33:47.084Z"
   },
   {
    "duration": 0,
    "start_time": "2024-01-27T22:33:47.291Z"
   },
   {
    "duration": 0,
    "start_time": "2024-01-27T22:33:47.293Z"
   },
   {
    "duration": 0,
    "start_time": "2024-01-27T22:33:47.294Z"
   },
   {
    "duration": 0,
    "start_time": "2024-01-27T22:33:47.295Z"
   },
   {
    "duration": 0,
    "start_time": "2024-01-27T22:33:47.296Z"
   },
   {
    "duration": 0,
    "start_time": "2024-01-27T22:33:47.298Z"
   },
   {
    "duration": 0,
    "start_time": "2024-01-27T22:33:47.299Z"
   },
   {
    "duration": 0,
    "start_time": "2024-01-27T22:33:47.300Z"
   },
   {
    "duration": 0,
    "start_time": "2024-01-27T22:33:47.302Z"
   },
   {
    "duration": 0,
    "start_time": "2024-01-27T22:33:47.303Z"
   },
   {
    "duration": 0,
    "start_time": "2024-01-27T22:33:47.304Z"
   },
   {
    "duration": 0,
    "start_time": "2024-01-27T22:33:47.305Z"
   },
   {
    "duration": 0,
    "start_time": "2024-01-27T22:33:47.307Z"
   },
   {
    "duration": 0,
    "start_time": "2024-01-27T22:33:47.308Z"
   },
   {
    "duration": 0,
    "start_time": "2024-01-27T22:33:47.309Z"
   },
   {
    "duration": 0,
    "start_time": "2024-01-27T22:33:47.310Z"
   },
   {
    "duration": 0,
    "start_time": "2024-01-27T22:33:47.312Z"
   },
   {
    "duration": 0,
    "start_time": "2024-01-27T22:33:47.313Z"
   },
   {
    "duration": 0,
    "start_time": "2024-01-27T22:33:47.314Z"
   },
   {
    "duration": 0,
    "start_time": "2024-01-27T22:33:47.315Z"
   },
   {
    "duration": 68,
    "start_time": "2024-01-27T22:34:31.640Z"
   },
   {
    "duration": 2,
    "start_time": "2024-01-27T22:34:31.710Z"
   },
   {
    "duration": 8832,
    "start_time": "2024-01-27T22:34:31.714Z"
   },
   {
    "duration": 3538,
    "start_time": "2024-01-27T22:34:40.549Z"
   },
   {
    "duration": 957,
    "start_time": "2024-01-27T22:34:44.088Z"
   },
   {
    "duration": 11,
    "start_time": "2024-01-27T22:34:45.046Z"
   },
   {
    "duration": 47,
    "start_time": "2024-01-27T22:34:45.059Z"
   },
   {
    "duration": 53,
    "start_time": "2024-01-27T22:34:45.107Z"
   },
   {
    "duration": 227,
    "start_time": "2024-01-27T22:34:45.162Z"
   },
   {
    "duration": 278,
    "start_time": "2024-01-27T22:34:45.391Z"
   },
   {
    "duration": 10,
    "start_time": "2024-01-27T22:34:45.671Z"
   },
   {
    "duration": 8,
    "start_time": "2024-01-27T22:34:45.682Z"
   },
   {
    "duration": 4,
    "start_time": "2024-01-27T22:34:45.692Z"
   },
   {
    "duration": 5,
    "start_time": "2024-01-27T22:34:45.698Z"
   },
   {
    "duration": 4,
    "start_time": "2024-01-27T22:34:45.705Z"
   },
   {
    "duration": 199,
    "start_time": "2024-01-27T22:34:45.710Z"
   },
   {
    "duration": 0,
    "start_time": "2024-01-27T22:34:45.911Z"
   },
   {
    "duration": 0,
    "start_time": "2024-01-27T22:34:45.912Z"
   },
   {
    "duration": 0,
    "start_time": "2024-01-27T22:34:45.913Z"
   },
   {
    "duration": 0,
    "start_time": "2024-01-27T22:34:45.914Z"
   },
   {
    "duration": 0,
    "start_time": "2024-01-27T22:34:45.916Z"
   },
   {
    "duration": 0,
    "start_time": "2024-01-27T22:34:45.917Z"
   },
   {
    "duration": 0,
    "start_time": "2024-01-27T22:34:45.918Z"
   },
   {
    "duration": 0,
    "start_time": "2024-01-27T22:34:45.919Z"
   },
   {
    "duration": 0,
    "start_time": "2024-01-27T22:34:45.920Z"
   },
   {
    "duration": 0,
    "start_time": "2024-01-27T22:34:45.921Z"
   },
   {
    "duration": 0,
    "start_time": "2024-01-27T22:34:45.922Z"
   },
   {
    "duration": 0,
    "start_time": "2024-01-27T22:34:45.923Z"
   },
   {
    "duration": 0,
    "start_time": "2024-01-27T22:34:45.925Z"
   },
   {
    "duration": 0,
    "start_time": "2024-01-27T22:34:45.926Z"
   },
   {
    "duration": 0,
    "start_time": "2024-01-27T22:34:45.927Z"
   },
   {
    "duration": 0,
    "start_time": "2024-01-27T22:34:45.929Z"
   },
   {
    "duration": 0,
    "start_time": "2024-01-27T22:34:45.930Z"
   },
   {
    "duration": 0,
    "start_time": "2024-01-27T22:34:45.931Z"
   },
   {
    "duration": 0,
    "start_time": "2024-01-27T22:34:45.932Z"
   },
   {
    "duration": 56,
    "start_time": "2024-01-27T22:37:34.481Z"
   },
   {
    "duration": 3,
    "start_time": "2024-01-27T22:37:34.539Z"
   },
   {
    "duration": 9103,
    "start_time": "2024-01-27T22:37:34.547Z"
   },
   {
    "duration": 3528,
    "start_time": "2024-01-27T22:37:43.652Z"
   },
   {
    "duration": 963,
    "start_time": "2024-01-27T22:37:47.182Z"
   },
   {
    "duration": 11,
    "start_time": "2024-01-27T22:37:48.147Z"
   },
   {
    "duration": 22,
    "start_time": "2024-01-27T22:37:48.159Z"
   },
   {
    "duration": 36,
    "start_time": "2024-01-27T22:37:48.183Z"
   },
   {
    "duration": 241,
    "start_time": "2024-01-27T22:37:48.222Z"
   },
   {
    "duration": 337,
    "start_time": "2024-01-27T22:37:48.466Z"
   },
   {
    "duration": 3,
    "start_time": "2024-01-27T22:37:48.805Z"
   },
   {
    "duration": 35,
    "start_time": "2024-01-27T22:37:48.810Z"
   },
   {
    "duration": 14,
    "start_time": "2024-01-27T22:37:48.847Z"
   },
   {
    "duration": 14,
    "start_time": "2024-01-27T22:37:48.862Z"
   },
   {
    "duration": 12,
    "start_time": "2024-01-27T22:37:48.878Z"
   },
   {
    "duration": 2483,
    "start_time": "2024-01-27T22:37:48.892Z"
   },
   {
    "duration": 0,
    "start_time": "2024-01-27T22:37:51.378Z"
   },
   {
    "duration": 0,
    "start_time": "2024-01-27T22:37:51.380Z"
   },
   {
    "duration": 0,
    "start_time": "2024-01-27T22:37:51.381Z"
   },
   {
    "duration": 0,
    "start_time": "2024-01-27T22:37:51.382Z"
   },
   {
    "duration": 0,
    "start_time": "2024-01-27T22:37:51.384Z"
   },
   {
    "duration": 0,
    "start_time": "2024-01-27T22:37:51.385Z"
   },
   {
    "duration": 0,
    "start_time": "2024-01-27T22:37:51.386Z"
   },
   {
    "duration": 0,
    "start_time": "2024-01-27T22:37:51.388Z"
   },
   {
    "duration": 0,
    "start_time": "2024-01-27T22:37:51.389Z"
   },
   {
    "duration": 0,
    "start_time": "2024-01-27T22:37:51.390Z"
   },
   {
    "duration": 0,
    "start_time": "2024-01-27T22:37:51.401Z"
   },
   {
    "duration": 0,
    "start_time": "2024-01-27T22:37:51.402Z"
   },
   {
    "duration": 0,
    "start_time": "2024-01-27T22:37:51.404Z"
   },
   {
    "duration": 0,
    "start_time": "2024-01-27T22:37:51.406Z"
   },
   {
    "duration": 0,
    "start_time": "2024-01-27T22:37:51.407Z"
   },
   {
    "duration": 0,
    "start_time": "2024-01-27T22:37:51.408Z"
   },
   {
    "duration": 0,
    "start_time": "2024-01-27T22:37:51.410Z"
   },
   {
    "duration": 0,
    "start_time": "2024-01-27T22:37:51.411Z"
   },
   {
    "duration": 0,
    "start_time": "2024-01-27T22:37:51.412Z"
   },
   {
    "duration": 97836,
    "start_time": "2024-01-27T22:38:39.009Z"
   },
   {
    "duration": 55,
    "start_time": "2024-01-27T22:41:37.464Z"
   },
   {
    "duration": 2,
    "start_time": "2024-01-27T22:41:37.521Z"
   },
   {
    "duration": 29,
    "start_time": "2024-01-27T22:41:37.525Z"
   },
   {
    "duration": 3572,
    "start_time": "2024-01-27T22:41:37.557Z"
   },
   {
    "duration": 978,
    "start_time": "2024-01-27T22:41:41.130Z"
   },
   {
    "duration": 11,
    "start_time": "2024-01-27T22:41:42.109Z"
   },
   {
    "duration": 21,
    "start_time": "2024-01-27T22:41:42.121Z"
   },
   {
    "duration": 47,
    "start_time": "2024-01-27T22:41:42.143Z"
   },
   {
    "duration": 234,
    "start_time": "2024-01-27T22:41:42.192Z"
   },
   {
    "duration": 294,
    "start_time": "2024-01-27T22:41:42.429Z"
   },
   {
    "duration": 3,
    "start_time": "2024-01-27T22:41:42.725Z"
   },
   {
    "duration": 19,
    "start_time": "2024-01-27T22:41:42.730Z"
   },
   {
    "duration": 8,
    "start_time": "2024-01-27T22:41:42.751Z"
   },
   {
    "duration": 10,
    "start_time": "2024-01-27T22:41:42.761Z"
   },
   {
    "duration": 4,
    "start_time": "2024-01-27T22:41:42.773Z"
   },
   {
    "duration": 97791,
    "start_time": "2024-01-27T22:41:42.780Z"
   },
   {
    "duration": 206,
    "start_time": "2024-01-27T22:43:20.580Z"
   },
   {
    "duration": 0,
    "start_time": "2024-01-27T22:43:20.788Z"
   },
   {
    "duration": 0,
    "start_time": "2024-01-27T22:43:20.790Z"
   },
   {
    "duration": 0,
    "start_time": "2024-01-27T22:43:20.791Z"
   },
   {
    "duration": 0,
    "start_time": "2024-01-27T22:43:20.792Z"
   },
   {
    "duration": 0,
    "start_time": "2024-01-27T22:43:20.793Z"
   },
   {
    "duration": 0,
    "start_time": "2024-01-27T22:43:20.795Z"
   },
   {
    "duration": 0,
    "start_time": "2024-01-27T22:43:20.795Z"
   },
   {
    "duration": 0,
    "start_time": "2024-01-27T22:43:20.796Z"
   },
   {
    "duration": 0,
    "start_time": "2024-01-27T22:43:20.797Z"
   },
   {
    "duration": 0,
    "start_time": "2024-01-27T22:43:20.799Z"
   },
   {
    "duration": 0,
    "start_time": "2024-01-27T22:43:20.800Z"
   },
   {
    "duration": 0,
    "start_time": "2024-01-27T22:43:20.801Z"
   },
   {
    "duration": 0,
    "start_time": "2024-01-27T22:43:20.802Z"
   },
   {
    "duration": 0,
    "start_time": "2024-01-27T22:43:20.803Z"
   },
   {
    "duration": 0,
    "start_time": "2024-01-27T22:43:20.804Z"
   },
   {
    "duration": 0,
    "start_time": "2024-01-27T22:43:20.805Z"
   },
   {
    "duration": 0,
    "start_time": "2024-01-27T22:43:20.806Z"
   },
   {
    "duration": 0,
    "start_time": "2024-01-27T22:43:20.808Z"
   },
   {
    "duration": 5,
    "start_time": "2024-01-27T22:44:26.011Z"
   },
   {
    "duration": 5,
    "start_time": "2024-01-27T22:44:36.540Z"
   },
   {
    "duration": 10471,
    "start_time": "2024-01-28T07:56:59.725Z"
   },
   {
    "duration": 4697,
    "start_time": "2024-01-28T07:57:22.685Z"
   },
   {
    "duration": 62,
    "start_time": "2024-01-28T08:05:04.851Z"
   },
   {
    "duration": 3,
    "start_time": "2024-01-28T08:05:04.915Z"
   },
   {
    "duration": 9951,
    "start_time": "2024-01-28T08:05:04.920Z"
   },
   {
    "duration": 4667,
    "start_time": "2024-01-28T08:05:14.873Z"
   },
   {
    "duration": 3310,
    "start_time": "2024-01-28T08:05:19.542Z"
   },
   {
    "duration": 10,
    "start_time": "2024-01-28T08:05:22.854Z"
   },
   {
    "duration": 13,
    "start_time": "2024-01-28T08:05:22.866Z"
   },
   {
    "duration": 35,
    "start_time": "2024-01-28T08:05:22.880Z"
   },
   {
    "duration": 217,
    "start_time": "2024-01-28T08:05:22.917Z"
   },
   {
    "duration": 150,
    "start_time": "2024-01-28T08:05:23.137Z"
   },
   {
    "duration": 2,
    "start_time": "2024-01-28T08:05:23.289Z"
   },
   {
    "duration": 4,
    "start_time": "2024-01-28T08:05:23.293Z"
   },
   {
    "duration": 4,
    "start_time": "2024-01-28T08:05:23.298Z"
   },
   {
    "duration": 5,
    "start_time": "2024-01-28T08:05:23.303Z"
   },
   {
    "duration": 13,
    "start_time": "2024-01-28T08:05:23.309Z"
   },
   {
    "duration": 6,
    "start_time": "2024-01-28T08:05:23.323Z"
   },
   {
    "duration": 60949,
    "start_time": "2024-01-28T08:05:23.330Z"
   },
   {
    "duration": 0,
    "start_time": "2024-01-28T08:06:24.282Z"
   },
   {
    "duration": 0,
    "start_time": "2024-01-28T08:06:24.283Z"
   },
   {
    "duration": 0,
    "start_time": "2024-01-28T08:06:24.284Z"
   },
   {
    "duration": 0,
    "start_time": "2024-01-28T08:06:24.285Z"
   },
   {
    "duration": 0,
    "start_time": "2024-01-28T08:06:24.286Z"
   },
   {
    "duration": 0,
    "start_time": "2024-01-28T08:06:24.287Z"
   },
   {
    "duration": 0,
    "start_time": "2024-01-28T08:06:24.287Z"
   },
   {
    "duration": 0,
    "start_time": "2024-01-28T08:06:24.288Z"
   },
   {
    "duration": 0,
    "start_time": "2024-01-28T08:06:24.289Z"
   },
   {
    "duration": 0,
    "start_time": "2024-01-28T08:06:24.290Z"
   },
   {
    "duration": 0,
    "start_time": "2024-01-28T08:06:24.291Z"
   },
   {
    "duration": 0,
    "start_time": "2024-01-28T08:06:24.292Z"
   },
   {
    "duration": 0,
    "start_time": "2024-01-28T08:06:24.293Z"
   },
   {
    "duration": 0,
    "start_time": "2024-01-28T08:06:24.294Z"
   },
   {
    "duration": 0,
    "start_time": "2024-01-28T08:06:24.294Z"
   },
   {
    "duration": 0,
    "start_time": "2024-01-28T08:06:24.295Z"
   },
   {
    "duration": 0,
    "start_time": "2024-01-28T08:06:24.296Z"
   },
   {
    "duration": 0,
    "start_time": "2024-01-28T08:06:24.297Z"
   },
   {
    "duration": 0,
    "start_time": "2024-01-28T08:06:24.298Z"
   },
   {
    "duration": 51,
    "start_time": "2024-01-28T08:09:24.913Z"
   },
   {
    "duration": 2,
    "start_time": "2024-01-28T08:09:24.966Z"
   },
   {
    "duration": 10091,
    "start_time": "2024-01-28T08:09:24.969Z"
   },
   {
    "duration": 4430,
    "start_time": "2024-01-28T08:09:35.062Z"
   },
   {
    "duration": 842,
    "start_time": "2024-01-28T08:09:39.493Z"
   },
   {
    "duration": 9,
    "start_time": "2024-01-28T08:09:40.337Z"
   },
   {
    "duration": 37,
    "start_time": "2024-01-28T08:09:40.347Z"
   },
   {
    "duration": 50,
    "start_time": "2024-01-28T08:09:40.385Z"
   },
   {
    "duration": 200,
    "start_time": "2024-01-28T08:09:40.436Z"
   },
   {
    "duration": 148,
    "start_time": "2024-01-28T08:09:40.638Z"
   },
   {
    "duration": 3,
    "start_time": "2024-01-28T08:09:40.788Z"
   },
   {
    "duration": 29,
    "start_time": "2024-01-28T08:09:40.792Z"
   },
   {
    "duration": 19,
    "start_time": "2024-01-28T08:09:40.823Z"
   },
   {
    "duration": 20,
    "start_time": "2024-01-28T08:09:40.843Z"
   },
   {
    "duration": 7,
    "start_time": "2024-01-28T08:09:40.865Z"
   },
   {
    "duration": 20,
    "start_time": "2024-01-28T08:09:40.874Z"
   },
   {
    "duration": 17,
    "start_time": "2024-01-28T08:09:40.895Z"
   },
   {
    "duration": 155,
    "start_time": "2024-01-28T08:09:40.913Z"
   },
   {
    "duration": 3,
    "start_time": "2024-01-28T08:09:41.069Z"
   },
   {
    "duration": 16,
    "start_time": "2024-01-28T08:09:41.073Z"
   },
   {
    "duration": 28,
    "start_time": "2024-01-28T08:09:41.090Z"
   },
   {
    "duration": 317,
    "start_time": "2024-01-28T08:09:41.119Z"
   },
   {
    "duration": 0,
    "start_time": "2024-01-28T08:09:41.438Z"
   },
   {
    "duration": 0,
    "start_time": "2024-01-28T08:09:41.439Z"
   },
   {
    "duration": 0,
    "start_time": "2024-01-28T08:09:41.440Z"
   },
   {
    "duration": 0,
    "start_time": "2024-01-28T08:09:41.441Z"
   },
   {
    "duration": 0,
    "start_time": "2024-01-28T08:09:41.442Z"
   },
   {
    "duration": 0,
    "start_time": "2024-01-28T08:09:41.443Z"
   },
   {
    "duration": 0,
    "start_time": "2024-01-28T08:09:41.444Z"
   },
   {
    "duration": 0,
    "start_time": "2024-01-28T08:09:41.459Z"
   },
   {
    "duration": 0,
    "start_time": "2024-01-28T08:09:41.460Z"
   },
   {
    "duration": 0,
    "start_time": "2024-01-28T08:09:41.462Z"
   },
   {
    "duration": 0,
    "start_time": "2024-01-28T08:09:41.463Z"
   },
   {
    "duration": 0,
    "start_time": "2024-01-28T08:09:41.465Z"
   },
   {
    "duration": 0,
    "start_time": "2024-01-28T08:09:41.465Z"
   },
   {
    "duration": 0,
    "start_time": "2024-01-28T08:09:41.467Z"
   },
   {
    "duration": 0,
    "start_time": "2024-01-28T08:09:41.467Z"
   },
   {
    "duration": 2,
    "start_time": "2024-01-28T08:10:50.776Z"
   },
   {
    "duration": 4,
    "start_time": "2024-01-28T08:11:05.759Z"
   },
   {
    "duration": 57,
    "start_time": "2024-01-28T08:11:38.995Z"
   },
   {
    "duration": 2,
    "start_time": "2024-01-28T08:11:39.054Z"
   },
   {
    "duration": 9883,
    "start_time": "2024-01-28T08:11:39.057Z"
   },
   {
    "duration": 4587,
    "start_time": "2024-01-28T08:11:48.942Z"
   },
   {
    "duration": 835,
    "start_time": "2024-01-28T08:11:53.531Z"
   },
   {
    "duration": 9,
    "start_time": "2024-01-28T08:11:54.367Z"
   },
   {
    "duration": 27,
    "start_time": "2024-01-28T08:11:54.378Z"
   },
   {
    "duration": 54,
    "start_time": "2024-01-28T08:11:54.407Z"
   },
   {
    "duration": 204,
    "start_time": "2024-01-28T08:11:54.462Z"
   },
   {
    "duration": 190,
    "start_time": "2024-01-28T08:11:54.667Z"
   },
   {
    "duration": 2,
    "start_time": "2024-01-28T08:11:54.859Z"
   },
   {
    "duration": 31,
    "start_time": "2024-01-28T08:11:54.863Z"
   },
   {
    "duration": 24,
    "start_time": "2024-01-28T08:11:54.896Z"
   },
   {
    "duration": 25,
    "start_time": "2024-01-28T08:11:54.924Z"
   },
   {
    "duration": 15,
    "start_time": "2024-01-28T08:11:54.951Z"
   },
   {
    "duration": 23,
    "start_time": "2024-01-28T08:11:54.968Z"
   },
   {
    "duration": 32,
    "start_time": "2024-01-28T08:11:54.993Z"
   },
   {
    "duration": 1624,
    "start_time": "2024-01-28T08:11:55.027Z"
   },
   {
    "duration": 7,
    "start_time": "2024-01-28T08:11:56.652Z"
   },
   {
    "duration": 44,
    "start_time": "2024-01-28T08:11:56.660Z"
   },
   {
    "duration": 18,
    "start_time": "2024-01-28T08:11:56.705Z"
   },
   {
    "duration": 309,
    "start_time": "2024-01-28T08:11:56.724Z"
   },
   {
    "duration": 0,
    "start_time": "2024-01-28T08:11:57.034Z"
   },
   {
    "duration": 0,
    "start_time": "2024-01-28T08:11:57.035Z"
   },
   {
    "duration": 0,
    "start_time": "2024-01-28T08:11:57.036Z"
   },
   {
    "duration": 0,
    "start_time": "2024-01-28T08:11:57.038Z"
   },
   {
    "duration": 0,
    "start_time": "2024-01-28T08:11:57.038Z"
   },
   {
    "duration": 0,
    "start_time": "2024-01-28T08:11:57.040Z"
   },
   {
    "duration": 0,
    "start_time": "2024-01-28T08:11:57.040Z"
   },
   {
    "duration": 0,
    "start_time": "2024-01-28T08:11:57.041Z"
   },
   {
    "duration": 0,
    "start_time": "2024-01-28T08:11:57.042Z"
   },
   {
    "duration": 0,
    "start_time": "2024-01-28T08:11:57.043Z"
   },
   {
    "duration": 0,
    "start_time": "2024-01-28T08:11:57.044Z"
   },
   {
    "duration": 0,
    "start_time": "2024-01-28T08:11:57.045Z"
   },
   {
    "duration": 0,
    "start_time": "2024-01-28T08:11:57.058Z"
   },
   {
    "duration": 0,
    "start_time": "2024-01-28T08:11:57.059Z"
   },
   {
    "duration": 0,
    "start_time": "2024-01-28T08:11:57.060Z"
   },
   {
    "duration": 54,
    "start_time": "2024-01-28T08:19:11.005Z"
   },
   {
    "duration": 2,
    "start_time": "2024-01-28T08:19:11.061Z"
   },
   {
    "duration": 9622,
    "start_time": "2024-01-28T08:19:11.065Z"
   },
   {
    "duration": 4982,
    "start_time": "2024-01-28T08:19:20.689Z"
   },
   {
    "duration": 835,
    "start_time": "2024-01-28T08:19:25.673Z"
   },
   {
    "duration": 10,
    "start_time": "2024-01-28T08:19:26.510Z"
   },
   {
    "duration": 22,
    "start_time": "2024-01-28T08:19:26.522Z"
   },
   {
    "duration": 45,
    "start_time": "2024-01-28T08:19:26.545Z"
   },
   {
    "duration": 215,
    "start_time": "2024-01-28T08:19:26.591Z"
   },
   {
    "duration": 147,
    "start_time": "2024-01-28T08:19:26.808Z"
   },
   {
    "duration": 3,
    "start_time": "2024-01-28T08:19:26.957Z"
   },
   {
    "duration": 14,
    "start_time": "2024-01-28T08:19:26.961Z"
   },
   {
    "duration": 11,
    "start_time": "2024-01-28T08:19:26.976Z"
   },
   {
    "duration": 7,
    "start_time": "2024-01-28T08:19:26.988Z"
   },
   {
    "duration": 4,
    "start_time": "2024-01-28T08:19:26.997Z"
   },
   {
    "duration": 9,
    "start_time": "2024-01-28T08:19:27.002Z"
   },
   {
    "duration": 6,
    "start_time": "2024-01-28T08:19:27.012Z"
   },
   {
    "duration": 1700,
    "start_time": "2024-01-28T08:19:27.020Z"
   },
   {
    "duration": 11,
    "start_time": "2024-01-28T08:19:28.722Z"
   },
   {
    "duration": 11,
    "start_time": "2024-01-28T08:19:28.734Z"
   },
   {
    "duration": 12,
    "start_time": "2024-01-28T08:19:28.747Z"
   },
   {
    "duration": 4,
    "start_time": "2024-01-28T08:19:28.760Z"
   },
   {
    "duration": 304,
    "start_time": "2024-01-28T08:19:28.766Z"
   },
   {
    "duration": 0,
    "start_time": "2024-01-28T08:19:29.072Z"
   },
   {
    "duration": 0,
    "start_time": "2024-01-28T08:19:29.073Z"
   },
   {
    "duration": 0,
    "start_time": "2024-01-28T08:19:29.074Z"
   },
   {
    "duration": 0,
    "start_time": "2024-01-28T08:19:29.076Z"
   },
   {
    "duration": 0,
    "start_time": "2024-01-28T08:19:29.077Z"
   },
   {
    "duration": 0,
    "start_time": "2024-01-28T08:19:29.078Z"
   },
   {
    "duration": 0,
    "start_time": "2024-01-28T08:19:29.079Z"
   },
   {
    "duration": 0,
    "start_time": "2024-01-28T08:19:29.080Z"
   },
   {
    "duration": 0,
    "start_time": "2024-01-28T08:19:29.081Z"
   },
   {
    "duration": 0,
    "start_time": "2024-01-28T08:19:29.082Z"
   },
   {
    "duration": 0,
    "start_time": "2024-01-28T08:19:29.083Z"
   },
   {
    "duration": 0,
    "start_time": "2024-01-28T08:19:29.084Z"
   },
   {
    "duration": 0,
    "start_time": "2024-01-28T08:19:29.085Z"
   },
   {
    "duration": 0,
    "start_time": "2024-01-28T08:19:29.086Z"
   },
   {
    "duration": 0,
    "start_time": "2024-01-28T08:19:29.087Z"
   },
   {
    "duration": 19,
    "start_time": "2024-01-28T08:21:27.863Z"
   },
   {
    "duration": 55,
    "start_time": "2024-01-28T09:01:17.043Z"
   },
   {
    "duration": 2,
    "start_time": "2024-01-28T09:01:17.100Z"
   },
   {
    "duration": 10380,
    "start_time": "2024-01-28T09:01:17.103Z"
   },
   {
    "duration": 4730,
    "start_time": "2024-01-28T09:01:27.486Z"
   },
   {
    "duration": 889,
    "start_time": "2024-01-28T09:01:32.217Z"
   },
   {
    "duration": 10,
    "start_time": "2024-01-28T09:01:33.108Z"
   },
   {
    "duration": 71,
    "start_time": "2024-01-28T09:01:33.119Z"
   },
   {
    "duration": 46,
    "start_time": "2024-01-28T09:01:33.192Z"
   },
   {
    "duration": 210,
    "start_time": "2024-01-28T09:01:33.240Z"
   },
   {
    "duration": 151,
    "start_time": "2024-01-28T09:01:33.452Z"
   },
   {
    "duration": 3,
    "start_time": "2024-01-28T09:01:33.605Z"
   },
   {
    "duration": 6,
    "start_time": "2024-01-28T09:01:33.609Z"
   },
   {
    "duration": 5,
    "start_time": "2024-01-28T09:01:33.616Z"
   },
   {
    "duration": 81,
    "start_time": "2024-01-28T09:01:33.622Z"
   },
   {
    "duration": 1,
    "start_time": "2024-01-28T09:01:33.704Z"
   },
   {
    "duration": 0,
    "start_time": "2024-01-28T09:01:33.706Z"
   },
   {
    "duration": 0,
    "start_time": "2024-01-28T09:01:33.707Z"
   },
   {
    "duration": 0,
    "start_time": "2024-01-28T09:01:33.708Z"
   },
   {
    "duration": 0,
    "start_time": "2024-01-28T09:01:33.710Z"
   },
   {
    "duration": 0,
    "start_time": "2024-01-28T09:01:33.711Z"
   },
   {
    "duration": 0,
    "start_time": "2024-01-28T09:01:33.712Z"
   },
   {
    "duration": 0,
    "start_time": "2024-01-28T09:01:33.712Z"
   },
   {
    "duration": 0,
    "start_time": "2024-01-28T09:01:33.714Z"
   },
   {
    "duration": 0,
    "start_time": "2024-01-28T09:01:33.715Z"
   },
   {
    "duration": 0,
    "start_time": "2024-01-28T09:01:33.716Z"
   },
   {
    "duration": 0,
    "start_time": "2024-01-28T09:01:33.717Z"
   },
   {
    "duration": 0,
    "start_time": "2024-01-28T09:01:33.719Z"
   },
   {
    "duration": 0,
    "start_time": "2024-01-28T09:01:33.720Z"
   },
   {
    "duration": 0,
    "start_time": "2024-01-28T09:01:33.721Z"
   },
   {
    "duration": 0,
    "start_time": "2024-01-28T09:01:33.722Z"
   },
   {
    "duration": 0,
    "start_time": "2024-01-28T09:01:33.723Z"
   },
   {
    "duration": 0,
    "start_time": "2024-01-28T09:01:33.724Z"
   },
   {
    "duration": 0,
    "start_time": "2024-01-28T09:01:33.725Z"
   },
   {
    "duration": 0,
    "start_time": "2024-01-28T09:01:33.727Z"
   },
   {
    "duration": 0,
    "start_time": "2024-01-28T09:01:33.728Z"
   },
   {
    "duration": 0,
    "start_time": "2024-01-28T09:01:33.729Z"
   },
   {
    "duration": 0,
    "start_time": "2024-01-28T09:01:33.730Z"
   },
   {
    "duration": 0,
    "start_time": "2024-01-28T09:01:33.732Z"
   },
   {
    "duration": 0,
    "start_time": "2024-01-28T09:01:33.732Z"
   },
   {
    "duration": 2,
    "start_time": "2024-01-28T09:02:09.540Z"
   },
   {
    "duration": 15,
    "start_time": "2024-01-28T09:02:27.847Z"
   },
   {
    "duration": 11,
    "start_time": "2024-01-28T09:02:49.317Z"
   },
   {
    "duration": 12,
    "start_time": "2024-01-28T09:03:02.530Z"
   },
   {
    "duration": 56,
    "start_time": "2024-01-28T09:12:29.548Z"
   },
   {
    "duration": 2,
    "start_time": "2024-01-28T09:12:29.606Z"
   },
   {
    "duration": 10170,
    "start_time": "2024-01-28T09:12:29.610Z"
   },
   {
    "duration": 4625,
    "start_time": "2024-01-28T09:12:39.782Z"
   },
   {
    "duration": 842,
    "start_time": "2024-01-28T09:12:44.408Z"
   },
   {
    "duration": 14,
    "start_time": "2024-01-28T09:12:45.252Z"
   },
   {
    "duration": 27,
    "start_time": "2024-01-28T09:12:45.267Z"
   },
   {
    "duration": 42,
    "start_time": "2024-01-28T09:12:45.295Z"
   },
   {
    "duration": 213,
    "start_time": "2024-01-28T09:12:45.339Z"
   },
   {
    "duration": 149,
    "start_time": "2024-01-28T09:12:45.554Z"
   },
   {
    "duration": 3,
    "start_time": "2024-01-28T09:12:45.704Z"
   },
   {
    "duration": 26,
    "start_time": "2024-01-28T09:12:45.709Z"
   },
   {
    "duration": 18,
    "start_time": "2024-01-28T09:12:45.737Z"
   },
   {
    "duration": 23,
    "start_time": "2024-01-28T09:12:45.757Z"
   },
   {
    "duration": 22,
    "start_time": "2024-01-28T09:12:45.781Z"
   },
   {
    "duration": 21,
    "start_time": "2024-01-28T09:12:45.805Z"
   },
   {
    "duration": 13,
    "start_time": "2024-01-28T09:12:45.827Z"
   },
   {
    "duration": 16,
    "start_time": "2024-01-28T09:12:45.842Z"
   },
   {
    "duration": 1627,
    "start_time": "2024-01-28T09:12:45.859Z"
   },
   {
    "duration": 15,
    "start_time": "2024-01-28T09:12:47.488Z"
   },
   {
    "duration": 3,
    "start_time": "2024-01-28T09:12:47.505Z"
   },
   {
    "duration": 5,
    "start_time": "2024-01-28T09:12:47.510Z"
   },
   {
    "duration": 11,
    "start_time": "2024-01-28T09:12:47.516Z"
   },
   {
    "duration": 350,
    "start_time": "2024-01-28T09:12:47.529Z"
   },
   {
    "duration": 0,
    "start_time": "2024-01-28T09:12:47.882Z"
   },
   {
    "duration": 0,
    "start_time": "2024-01-28T09:12:47.883Z"
   },
   {
    "duration": 0,
    "start_time": "2024-01-28T09:12:47.884Z"
   },
   {
    "duration": 0,
    "start_time": "2024-01-28T09:12:47.885Z"
   },
   {
    "duration": 0,
    "start_time": "2024-01-28T09:12:47.886Z"
   },
   {
    "duration": 0,
    "start_time": "2024-01-28T09:12:47.887Z"
   },
   {
    "duration": 0,
    "start_time": "2024-01-28T09:12:47.888Z"
   },
   {
    "duration": 0,
    "start_time": "2024-01-28T09:12:47.889Z"
   },
   {
    "duration": 0,
    "start_time": "2024-01-28T09:12:47.890Z"
   },
   {
    "duration": 0,
    "start_time": "2024-01-28T09:12:47.891Z"
   },
   {
    "duration": 0,
    "start_time": "2024-01-28T09:12:47.892Z"
   },
   {
    "duration": 0,
    "start_time": "2024-01-28T09:12:47.893Z"
   },
   {
    "duration": 0,
    "start_time": "2024-01-28T09:12:47.894Z"
   },
   {
    "duration": 0,
    "start_time": "2024-01-28T09:12:47.895Z"
   },
   {
    "duration": 0,
    "start_time": "2024-01-28T09:12:47.896Z"
   },
   {
    "duration": 3,
    "start_time": "2024-01-28T09:18:21.296Z"
   },
   {
    "duration": 3,
    "start_time": "2024-01-28T09:20:53.353Z"
   },
   {
    "duration": 3,
    "start_time": "2024-01-28T09:27:46.474Z"
   },
   {
    "duration": 3,
    "start_time": "2024-01-28T09:30:16.094Z"
   },
   {
    "duration": 3,
    "start_time": "2024-01-28T09:31:48.277Z"
   },
   {
    "duration": 3,
    "start_time": "2024-01-28T09:31:57.060Z"
   },
   {
    "duration": 4,
    "start_time": "2024-01-28T09:35:16.401Z"
   },
   {
    "duration": 4,
    "start_time": "2024-01-28T09:35:33.008Z"
   },
   {
    "duration": 4,
    "start_time": "2024-01-28T10:14:05.738Z"
   },
   {
    "duration": 3,
    "start_time": "2024-01-28T10:14:52.809Z"
   },
   {
    "duration": 3,
    "start_time": "2024-01-28T10:18:18.138Z"
   },
   {
    "duration": 81,
    "start_time": "2024-01-28T10:18:52.607Z"
   },
   {
    "duration": 3,
    "start_time": "2024-01-28T10:20:43.071Z"
   },
   {
    "duration": 61,
    "start_time": "2024-01-28T10:21:01.324Z"
   },
   {
    "duration": 2,
    "start_time": "2024-01-28T10:21:01.387Z"
   },
   {
    "duration": 10195,
    "start_time": "2024-01-28T10:21:01.390Z"
   },
   {
    "duration": 4601,
    "start_time": "2024-01-28T10:21:11.587Z"
   },
   {
    "duration": 904,
    "start_time": "2024-01-28T10:21:16.189Z"
   },
   {
    "duration": 13,
    "start_time": "2024-01-28T10:21:17.095Z"
   },
   {
    "duration": 25,
    "start_time": "2024-01-28T10:21:17.110Z"
   },
   {
    "duration": 47,
    "start_time": "2024-01-28T10:21:17.137Z"
   },
   {
    "duration": 213,
    "start_time": "2024-01-28T10:21:17.185Z"
   },
   {
    "duration": 151,
    "start_time": "2024-01-28T10:21:17.399Z"
   },
   {
    "duration": 8,
    "start_time": "2024-01-28T10:21:17.551Z"
   },
   {
    "duration": 2,
    "start_time": "2024-01-28T10:21:17.561Z"
   },
   {
    "duration": 6,
    "start_time": "2024-01-28T10:21:17.564Z"
   },
   {
    "duration": 10,
    "start_time": "2024-01-28T10:21:17.572Z"
   },
   {
    "duration": 3,
    "start_time": "2024-01-28T10:21:17.583Z"
   },
   {
    "duration": 4,
    "start_time": "2024-01-28T10:21:17.587Z"
   },
   {
    "duration": 3,
    "start_time": "2024-01-28T10:21:17.593Z"
   },
   {
    "duration": 4,
    "start_time": "2024-01-28T10:21:17.597Z"
   },
   {
    "duration": 1762,
    "start_time": "2024-01-28T10:21:17.602Z"
   },
   {
    "duration": 12,
    "start_time": "2024-01-28T10:21:19.368Z"
   },
   {
    "duration": 12,
    "start_time": "2024-01-28T10:21:19.382Z"
   },
   {
    "duration": 4,
    "start_time": "2024-01-28T10:21:19.396Z"
   },
   {
    "duration": 5,
    "start_time": "2024-01-28T10:21:19.401Z"
   },
   {
    "duration": 335,
    "start_time": "2024-01-28T10:21:19.408Z"
   },
   {
    "duration": 0,
    "start_time": "2024-01-28T10:21:19.744Z"
   },
   {
    "duration": 0,
    "start_time": "2024-01-28T10:21:19.746Z"
   },
   {
    "duration": 0,
    "start_time": "2024-01-28T10:21:19.747Z"
   },
   {
    "duration": 0,
    "start_time": "2024-01-28T10:21:19.747Z"
   },
   {
    "duration": 0,
    "start_time": "2024-01-28T10:21:19.749Z"
   },
   {
    "duration": 0,
    "start_time": "2024-01-28T10:21:19.749Z"
   },
   {
    "duration": 0,
    "start_time": "2024-01-28T10:21:19.758Z"
   },
   {
    "duration": 0,
    "start_time": "2024-01-28T10:21:19.760Z"
   },
   {
    "duration": 0,
    "start_time": "2024-01-28T10:21:19.761Z"
   },
   {
    "duration": 0,
    "start_time": "2024-01-28T10:21:19.762Z"
   },
   {
    "duration": 0,
    "start_time": "2024-01-28T10:21:19.764Z"
   },
   {
    "duration": 0,
    "start_time": "2024-01-28T10:21:19.765Z"
   },
   {
    "duration": 0,
    "start_time": "2024-01-28T10:21:19.767Z"
   },
   {
    "duration": 0,
    "start_time": "2024-01-28T10:21:19.769Z"
   },
   {
    "duration": 0,
    "start_time": "2024-01-28T10:21:19.770Z"
   },
   {
    "duration": 2,
    "start_time": "2024-01-28T10:39:53.770Z"
   },
   {
    "duration": 57,
    "start_time": "2024-01-28T10:40:03.351Z"
   },
   {
    "duration": 2,
    "start_time": "2024-01-28T10:40:03.410Z"
   },
   {
    "duration": 10178,
    "start_time": "2024-01-28T10:40:03.413Z"
   },
   {
    "duration": 4598,
    "start_time": "2024-01-28T10:40:13.594Z"
   },
   {
    "duration": 861,
    "start_time": "2024-01-28T10:40:18.194Z"
   },
   {
    "duration": 10,
    "start_time": "2024-01-28T10:40:19.056Z"
   },
   {
    "duration": 12,
    "start_time": "2024-01-28T10:40:19.067Z"
   },
   {
    "duration": 48,
    "start_time": "2024-01-28T10:40:19.080Z"
   },
   {
    "duration": 214,
    "start_time": "2024-01-28T10:40:19.130Z"
   },
   {
    "duration": 146,
    "start_time": "2024-01-28T10:40:19.346Z"
   },
   {
    "duration": 3,
    "start_time": "2024-01-28T10:40:19.493Z"
   },
   {
    "duration": 17,
    "start_time": "2024-01-28T10:40:19.497Z"
   },
   {
    "duration": 6,
    "start_time": "2024-01-28T10:40:19.515Z"
   },
   {
    "duration": 4,
    "start_time": "2024-01-28T10:40:19.523Z"
   },
   {
    "duration": 7,
    "start_time": "2024-01-28T10:40:19.528Z"
   },
   {
    "duration": 5,
    "start_time": "2024-01-28T10:40:19.536Z"
   },
   {
    "duration": 3,
    "start_time": "2024-01-28T10:40:19.542Z"
   },
   {
    "duration": 9,
    "start_time": "2024-01-28T10:40:19.546Z"
   },
   {
    "duration": 1836,
    "start_time": "2024-01-28T10:40:19.556Z"
   },
   {
    "duration": 9,
    "start_time": "2024-01-28T10:40:21.394Z"
   },
   {
    "duration": 7,
    "start_time": "2024-01-28T10:40:21.405Z"
   },
   {
    "duration": 10,
    "start_time": "2024-01-28T10:40:21.413Z"
   },
   {
    "duration": 5,
    "start_time": "2024-01-28T10:40:21.425Z"
   },
   {
    "duration": 331,
    "start_time": "2024-01-28T10:40:21.431Z"
   },
   {
    "duration": 0,
    "start_time": "2024-01-28T10:40:21.764Z"
   },
   {
    "duration": 0,
    "start_time": "2024-01-28T10:40:21.765Z"
   },
   {
    "duration": 0,
    "start_time": "2024-01-28T10:40:21.766Z"
   },
   {
    "duration": 0,
    "start_time": "2024-01-28T10:40:21.767Z"
   },
   {
    "duration": 0,
    "start_time": "2024-01-28T10:40:21.768Z"
   },
   {
    "duration": 0,
    "start_time": "2024-01-28T10:40:21.769Z"
   },
   {
    "duration": 0,
    "start_time": "2024-01-28T10:40:21.770Z"
   },
   {
    "duration": 0,
    "start_time": "2024-01-28T10:40:21.771Z"
   },
   {
    "duration": 0,
    "start_time": "2024-01-28T10:40:21.772Z"
   },
   {
    "duration": 0,
    "start_time": "2024-01-28T10:40:21.773Z"
   },
   {
    "duration": 0,
    "start_time": "2024-01-28T10:40:21.774Z"
   },
   {
    "duration": 0,
    "start_time": "2024-01-28T10:40:21.775Z"
   },
   {
    "duration": 0,
    "start_time": "2024-01-28T10:40:21.776Z"
   },
   {
    "duration": 0,
    "start_time": "2024-01-28T10:40:21.777Z"
   },
   {
    "duration": 0,
    "start_time": "2024-01-28T10:40:21.778Z"
   },
   {
    "duration": 80,
    "start_time": "2024-01-28T10:54:58.161Z"
   },
   {
    "duration": 85,
    "start_time": "2024-01-28T10:55:10.811Z"
   },
   {
    "duration": 3,
    "start_time": "2024-01-28T10:56:14.042Z"
   },
   {
    "duration": 56,
    "start_time": "2024-01-28T10:57:16.267Z"
   },
   {
    "duration": 2,
    "start_time": "2024-01-28T10:57:16.324Z"
   },
   {
    "duration": 10633,
    "start_time": "2024-01-28T10:57:16.327Z"
   },
   {
    "duration": 4821,
    "start_time": "2024-01-28T10:57:26.962Z"
   },
   {
    "duration": 878,
    "start_time": "2024-01-28T10:57:31.785Z"
   },
   {
    "duration": 9,
    "start_time": "2024-01-28T10:57:32.665Z"
   },
   {
    "duration": 35,
    "start_time": "2024-01-28T10:57:32.675Z"
   },
   {
    "duration": 61,
    "start_time": "2024-01-28T10:57:32.712Z"
   },
   {
    "duration": 253,
    "start_time": "2024-01-28T10:57:32.775Z"
   },
   {
    "duration": 147,
    "start_time": "2024-01-28T10:57:33.030Z"
   },
   {
    "duration": 2,
    "start_time": "2024-01-28T10:57:33.179Z"
   },
   {
    "duration": 5,
    "start_time": "2024-01-28T10:57:33.183Z"
   },
   {
    "duration": 3,
    "start_time": "2024-01-28T10:57:33.189Z"
   },
   {
    "duration": 3,
    "start_time": "2024-01-28T10:57:33.194Z"
   },
   {
    "duration": 3,
    "start_time": "2024-01-28T10:57:33.198Z"
   },
   {
    "duration": 6,
    "start_time": "2024-01-28T10:57:33.202Z"
   },
   {
    "duration": 3,
    "start_time": "2024-01-28T10:57:33.209Z"
   },
   {
    "duration": 13,
    "start_time": "2024-01-28T10:57:33.214Z"
   },
   {
    "duration": 6,
    "start_time": "2024-01-28T10:57:33.228Z"
   },
   {
    "duration": 1854,
    "start_time": "2024-01-28T10:57:33.235Z"
   },
   {
    "duration": 12,
    "start_time": "2024-01-28T10:57:35.090Z"
   },
   {
    "duration": 3,
    "start_time": "2024-01-28T10:57:35.104Z"
   },
   {
    "duration": 4,
    "start_time": "2024-01-28T10:57:35.109Z"
   },
   {
    "duration": 4,
    "start_time": "2024-01-28T10:57:35.115Z"
   },
   {
    "duration": 331,
    "start_time": "2024-01-28T10:57:35.120Z"
   },
   {
    "duration": 0,
    "start_time": "2024-01-28T10:57:35.454Z"
   },
   {
    "duration": 0,
    "start_time": "2024-01-28T10:57:35.459Z"
   },
   {
    "duration": 0,
    "start_time": "2024-01-28T10:57:35.460Z"
   },
   {
    "duration": 0,
    "start_time": "2024-01-28T10:57:35.461Z"
   },
   {
    "duration": 0,
    "start_time": "2024-01-28T10:57:35.462Z"
   },
   {
    "duration": 0,
    "start_time": "2024-01-28T10:57:35.464Z"
   },
   {
    "duration": 0,
    "start_time": "2024-01-28T10:57:35.465Z"
   },
   {
    "duration": 0,
    "start_time": "2024-01-28T10:57:35.466Z"
   },
   {
    "duration": 0,
    "start_time": "2024-01-28T10:57:35.467Z"
   },
   {
    "duration": 0,
    "start_time": "2024-01-28T10:57:35.468Z"
   },
   {
    "duration": 0,
    "start_time": "2024-01-28T10:57:35.469Z"
   },
   {
    "duration": 0,
    "start_time": "2024-01-28T10:57:35.470Z"
   },
   {
    "duration": 1,
    "start_time": "2024-01-28T10:57:35.471Z"
   },
   {
    "duration": 0,
    "start_time": "2024-01-28T10:57:35.472Z"
   },
   {
    "duration": 0,
    "start_time": "2024-01-28T10:57:35.474Z"
   },
   {
    "duration": 57,
    "start_time": "2024-01-28T10:58:20.309Z"
   },
   {
    "duration": 2,
    "start_time": "2024-01-28T10:58:20.368Z"
   },
   {
    "duration": 10453,
    "start_time": "2024-01-28T10:58:20.372Z"
   },
   {
    "duration": 4560,
    "start_time": "2024-01-28T10:58:30.826Z"
   },
   {
    "duration": 850,
    "start_time": "2024-01-28T10:58:35.388Z"
   },
   {
    "duration": 9,
    "start_time": "2024-01-28T10:58:36.239Z"
   },
   {
    "duration": 28,
    "start_time": "2024-01-28T10:58:36.250Z"
   },
   {
    "duration": 44,
    "start_time": "2024-01-28T10:58:36.279Z"
   },
   {
    "duration": 204,
    "start_time": "2024-01-28T10:58:36.325Z"
   },
   {
    "duration": 136,
    "start_time": "2024-01-28T10:58:36.531Z"
   },
   {
    "duration": 2,
    "start_time": "2024-01-28T10:58:36.669Z"
   },
   {
    "duration": 20,
    "start_time": "2024-01-28T10:58:36.674Z"
   },
   {
    "duration": 9,
    "start_time": "2024-01-28T10:58:36.696Z"
   },
   {
    "duration": 9,
    "start_time": "2024-01-28T10:58:36.706Z"
   },
   {
    "duration": 8,
    "start_time": "2024-01-28T10:58:36.716Z"
   },
   {
    "duration": 77,
    "start_time": "2024-01-28T10:58:36.726Z"
   },
   {
    "duration": 0,
    "start_time": "2024-01-28T10:58:36.805Z"
   },
   {
    "duration": 0,
    "start_time": "2024-01-28T10:58:36.806Z"
   },
   {
    "duration": 0,
    "start_time": "2024-01-28T10:58:36.807Z"
   },
   {
    "duration": 0,
    "start_time": "2024-01-28T10:58:36.808Z"
   },
   {
    "duration": 0,
    "start_time": "2024-01-28T10:58:36.809Z"
   },
   {
    "duration": 0,
    "start_time": "2024-01-28T10:58:36.810Z"
   },
   {
    "duration": 0,
    "start_time": "2024-01-28T10:58:36.811Z"
   },
   {
    "duration": 0,
    "start_time": "2024-01-28T10:58:36.812Z"
   },
   {
    "duration": 0,
    "start_time": "2024-01-28T10:58:36.813Z"
   },
   {
    "duration": 0,
    "start_time": "2024-01-28T10:58:36.814Z"
   },
   {
    "duration": 0,
    "start_time": "2024-01-28T10:58:36.815Z"
   },
   {
    "duration": 0,
    "start_time": "2024-01-28T10:58:36.816Z"
   },
   {
    "duration": 0,
    "start_time": "2024-01-28T10:58:36.817Z"
   },
   {
    "duration": 0,
    "start_time": "2024-01-28T10:58:36.818Z"
   },
   {
    "duration": 0,
    "start_time": "2024-01-28T10:58:36.819Z"
   },
   {
    "duration": 0,
    "start_time": "2024-01-28T10:58:36.820Z"
   },
   {
    "duration": 0,
    "start_time": "2024-01-28T10:58:36.821Z"
   },
   {
    "duration": 0,
    "start_time": "2024-01-28T10:58:36.822Z"
   },
   {
    "duration": 0,
    "start_time": "2024-01-28T10:58:36.823Z"
   },
   {
    "duration": 0,
    "start_time": "2024-01-28T10:58:36.824Z"
   },
   {
    "duration": 0,
    "start_time": "2024-01-28T10:58:36.825Z"
   },
   {
    "duration": 0,
    "start_time": "2024-01-28T10:58:36.826Z"
   },
   {
    "duration": 0,
    "start_time": "2024-01-28T10:58:36.827Z"
   },
   {
    "duration": 0,
    "start_time": "2024-01-28T10:58:36.828Z"
   },
   {
    "duration": 57,
    "start_time": "2024-01-28T10:59:26.224Z"
   },
   {
    "duration": 2,
    "start_time": "2024-01-28T10:59:26.283Z"
   },
   {
    "duration": 10143,
    "start_time": "2024-01-28T10:59:26.286Z"
   },
   {
    "duration": 4586,
    "start_time": "2024-01-28T10:59:36.432Z"
   },
   {
    "duration": 839,
    "start_time": "2024-01-28T10:59:41.020Z"
   },
   {
    "duration": 9,
    "start_time": "2024-01-28T10:59:41.861Z"
   },
   {
    "duration": 14,
    "start_time": "2024-01-28T10:59:41.872Z"
   },
   {
    "duration": 45,
    "start_time": "2024-01-28T10:59:41.888Z"
   },
   {
    "duration": 222,
    "start_time": "2024-01-28T10:59:41.934Z"
   },
   {
    "duration": 142,
    "start_time": "2024-01-28T10:59:42.160Z"
   },
   {
    "duration": 4,
    "start_time": "2024-01-28T10:59:42.303Z"
   },
   {
    "duration": 27,
    "start_time": "2024-01-28T10:59:42.308Z"
   },
   {
    "duration": 19,
    "start_time": "2024-01-28T10:59:42.336Z"
   },
   {
    "duration": 30,
    "start_time": "2024-01-28T10:59:42.356Z"
   },
   {
    "duration": 24,
    "start_time": "2024-01-28T10:59:42.388Z"
   },
   {
    "duration": 70,
    "start_time": "2024-01-28T10:59:42.413Z"
   },
   {
    "duration": 0,
    "start_time": "2024-01-28T10:59:42.485Z"
   },
   {
    "duration": 0,
    "start_time": "2024-01-28T10:59:42.486Z"
   },
   {
    "duration": 0,
    "start_time": "2024-01-28T10:59:42.487Z"
   },
   {
    "duration": 0,
    "start_time": "2024-01-28T10:59:42.488Z"
   },
   {
    "duration": 0,
    "start_time": "2024-01-28T10:59:42.489Z"
   },
   {
    "duration": 0,
    "start_time": "2024-01-28T10:59:42.490Z"
   },
   {
    "duration": 0,
    "start_time": "2024-01-28T10:59:42.491Z"
   },
   {
    "duration": 0,
    "start_time": "2024-01-28T10:59:42.492Z"
   },
   {
    "duration": 0,
    "start_time": "2024-01-28T10:59:42.493Z"
   },
   {
    "duration": 0,
    "start_time": "2024-01-28T10:59:42.494Z"
   },
   {
    "duration": 0,
    "start_time": "2024-01-28T10:59:42.495Z"
   },
   {
    "duration": 0,
    "start_time": "2024-01-28T10:59:42.496Z"
   },
   {
    "duration": 0,
    "start_time": "2024-01-28T10:59:42.497Z"
   },
   {
    "duration": 0,
    "start_time": "2024-01-28T10:59:42.498Z"
   },
   {
    "duration": 0,
    "start_time": "2024-01-28T10:59:42.499Z"
   },
   {
    "duration": 0,
    "start_time": "2024-01-28T10:59:42.500Z"
   },
   {
    "duration": 0,
    "start_time": "2024-01-28T10:59:42.501Z"
   },
   {
    "duration": 0,
    "start_time": "2024-01-28T10:59:42.502Z"
   },
   {
    "duration": 0,
    "start_time": "2024-01-28T10:59:42.503Z"
   },
   {
    "duration": 0,
    "start_time": "2024-01-28T10:59:42.504Z"
   },
   {
    "duration": 0,
    "start_time": "2024-01-28T10:59:42.505Z"
   },
   {
    "duration": 0,
    "start_time": "2024-01-28T10:59:42.506Z"
   },
   {
    "duration": 0,
    "start_time": "2024-01-28T10:59:42.507Z"
   },
   {
    "duration": 0,
    "start_time": "2024-01-28T10:59:42.509Z"
   },
   {
    "duration": 53,
    "start_time": "2024-01-28T11:08:00.020Z"
   },
   {
    "duration": 3,
    "start_time": "2024-01-28T11:08:00.075Z"
   },
   {
    "duration": 10123,
    "start_time": "2024-01-28T11:08:00.079Z"
   },
   {
    "duration": 4598,
    "start_time": "2024-01-28T11:08:10.204Z"
   },
   {
    "duration": 839,
    "start_time": "2024-01-28T11:08:14.804Z"
   },
   {
    "duration": 10,
    "start_time": "2024-01-28T11:08:15.644Z"
   },
   {
    "duration": 38,
    "start_time": "2024-01-28T11:08:15.659Z"
   },
   {
    "duration": 38,
    "start_time": "2024-01-28T11:08:15.698Z"
   },
   {
    "duration": 199,
    "start_time": "2024-01-28T11:08:15.737Z"
   },
   {
    "duration": 142,
    "start_time": "2024-01-28T11:08:15.938Z"
   },
   {
    "duration": 2,
    "start_time": "2024-01-28T11:08:16.082Z"
   },
   {
    "duration": 5,
    "start_time": "2024-01-28T11:08:16.086Z"
   },
   {
    "duration": 4,
    "start_time": "2024-01-28T11:08:16.092Z"
   },
   {
    "duration": 5,
    "start_time": "2024-01-28T11:08:16.098Z"
   },
   {
    "duration": 5,
    "start_time": "2024-01-28T11:08:16.104Z"
   },
   {
    "duration": 66,
    "start_time": "2024-01-28T11:08:16.111Z"
   },
   {
    "duration": 0,
    "start_time": "2024-01-28T11:08:16.178Z"
   },
   {
    "duration": 0,
    "start_time": "2024-01-28T11:08:16.179Z"
   },
   {
    "duration": 0,
    "start_time": "2024-01-28T11:08:16.181Z"
   },
   {
    "duration": 0,
    "start_time": "2024-01-28T11:08:16.182Z"
   },
   {
    "duration": 0,
    "start_time": "2024-01-28T11:08:16.183Z"
   },
   {
    "duration": 0,
    "start_time": "2024-01-28T11:08:16.184Z"
   },
   {
    "duration": 0,
    "start_time": "2024-01-28T11:08:16.185Z"
   },
   {
    "duration": 0,
    "start_time": "2024-01-28T11:08:16.186Z"
   },
   {
    "duration": 0,
    "start_time": "2024-01-28T11:08:16.187Z"
   },
   {
    "duration": 0,
    "start_time": "2024-01-28T11:08:16.188Z"
   },
   {
    "duration": 0,
    "start_time": "2024-01-28T11:08:16.189Z"
   },
   {
    "duration": 0,
    "start_time": "2024-01-28T11:08:16.190Z"
   },
   {
    "duration": 0,
    "start_time": "2024-01-28T11:08:16.191Z"
   },
   {
    "duration": 0,
    "start_time": "2024-01-28T11:08:16.192Z"
   },
   {
    "duration": 0,
    "start_time": "2024-01-28T11:08:16.193Z"
   },
   {
    "duration": 0,
    "start_time": "2024-01-28T11:08:16.194Z"
   },
   {
    "duration": 0,
    "start_time": "2024-01-28T11:08:16.195Z"
   },
   {
    "duration": 0,
    "start_time": "2024-01-28T11:08:16.196Z"
   },
   {
    "duration": 1,
    "start_time": "2024-01-28T11:08:16.197Z"
   },
   {
    "duration": 0,
    "start_time": "2024-01-28T11:08:16.199Z"
   },
   {
    "duration": 0,
    "start_time": "2024-01-28T11:08:16.199Z"
   },
   {
    "duration": 0,
    "start_time": "2024-01-28T11:08:16.200Z"
   },
   {
    "duration": 0,
    "start_time": "2024-01-28T11:08:16.201Z"
   },
   {
    "duration": 0,
    "start_time": "2024-01-28T11:08:16.202Z"
   },
   {
    "duration": 56,
    "start_time": "2024-01-28T11:12:16.112Z"
   },
   {
    "duration": 3,
    "start_time": "2024-01-28T11:12:16.170Z"
   },
   {
    "duration": 10437,
    "start_time": "2024-01-28T11:12:16.174Z"
   },
   {
    "duration": 4543,
    "start_time": "2024-01-28T11:12:26.614Z"
   },
   {
    "duration": 948,
    "start_time": "2024-01-28T11:12:31.159Z"
   },
   {
    "duration": 10,
    "start_time": "2024-01-28T11:12:32.109Z"
   },
   {
    "duration": 57,
    "start_time": "2024-01-28T11:12:32.120Z"
   },
   {
    "duration": 74,
    "start_time": "2024-01-28T11:12:32.178Z"
   },
   {
    "duration": 209,
    "start_time": "2024-01-28T11:12:32.253Z"
   },
   {
    "duration": 145,
    "start_time": "2024-01-28T11:12:32.465Z"
   },
   {
    "duration": 2,
    "start_time": "2024-01-28T11:12:32.612Z"
   },
   {
    "duration": 9,
    "start_time": "2024-01-28T11:12:32.616Z"
   },
   {
    "duration": 4,
    "start_time": "2024-01-28T11:12:32.627Z"
   },
   {
    "duration": 19,
    "start_time": "2024-01-28T11:12:32.632Z"
   },
   {
    "duration": 12,
    "start_time": "2024-01-28T11:12:32.652Z"
   },
   {
    "duration": 17,
    "start_time": "2024-01-28T11:12:32.665Z"
   },
   {
    "duration": 11,
    "start_time": "2024-01-28T11:12:32.683Z"
   },
   {
    "duration": 9,
    "start_time": "2024-01-28T11:12:32.695Z"
   },
   {
    "duration": 9,
    "start_time": "2024-01-28T11:12:32.705Z"
   },
   {
    "duration": 1614,
    "start_time": "2024-01-28T11:12:32.715Z"
   },
   {
    "duration": 11,
    "start_time": "2024-01-28T11:12:34.330Z"
   },
   {
    "duration": 18,
    "start_time": "2024-01-28T11:12:34.342Z"
   },
   {
    "duration": 27,
    "start_time": "2024-01-28T11:12:34.362Z"
   },
   {
    "duration": 22,
    "start_time": "2024-01-28T11:12:34.390Z"
   },
   {
    "duration": 336,
    "start_time": "2024-01-28T11:12:34.413Z"
   },
   {
    "duration": 0,
    "start_time": "2024-01-28T11:12:34.751Z"
   },
   {
    "duration": 0,
    "start_time": "2024-01-28T11:12:34.752Z"
   },
   {
    "duration": 0,
    "start_time": "2024-01-28T11:12:34.754Z"
   },
   {
    "duration": 0,
    "start_time": "2024-01-28T11:12:34.755Z"
   },
   {
    "duration": 0,
    "start_time": "2024-01-28T11:12:34.758Z"
   },
   {
    "duration": 0,
    "start_time": "2024-01-28T11:12:34.759Z"
   },
   {
    "duration": 0,
    "start_time": "2024-01-28T11:12:34.760Z"
   },
   {
    "duration": 0,
    "start_time": "2024-01-28T11:12:34.761Z"
   },
   {
    "duration": 0,
    "start_time": "2024-01-28T11:12:34.762Z"
   },
   {
    "duration": 0,
    "start_time": "2024-01-28T11:12:34.763Z"
   },
   {
    "duration": 0,
    "start_time": "2024-01-28T11:12:34.764Z"
   },
   {
    "duration": 0,
    "start_time": "2024-01-28T11:12:34.765Z"
   },
   {
    "duration": 0,
    "start_time": "2024-01-28T11:12:34.766Z"
   },
   {
    "duration": 0,
    "start_time": "2024-01-28T11:12:34.766Z"
   },
   {
    "duration": 0,
    "start_time": "2024-01-28T11:12:34.767Z"
   },
   {
    "duration": 57,
    "start_time": "2024-01-28T11:13:44.594Z"
   },
   {
    "duration": 3,
    "start_time": "2024-01-28T11:13:44.653Z"
   },
   {
    "duration": 9663,
    "start_time": "2024-01-28T11:13:44.657Z"
   },
   {
    "duration": 4672,
    "start_time": "2024-01-28T11:13:54.323Z"
   },
   {
    "duration": 858,
    "start_time": "2024-01-28T11:13:58.997Z"
   },
   {
    "duration": 10,
    "start_time": "2024-01-28T11:13:59.857Z"
   },
   {
    "duration": 30,
    "start_time": "2024-01-28T11:13:59.869Z"
   },
   {
    "duration": 36,
    "start_time": "2024-01-28T11:13:59.900Z"
   },
   {
    "duration": 215,
    "start_time": "2024-01-28T11:13:59.938Z"
   },
   {
    "duration": 163,
    "start_time": "2024-01-28T11:14:00.159Z"
   },
   {
    "duration": 3,
    "start_time": "2024-01-28T11:14:00.323Z"
   },
   {
    "duration": 18,
    "start_time": "2024-01-28T11:14:00.327Z"
   },
   {
    "duration": 14,
    "start_time": "2024-01-28T11:14:00.346Z"
   },
   {
    "duration": 29,
    "start_time": "2024-01-28T11:14:00.362Z"
   },
   {
    "duration": 30,
    "start_time": "2024-01-28T11:14:00.393Z"
   },
   {
    "duration": 39,
    "start_time": "2024-01-28T11:14:00.425Z"
   },
   {
    "duration": 33,
    "start_time": "2024-01-28T11:14:00.465Z"
   },
   {
    "duration": 27,
    "start_time": "2024-01-28T11:14:00.500Z"
   },
   {
    "duration": 37,
    "start_time": "2024-01-28T11:14:00.528Z"
   },
   {
    "duration": 1772,
    "start_time": "2024-01-28T11:14:00.566Z"
   },
   {
    "duration": 20,
    "start_time": "2024-01-28T11:14:02.340Z"
   },
   {
    "duration": 40,
    "start_time": "2024-01-28T11:14:02.361Z"
   },
   {
    "duration": 21,
    "start_time": "2024-01-28T11:14:02.402Z"
   },
   {
    "duration": 46,
    "start_time": "2024-01-28T11:14:02.425Z"
   },
   {
    "duration": 353,
    "start_time": "2024-01-28T11:14:02.472Z"
   },
   {
    "duration": 0,
    "start_time": "2024-01-28T11:14:02.827Z"
   },
   {
    "duration": 0,
    "start_time": "2024-01-28T11:14:02.828Z"
   },
   {
    "duration": 0,
    "start_time": "2024-01-28T11:14:02.828Z"
   },
   {
    "duration": 0,
    "start_time": "2024-01-28T11:14:02.829Z"
   },
   {
    "duration": 0,
    "start_time": "2024-01-28T11:14:02.830Z"
   },
   {
    "duration": 0,
    "start_time": "2024-01-28T11:14:02.831Z"
   },
   {
    "duration": 0,
    "start_time": "2024-01-28T11:14:02.832Z"
   },
   {
    "duration": 0,
    "start_time": "2024-01-28T11:14:02.833Z"
   },
   {
    "duration": 0,
    "start_time": "2024-01-28T11:14:02.834Z"
   },
   {
    "duration": 0,
    "start_time": "2024-01-28T11:14:02.835Z"
   },
   {
    "duration": 0,
    "start_time": "2024-01-28T11:14:02.835Z"
   },
   {
    "duration": 0,
    "start_time": "2024-01-28T11:14:02.836Z"
   },
   {
    "duration": 0,
    "start_time": "2024-01-28T11:14:02.837Z"
   },
   {
    "duration": 0,
    "start_time": "2024-01-28T11:14:02.838Z"
   },
   {
    "duration": 0,
    "start_time": "2024-01-28T11:14:02.839Z"
   },
   {
    "duration": 4,
    "start_time": "2024-01-28T11:17:29.046Z"
   },
   {
    "duration": 3,
    "start_time": "2024-01-28T11:27:32.922Z"
   },
   {
    "duration": 169,
    "start_time": "2024-01-28T11:27:43.122Z"
   },
   {
    "duration": 53,
    "start_time": "2024-01-28T11:28:06.202Z"
   },
   {
    "duration": 3,
    "start_time": "2024-01-28T11:28:06.256Z"
   },
   {
    "duration": 10152,
    "start_time": "2024-01-28T11:28:06.260Z"
   },
   {
    "duration": 4672,
    "start_time": "2024-01-28T11:28:16.414Z"
   },
   {
    "duration": 870,
    "start_time": "2024-01-28T11:28:21.087Z"
   },
   {
    "duration": 12,
    "start_time": "2024-01-28T11:28:21.958Z"
   },
   {
    "duration": 19,
    "start_time": "2024-01-28T11:28:21.972Z"
   },
   {
    "duration": 68,
    "start_time": "2024-01-28T11:28:21.992Z"
   },
   {
    "duration": 217,
    "start_time": "2024-01-28T11:28:22.062Z"
   },
   {
    "duration": 151,
    "start_time": "2024-01-28T11:28:22.281Z"
   },
   {
    "duration": 2,
    "start_time": "2024-01-28T11:28:22.434Z"
   },
   {
    "duration": 17,
    "start_time": "2024-01-28T11:28:22.437Z"
   },
   {
    "duration": 17,
    "start_time": "2024-01-28T11:28:22.456Z"
   },
   {
    "duration": 16,
    "start_time": "2024-01-28T11:28:22.474Z"
   },
   {
    "duration": 20,
    "start_time": "2024-01-28T11:28:22.492Z"
   },
   {
    "duration": 30,
    "start_time": "2024-01-28T11:28:22.514Z"
   },
   {
    "duration": 29,
    "start_time": "2024-01-28T11:28:22.546Z"
   },
   {
    "duration": 18,
    "start_time": "2024-01-28T11:28:22.576Z"
   },
   {
    "duration": 5,
    "start_time": "2024-01-28T11:28:22.595Z"
   },
   {
    "duration": 1796,
    "start_time": "2024-01-28T11:28:22.602Z"
   },
   {
    "duration": 10,
    "start_time": "2024-01-28T11:28:24.400Z"
   },
   {
    "duration": 16,
    "start_time": "2024-01-28T11:28:24.411Z"
   },
   {
    "duration": 9,
    "start_time": "2024-01-28T11:28:24.429Z"
   },
   {
    "duration": 7,
    "start_time": "2024-01-28T11:28:24.440Z"
   },
   {
    "duration": 343,
    "start_time": "2024-01-28T11:28:24.449Z"
   },
   {
    "duration": 0,
    "start_time": "2024-01-28T11:28:24.794Z"
   },
   {
    "duration": 0,
    "start_time": "2024-01-28T11:28:24.796Z"
   },
   {
    "duration": 0,
    "start_time": "2024-01-28T11:28:24.797Z"
   },
   {
    "duration": 0,
    "start_time": "2024-01-28T11:28:24.799Z"
   },
   {
    "duration": 0,
    "start_time": "2024-01-28T11:28:24.800Z"
   },
   {
    "duration": 0,
    "start_time": "2024-01-28T11:28:24.801Z"
   },
   {
    "duration": 0,
    "start_time": "2024-01-28T11:28:24.803Z"
   },
   {
    "duration": 0,
    "start_time": "2024-01-28T11:28:24.804Z"
   },
   {
    "duration": 0,
    "start_time": "2024-01-28T11:28:24.805Z"
   },
   {
    "duration": 0,
    "start_time": "2024-01-28T11:28:24.806Z"
   },
   {
    "duration": 0,
    "start_time": "2024-01-28T11:28:24.807Z"
   },
   {
    "duration": 0,
    "start_time": "2024-01-28T11:28:24.808Z"
   },
   {
    "duration": 0,
    "start_time": "2024-01-28T11:28:24.809Z"
   },
   {
    "duration": 0,
    "start_time": "2024-01-28T11:28:24.811Z"
   },
   {
    "duration": 0,
    "start_time": "2024-01-28T11:28:24.812Z"
   },
   {
    "duration": 62,
    "start_time": "2024-01-28T11:29:11.910Z"
   },
   {
    "duration": 3,
    "start_time": "2024-01-28T11:29:11.974Z"
   },
   {
    "duration": 10163,
    "start_time": "2024-01-28T11:29:11.978Z"
   },
   {
    "duration": 4804,
    "start_time": "2024-01-28T11:29:22.143Z"
   },
   {
    "duration": 846,
    "start_time": "2024-01-28T11:29:26.949Z"
   },
   {
    "duration": 10,
    "start_time": "2024-01-28T11:29:27.796Z"
   },
   {
    "duration": 11,
    "start_time": "2024-01-28T11:29:27.808Z"
   },
   {
    "duration": 48,
    "start_time": "2024-01-28T11:29:27.820Z"
   },
   {
    "duration": 216,
    "start_time": "2024-01-28T11:29:27.870Z"
   },
   {
    "duration": 158,
    "start_time": "2024-01-28T11:29:28.088Z"
   },
   {
    "duration": 2,
    "start_time": "2024-01-28T11:29:28.248Z"
   },
   {
    "duration": 3,
    "start_time": "2024-01-28T11:29:28.258Z"
   },
   {
    "duration": 6,
    "start_time": "2024-01-28T11:29:28.262Z"
   },
   {
    "duration": 8,
    "start_time": "2024-01-28T11:29:28.271Z"
   },
   {
    "duration": 7,
    "start_time": "2024-01-28T11:29:28.280Z"
   },
   {
    "duration": 11,
    "start_time": "2024-01-28T11:29:28.288Z"
   },
   {
    "duration": 5,
    "start_time": "2024-01-28T11:29:28.300Z"
   },
   {
    "duration": 4,
    "start_time": "2024-01-28T11:29:28.306Z"
   },
   {
    "duration": 4,
    "start_time": "2024-01-28T11:29:28.312Z"
   },
   {
    "duration": 1690,
    "start_time": "2024-01-28T11:29:28.318Z"
   },
   {
    "duration": 13,
    "start_time": "2024-01-28T11:29:30.010Z"
   },
   {
    "duration": 20,
    "start_time": "2024-01-28T11:29:30.025Z"
   },
   {
    "duration": 13,
    "start_time": "2024-01-28T11:29:30.047Z"
   },
   {
    "duration": 40,
    "start_time": "2024-01-28T11:29:30.061Z"
   },
   {
    "duration": 340,
    "start_time": "2024-01-28T11:29:30.102Z"
   },
   {
    "duration": 1,
    "start_time": "2024-01-28T11:29:30.443Z"
   },
   {
    "duration": 0,
    "start_time": "2024-01-28T11:29:30.445Z"
   },
   {
    "duration": 0,
    "start_time": "2024-01-28T11:29:30.446Z"
   },
   {
    "duration": 0,
    "start_time": "2024-01-28T11:29:30.447Z"
   },
   {
    "duration": 0,
    "start_time": "2024-01-28T11:29:30.459Z"
   },
   {
    "duration": 0,
    "start_time": "2024-01-28T11:29:30.460Z"
   },
   {
    "duration": 0,
    "start_time": "2024-01-28T11:29:30.461Z"
   },
   {
    "duration": 0,
    "start_time": "2024-01-28T11:29:30.462Z"
   },
   {
    "duration": 0,
    "start_time": "2024-01-28T11:29:30.464Z"
   },
   {
    "duration": 0,
    "start_time": "2024-01-28T11:29:30.465Z"
   },
   {
    "duration": 0,
    "start_time": "2024-01-28T11:29:30.466Z"
   },
   {
    "duration": 0,
    "start_time": "2024-01-28T11:29:30.467Z"
   },
   {
    "duration": 0,
    "start_time": "2024-01-28T11:29:30.468Z"
   },
   {
    "duration": 0,
    "start_time": "2024-01-28T11:29:30.469Z"
   },
   {
    "duration": 0,
    "start_time": "2024-01-28T11:29:30.470Z"
   },
   {
    "duration": 50,
    "start_time": "2024-01-28T11:32:25.974Z"
   },
   {
    "duration": 2,
    "start_time": "2024-01-28T11:32:26.026Z"
   },
   {
    "duration": 10086,
    "start_time": "2024-01-28T11:32:26.029Z"
   },
   {
    "duration": 4584,
    "start_time": "2024-01-28T11:32:36.117Z"
   },
   {
    "duration": 880,
    "start_time": "2024-01-28T11:32:40.703Z"
   },
   {
    "duration": 9,
    "start_time": "2024-01-28T11:32:41.585Z"
   },
   {
    "duration": 28,
    "start_time": "2024-01-28T11:32:41.595Z"
   },
   {
    "duration": 37,
    "start_time": "2024-01-28T11:32:41.624Z"
   },
   {
    "duration": 213,
    "start_time": "2024-01-28T11:32:41.663Z"
   },
   {
    "duration": 157,
    "start_time": "2024-01-28T11:32:41.878Z"
   },
   {
    "duration": 3,
    "start_time": "2024-01-28T11:32:42.037Z"
   },
   {
    "duration": 6,
    "start_time": "2024-01-28T11:32:42.041Z"
   },
   {
    "duration": 11,
    "start_time": "2024-01-28T11:32:42.048Z"
   },
   {
    "duration": 3,
    "start_time": "2024-01-28T11:32:42.062Z"
   },
   {
    "duration": 5,
    "start_time": "2024-01-28T11:32:42.066Z"
   },
   {
    "duration": 6,
    "start_time": "2024-01-28T11:32:42.073Z"
   },
   {
    "duration": 6,
    "start_time": "2024-01-28T11:32:42.081Z"
   },
   {
    "duration": 4,
    "start_time": "2024-01-28T11:32:42.089Z"
   },
   {
    "duration": 3,
    "start_time": "2024-01-28T11:32:42.094Z"
   },
   {
    "duration": 1724,
    "start_time": "2024-01-28T11:32:42.098Z"
   },
   {
    "duration": 13,
    "start_time": "2024-01-28T11:32:43.823Z"
   },
   {
    "duration": 21,
    "start_time": "2024-01-28T11:32:43.837Z"
   },
   {
    "duration": 5,
    "start_time": "2024-01-28T11:32:43.860Z"
   },
   {
    "duration": 4,
    "start_time": "2024-01-28T11:32:43.866Z"
   },
   {
    "duration": 323,
    "start_time": "2024-01-28T11:32:43.872Z"
   },
   {
    "duration": 0,
    "start_time": "2024-01-28T11:32:44.196Z"
   },
   {
    "duration": 0,
    "start_time": "2024-01-28T11:32:44.198Z"
   },
   {
    "duration": 0,
    "start_time": "2024-01-28T11:32:44.199Z"
   },
   {
    "duration": 0,
    "start_time": "2024-01-28T11:32:44.200Z"
   },
   {
    "duration": 0,
    "start_time": "2024-01-28T11:32:44.201Z"
   },
   {
    "duration": 0,
    "start_time": "2024-01-28T11:32:44.202Z"
   },
   {
    "duration": 0,
    "start_time": "2024-01-28T11:32:44.202Z"
   },
   {
    "duration": 1,
    "start_time": "2024-01-28T11:32:44.203Z"
   },
   {
    "duration": 0,
    "start_time": "2024-01-28T11:32:44.205Z"
   },
   {
    "duration": 0,
    "start_time": "2024-01-28T11:32:44.206Z"
   },
   {
    "duration": 0,
    "start_time": "2024-01-28T11:32:44.207Z"
   },
   {
    "duration": 0,
    "start_time": "2024-01-28T11:32:44.208Z"
   },
   {
    "duration": 0,
    "start_time": "2024-01-28T11:32:44.209Z"
   },
   {
    "duration": 0,
    "start_time": "2024-01-28T11:32:44.210Z"
   },
   {
    "duration": 0,
    "start_time": "2024-01-28T11:32:44.211Z"
   },
   {
    "duration": 3,
    "start_time": "2024-01-28T11:37:44.888Z"
   },
   {
    "duration": 68,
    "start_time": "2024-01-28T11:37:55.426Z"
   },
   {
    "duration": 3,
    "start_time": "2024-01-28T11:37:55.497Z"
   },
   {
    "duration": 10476,
    "start_time": "2024-01-28T11:37:55.501Z"
   },
   {
    "duration": 4705,
    "start_time": "2024-01-28T11:38:05.979Z"
   },
   {
    "duration": 893,
    "start_time": "2024-01-28T11:38:10.686Z"
   },
   {
    "duration": 9,
    "start_time": "2024-01-28T11:38:11.581Z"
   },
   {
    "duration": 26,
    "start_time": "2024-01-28T11:38:11.591Z"
   },
   {
    "duration": 41,
    "start_time": "2024-01-28T11:38:11.619Z"
   },
   {
    "duration": 202,
    "start_time": "2024-01-28T11:38:11.662Z"
   },
   {
    "duration": 149,
    "start_time": "2024-01-28T11:38:11.865Z"
   },
   {
    "duration": 4,
    "start_time": "2024-01-28T11:38:12.016Z"
   },
   {
    "duration": 3,
    "start_time": "2024-01-28T11:38:12.022Z"
   },
   {
    "duration": 5,
    "start_time": "2024-01-28T11:38:12.027Z"
   },
   {
    "duration": 12,
    "start_time": "2024-01-28T11:38:12.033Z"
   },
   {
    "duration": 13,
    "start_time": "2024-01-28T11:38:12.047Z"
   },
   {
    "duration": 11,
    "start_time": "2024-01-28T11:38:12.062Z"
   },
   {
    "duration": 26,
    "start_time": "2024-01-28T11:38:12.074Z"
   },
   {
    "duration": 8,
    "start_time": "2024-01-28T11:38:12.102Z"
   },
   {
    "duration": 11,
    "start_time": "2024-01-28T11:38:12.111Z"
   },
   {
    "duration": 1624,
    "start_time": "2024-01-28T11:38:12.125Z"
   },
   {
    "duration": 16,
    "start_time": "2024-01-28T11:38:13.751Z"
   },
   {
    "duration": 4,
    "start_time": "2024-01-28T11:38:13.768Z"
   },
   {
    "duration": 3,
    "start_time": "2024-01-28T11:38:13.774Z"
   },
   {
    "duration": 4,
    "start_time": "2024-01-28T11:38:13.779Z"
   },
   {
    "duration": 323,
    "start_time": "2024-01-28T11:38:13.784Z"
   },
   {
    "duration": 0,
    "start_time": "2024-01-28T11:38:14.109Z"
   },
   {
    "duration": 0,
    "start_time": "2024-01-28T11:38:14.110Z"
   },
   {
    "duration": 0,
    "start_time": "2024-01-28T11:38:14.111Z"
   },
   {
    "duration": 0,
    "start_time": "2024-01-28T11:38:14.113Z"
   },
   {
    "duration": 1,
    "start_time": "2024-01-28T11:38:14.113Z"
   },
   {
    "duration": 0,
    "start_time": "2024-01-28T11:38:14.115Z"
   },
   {
    "duration": 0,
    "start_time": "2024-01-28T11:38:14.115Z"
   },
   {
    "duration": 0,
    "start_time": "2024-01-28T11:38:14.116Z"
   },
   {
    "duration": 0,
    "start_time": "2024-01-28T11:38:14.117Z"
   },
   {
    "duration": 0,
    "start_time": "2024-01-28T11:38:14.118Z"
   },
   {
    "duration": 0,
    "start_time": "2024-01-28T11:38:14.119Z"
   },
   {
    "duration": 0,
    "start_time": "2024-01-28T11:38:14.120Z"
   },
   {
    "duration": 0,
    "start_time": "2024-01-28T11:38:14.121Z"
   },
   {
    "duration": 0,
    "start_time": "2024-01-28T11:38:14.122Z"
   },
   {
    "duration": 0,
    "start_time": "2024-01-28T11:38:14.123Z"
   },
   {
    "duration": 22,
    "start_time": "2024-01-28T11:43:26.864Z"
   },
   {
    "duration": 19,
    "start_time": "2024-01-28T11:44:33.848Z"
   },
   {
    "duration": 21,
    "start_time": "2024-01-28T11:48:57.780Z"
   },
   {
    "duration": 53,
    "start_time": "2024-01-28T11:49:34.886Z"
   },
   {
    "duration": 3,
    "start_time": "2024-01-28T11:49:34.940Z"
   },
   {
    "duration": 10104,
    "start_time": "2024-01-28T11:49:34.944Z"
   },
   {
    "duration": 4590,
    "start_time": "2024-01-28T11:49:45.050Z"
   },
   {
    "duration": 847,
    "start_time": "2024-01-28T11:49:49.642Z"
   },
   {
    "duration": 12,
    "start_time": "2024-01-28T11:49:50.490Z"
   },
   {
    "duration": 30,
    "start_time": "2024-01-28T11:49:50.504Z"
   },
   {
    "duration": 41,
    "start_time": "2024-01-28T11:49:50.535Z"
   },
   {
    "duration": 243,
    "start_time": "2024-01-28T11:49:50.578Z"
   },
   {
    "duration": 154,
    "start_time": "2024-01-28T11:49:50.823Z"
   },
   {
    "duration": 3,
    "start_time": "2024-01-28T11:49:50.979Z"
   },
   {
    "duration": 6,
    "start_time": "2024-01-28T11:49:50.983Z"
   },
   {
    "duration": 24,
    "start_time": "2024-01-28T11:49:50.990Z"
   },
   {
    "duration": 10,
    "start_time": "2024-01-28T11:49:51.016Z"
   },
   {
    "duration": 6,
    "start_time": "2024-01-28T11:49:51.028Z"
   },
   {
    "duration": 28,
    "start_time": "2024-01-28T11:49:51.035Z"
   },
   {
    "duration": 20,
    "start_time": "2024-01-28T11:49:51.064Z"
   },
   {
    "duration": 10,
    "start_time": "2024-01-28T11:49:51.085Z"
   },
   {
    "duration": 13,
    "start_time": "2024-01-28T11:49:51.096Z"
   },
   {
    "duration": 1759,
    "start_time": "2024-01-28T11:49:51.110Z"
   },
   {
    "duration": 10,
    "start_time": "2024-01-28T11:49:52.871Z"
   },
   {
    "duration": 12,
    "start_time": "2024-01-28T11:49:52.882Z"
   },
   {
    "duration": 8,
    "start_time": "2024-01-28T11:49:52.895Z"
   },
   {
    "duration": 19,
    "start_time": "2024-01-28T11:49:52.905Z"
   },
   {
    "duration": 98,
    "start_time": "2024-01-28T11:49:52.926Z"
   },
   {
    "duration": 316,
    "start_time": "2024-01-28T11:49:53.026Z"
   },
   {
    "duration": 0,
    "start_time": "2024-01-28T11:49:53.344Z"
   },
   {
    "duration": 1,
    "start_time": "2024-01-28T11:49:53.345Z"
   },
   {
    "duration": 0,
    "start_time": "2024-01-28T11:49:53.347Z"
   },
   {
    "duration": 0,
    "start_time": "2024-01-28T11:49:53.348Z"
   },
   {
    "duration": 0,
    "start_time": "2024-01-28T11:49:53.349Z"
   },
   {
    "duration": 0,
    "start_time": "2024-01-28T11:49:53.349Z"
   },
   {
    "duration": 0,
    "start_time": "2024-01-28T11:49:53.358Z"
   },
   {
    "duration": 0,
    "start_time": "2024-01-28T11:49:53.360Z"
   },
   {
    "duration": 0,
    "start_time": "2024-01-28T11:49:53.361Z"
   },
   {
    "duration": 0,
    "start_time": "2024-01-28T11:49:53.362Z"
   },
   {
    "duration": 0,
    "start_time": "2024-01-28T11:49:53.363Z"
   },
   {
    "duration": 0,
    "start_time": "2024-01-28T11:49:53.363Z"
   },
   {
    "duration": 0,
    "start_time": "2024-01-28T11:49:53.364Z"
   },
   {
    "duration": 0,
    "start_time": "2024-01-28T11:49:53.365Z"
   },
   {
    "duration": 0,
    "start_time": "2024-01-28T11:49:53.366Z"
   },
   {
    "duration": 56,
    "start_time": "2024-01-28T12:08:04.717Z"
   },
   {
    "duration": 2,
    "start_time": "2024-01-28T12:08:04.777Z"
   },
   {
    "duration": 10241,
    "start_time": "2024-01-28T12:08:04.945Z"
   },
   {
    "duration": 4646,
    "start_time": "2024-01-28T12:08:15.188Z"
   },
   {
    "duration": 876,
    "start_time": "2024-01-28T12:08:19.836Z"
   },
   {
    "duration": 15,
    "start_time": "2024-01-28T12:08:20.713Z"
   },
   {
    "duration": 16,
    "start_time": "2024-01-28T12:08:20.731Z"
   },
   {
    "duration": 30,
    "start_time": "2024-01-28T12:08:20.758Z"
   },
   {
    "duration": 207,
    "start_time": "2024-01-28T12:08:20.790Z"
   },
   {
    "duration": 150,
    "start_time": "2024-01-28T12:08:20.999Z"
   },
   {
    "duration": 3,
    "start_time": "2024-01-28T12:08:21.150Z"
   },
   {
    "duration": 31,
    "start_time": "2024-01-28T12:08:21.158Z"
   },
   {
    "duration": 19,
    "start_time": "2024-01-28T12:08:21.190Z"
   },
   {
    "duration": 28,
    "start_time": "2024-01-28T12:08:21.211Z"
   },
   {
    "duration": 14,
    "start_time": "2024-01-28T12:08:21.241Z"
   },
   {
    "duration": 48,
    "start_time": "2024-01-28T12:08:21.258Z"
   },
   {
    "duration": 39,
    "start_time": "2024-01-28T12:08:21.307Z"
   },
   {
    "duration": 34,
    "start_time": "2024-01-28T12:08:21.347Z"
   },
   {
    "duration": 15,
    "start_time": "2024-01-28T12:08:21.383Z"
   },
   {
    "duration": 1663,
    "start_time": "2024-01-28T12:08:21.399Z"
   },
   {
    "duration": 14,
    "start_time": "2024-01-28T12:08:23.064Z"
   },
   {
    "duration": 15,
    "start_time": "2024-01-28T12:08:23.080Z"
   },
   {
    "duration": 40,
    "start_time": "2024-01-28T12:08:23.097Z"
   },
   {
    "duration": 23,
    "start_time": "2024-01-28T12:08:23.139Z"
   },
   {
    "duration": 36,
    "start_time": "2024-01-28T12:08:23.163Z"
   },
   {
    "duration": 338,
    "start_time": "2024-01-28T12:08:23.201Z"
   },
   {
    "duration": 0,
    "start_time": "2024-01-28T12:08:23.540Z"
   },
   {
    "duration": 0,
    "start_time": "2024-01-28T12:08:23.542Z"
   },
   {
    "duration": 0,
    "start_time": "2024-01-28T12:08:23.543Z"
   },
   {
    "duration": 1,
    "start_time": "2024-01-28T12:08:23.543Z"
   },
   {
    "duration": 0,
    "start_time": "2024-01-28T12:08:23.545Z"
   },
   {
    "duration": 0,
    "start_time": "2024-01-28T12:08:23.546Z"
   },
   {
    "duration": 0,
    "start_time": "2024-01-28T12:08:23.547Z"
   },
   {
    "duration": 0,
    "start_time": "2024-01-28T12:08:23.558Z"
   },
   {
    "duration": 0,
    "start_time": "2024-01-28T12:08:23.559Z"
   },
   {
    "duration": 0,
    "start_time": "2024-01-28T12:08:23.560Z"
   },
   {
    "duration": 0,
    "start_time": "2024-01-28T12:08:23.561Z"
   },
   {
    "duration": 0,
    "start_time": "2024-01-28T12:08:23.562Z"
   },
   {
    "duration": 0,
    "start_time": "2024-01-28T12:08:23.563Z"
   },
   {
    "duration": 0,
    "start_time": "2024-01-28T12:08:23.565Z"
   },
   {
    "duration": 0,
    "start_time": "2024-01-28T12:08:23.565Z"
   },
   {
    "duration": 5,
    "start_time": "2024-01-28T12:09:16.243Z"
   },
   {
    "duration": 4,
    "start_time": "2024-01-28T12:10:51.927Z"
   },
   {
    "duration": 3,
    "start_time": "2024-01-28T12:11:08.956Z"
   },
   {
    "duration": 9,
    "start_time": "2024-01-28T12:11:11.844Z"
   },
   {
    "duration": 5,
    "start_time": "2024-01-28T12:11:14.669Z"
   },
   {
    "duration": 4,
    "start_time": "2024-01-28T12:11:24.470Z"
   },
   {
    "duration": 7,
    "start_time": "2024-01-28T13:12:33.596Z"
   },
   {
    "duration": 4,
    "start_time": "2024-01-28T13:12:34.975Z"
   },
   {
    "duration": 4,
    "start_time": "2024-01-28T13:12:59.219Z"
   },
   {
    "duration": 3,
    "start_time": "2024-01-28T13:14:49.247Z"
   },
   {
    "duration": 13,
    "start_time": "2024-01-28T13:14:52.779Z"
   },
   {
    "duration": 5,
    "start_time": "2024-01-28T13:14:55.484Z"
   },
   {
    "duration": 154,
    "start_time": "2024-01-28T13:19:40.573Z"
   },
   {
    "duration": 4,
    "start_time": "2024-01-28T13:19:46.075Z"
   },
   {
    "duration": 29,
    "start_time": "2024-01-28T13:19:51.589Z"
   },
   {
    "duration": 3,
    "start_time": "2024-01-28T13:20:38.389Z"
   },
   {
    "duration": 5,
    "start_time": "2024-01-28T13:21:06.868Z"
   },
   {
    "duration": 19,
    "start_time": "2024-01-28T13:30:56.561Z"
   },
   {
    "duration": 688,
    "start_time": "2024-01-28T13:33:27.570Z"
   },
   {
    "duration": 25,
    "start_time": "2024-01-28T13:33:38.074Z"
   },
   {
    "duration": 5,
    "start_time": "2024-01-28T13:33:53.376Z"
   },
   {
    "duration": 5,
    "start_time": "2024-01-28T13:34:16.813Z"
   },
   {
    "duration": 6,
    "start_time": "2024-01-28T13:34:26.926Z"
   },
   {
    "duration": 20,
    "start_time": "2024-01-28T13:34:35.089Z"
   },
   {
    "duration": 5,
    "start_time": "2024-01-28T13:42:44.882Z"
   },
   {
    "duration": 4,
    "start_time": "2024-01-28T13:43:02.857Z"
   },
   {
    "duration": 5,
    "start_time": "2024-01-28T13:44:37.672Z"
   },
   {
    "duration": 19,
    "start_time": "2024-01-28T13:44:43.267Z"
   },
   {
    "duration": 4,
    "start_time": "2024-01-28T13:45:49.854Z"
   },
   {
    "duration": 16,
    "start_time": "2024-01-28T13:45:54.914Z"
   },
   {
    "duration": 120,
    "start_time": "2024-01-28T13:47:52.591Z"
   },
   {
    "duration": 5,
    "start_time": "2024-01-28T13:47:57.351Z"
   },
   {
    "duration": 2,
    "start_time": "2024-01-28T13:48:29.980Z"
   },
   {
    "duration": 19,
    "start_time": "2024-01-28T13:51:19.057Z"
   },
   {
    "duration": 109,
    "start_time": "2024-01-28T13:51:42.028Z"
   },
   {
    "duration": 20,
    "start_time": "2024-01-28T13:52:10.831Z"
   },
   {
    "duration": 88,
    "start_time": "2024-01-28T13:52:19.188Z"
   },
   {
    "duration": 5,
    "start_time": "2024-01-28T13:52:27.701Z"
   },
   {
    "duration": 20,
    "start_time": "2024-01-28T13:53:27.122Z"
   },
   {
    "duration": 34,
    "start_time": "2024-01-28T13:54:05.732Z"
   },
   {
    "duration": 5,
    "start_time": "2024-01-28T13:55:18.718Z"
   },
   {
    "duration": 35,
    "start_time": "2024-01-28T13:55:27.692Z"
   },
   {
    "duration": 37,
    "start_time": "2024-01-28T14:00:23.460Z"
   },
   {
    "duration": 33,
    "start_time": "2024-01-28T14:00:51.659Z"
   },
   {
    "duration": 54,
    "start_time": "2024-01-28T14:02:00.284Z"
   },
   {
    "duration": 3,
    "start_time": "2024-01-28T14:02:00.340Z"
   },
   {
    "duration": 10646,
    "start_time": "2024-01-28T14:02:00.345Z"
   },
   {
    "duration": 4697,
    "start_time": "2024-01-28T14:02:10.994Z"
   },
   {
    "duration": 866,
    "start_time": "2024-01-28T14:02:15.693Z"
   },
   {
    "duration": 15,
    "start_time": "2024-01-28T14:02:16.560Z"
   },
   {
    "duration": 15,
    "start_time": "2024-01-28T14:02:16.576Z"
   },
   {
    "duration": 38,
    "start_time": "2024-01-28T14:02:16.592Z"
   },
   {
    "duration": 233,
    "start_time": "2024-01-28T14:02:16.632Z"
   },
   {
    "duration": 158,
    "start_time": "2024-01-28T14:02:16.868Z"
   },
   {
    "duration": 3,
    "start_time": "2024-01-28T14:02:17.027Z"
   },
   {
    "duration": 12,
    "start_time": "2024-01-28T14:02:17.031Z"
   },
   {
    "duration": 5,
    "start_time": "2024-01-28T14:02:17.044Z"
   },
   {
    "duration": 4,
    "start_time": "2024-01-28T14:02:17.050Z"
   },
   {
    "duration": 19,
    "start_time": "2024-01-28T14:02:17.059Z"
   },
   {
    "duration": 10,
    "start_time": "2024-01-28T14:02:17.079Z"
   },
   {
    "duration": 3,
    "start_time": "2024-01-28T14:02:17.091Z"
   },
   {
    "duration": 8,
    "start_time": "2024-01-28T14:02:17.095Z"
   },
   {
    "duration": 7,
    "start_time": "2024-01-28T14:02:17.104Z"
   },
   {
    "duration": 15558,
    "start_time": "2024-01-28T14:02:17.113Z"
   },
   {
    "duration": 11,
    "start_time": "2024-01-28T14:02:32.672Z"
   },
   {
    "duration": 71,
    "start_time": "2024-01-28T14:02:32.684Z"
   },
   {
    "duration": 32,
    "start_time": "2024-01-28T14:02:32.756Z"
   },
   {
    "duration": 5,
    "start_time": "2024-01-28T14:02:32.790Z"
   },
   {
    "duration": 19,
    "start_time": "2024-01-28T14:02:32.796Z"
   },
   {
    "duration": 21,
    "start_time": "2024-01-28T14:02:32.817Z"
   },
   {
    "duration": 24,
    "start_time": "2024-01-28T14:02:32.839Z"
   },
   {
    "duration": 26,
    "start_time": "2024-01-28T14:02:32.866Z"
   },
   {
    "duration": 16,
    "start_time": "2024-01-28T14:02:32.893Z"
   },
   {
    "duration": 70,
    "start_time": "2024-01-28T14:02:32.910Z"
   },
   {
    "duration": 4,
    "start_time": "2024-01-28T14:02:32.982Z"
   },
   {
    "duration": 196,
    "start_time": "2024-01-28T14:02:32.987Z"
   },
   {
    "duration": 2,
    "start_time": "2024-01-28T14:02:33.184Z"
   },
   {
    "duration": 7,
    "start_time": "2024-01-28T14:02:33.187Z"
   },
   {
    "duration": 5,
    "start_time": "2024-01-28T14:02:33.195Z"
   },
   {
    "duration": 5,
    "start_time": "2024-01-28T14:02:33.202Z"
   },
   {
    "duration": 234,
    "start_time": "2024-01-28T14:02:33.209Z"
   },
   {
    "duration": 2,
    "start_time": "2024-01-28T14:02:33.445Z"
   },
   {
    "duration": 5,
    "start_time": "2024-01-28T14:02:33.459Z"
   },
   {
    "duration": 6,
    "start_time": "2024-01-28T14:02:33.465Z"
   },
   {
    "duration": 79,
    "start_time": "2024-01-28T14:02:33.473Z"
   },
   {
    "duration": 0,
    "start_time": "2024-01-28T14:02:33.554Z"
   },
   {
    "duration": 0,
    "start_time": "2024-01-28T14:02:33.555Z"
   },
   {
    "duration": 0,
    "start_time": "2024-01-28T14:02:33.556Z"
   },
   {
    "duration": 0,
    "start_time": "2024-01-28T14:02:33.558Z"
   },
   {
    "duration": 1,
    "start_time": "2024-01-28T14:02:33.559Z"
   },
   {
    "duration": 324,
    "start_time": "2024-01-28T14:03:53.241Z"
   },
   {
    "duration": 188,
    "start_time": "2024-01-28T14:04:45.321Z"
   },
   {
    "duration": 219,
    "start_time": "2024-01-28T14:04:54.565Z"
   },
   {
    "duration": 35,
    "start_time": "2024-01-28T14:05:03.617Z"
   },
   {
    "duration": 34,
    "start_time": "2024-01-28T14:07:00.952Z"
   },
   {
    "duration": 57,
    "start_time": "2024-01-28T14:13:32.605Z"
   },
   {
    "duration": 3,
    "start_time": "2024-01-28T14:13:32.663Z"
   },
   {
    "duration": 10137,
    "start_time": "2024-01-28T14:13:32.667Z"
   },
   {
    "duration": 4456,
    "start_time": "2024-01-28T14:13:42.806Z"
   },
   {
    "duration": 877,
    "start_time": "2024-01-28T14:13:47.263Z"
   },
   {
    "duration": 10,
    "start_time": "2024-01-28T14:13:48.141Z"
   },
   {
    "duration": 21,
    "start_time": "2024-01-28T14:13:48.153Z"
   },
   {
    "duration": 37,
    "start_time": "2024-01-28T14:13:48.176Z"
   },
   {
    "duration": 213,
    "start_time": "2024-01-28T14:13:48.214Z"
   },
   {
    "duration": 142,
    "start_time": "2024-01-28T14:13:48.429Z"
   },
   {
    "duration": 3,
    "start_time": "2024-01-28T14:13:48.572Z"
   },
   {
    "duration": 3,
    "start_time": "2024-01-28T14:13:48.576Z"
   },
   {
    "duration": 17,
    "start_time": "2024-01-28T14:13:48.580Z"
   },
   {
    "duration": 6,
    "start_time": "2024-01-28T14:13:48.598Z"
   },
   {
    "duration": 3,
    "start_time": "2024-01-28T14:13:48.605Z"
   },
   {
    "duration": 5,
    "start_time": "2024-01-28T14:13:48.610Z"
   },
   {
    "duration": 11,
    "start_time": "2024-01-28T14:13:48.616Z"
   },
   {
    "duration": 15,
    "start_time": "2024-01-28T14:13:48.629Z"
   },
   {
    "duration": 3,
    "start_time": "2024-01-28T14:13:48.645Z"
   },
   {
    "duration": 139763,
    "start_time": "2024-01-28T14:13:48.649Z"
   },
   {
    "duration": 15,
    "start_time": "2024-01-28T14:16:08.413Z"
   },
   {
    "duration": 4,
    "start_time": "2024-01-28T14:16:08.430Z"
   },
   {
    "duration": 26,
    "start_time": "2024-01-28T14:16:08.435Z"
   },
   {
    "duration": 7,
    "start_time": "2024-01-28T14:16:08.463Z"
   },
   {
    "duration": 5,
    "start_time": "2024-01-28T14:16:08.471Z"
   },
   {
    "duration": 19,
    "start_time": "2024-01-28T14:16:08.477Z"
   },
   {
    "duration": 16,
    "start_time": "2024-01-28T14:16:08.498Z"
   },
   {
    "duration": 5,
    "start_time": "2024-01-28T14:16:08.517Z"
   },
   {
    "duration": 3,
    "start_time": "2024-01-28T14:16:08.524Z"
   },
   {
    "duration": 432,
    "start_time": "2024-01-28T14:16:08.528Z"
   },
   {
    "duration": 4,
    "start_time": "2024-01-28T14:16:08.962Z"
   },
   {
    "duration": 1232,
    "start_time": "2024-01-28T14:16:08.968Z"
   },
   {
    "duration": 5,
    "start_time": "2024-01-28T14:16:10.202Z"
   },
   {
    "duration": 16,
    "start_time": "2024-01-28T14:16:10.209Z"
   },
   {
    "duration": 13,
    "start_time": "2024-01-28T14:16:10.226Z"
   },
   {
    "duration": 7,
    "start_time": "2024-01-28T14:16:10.240Z"
   },
   {
    "duration": 1793,
    "start_time": "2024-01-28T14:16:10.248Z"
   },
   {
    "duration": 3,
    "start_time": "2024-01-28T14:16:12.043Z"
   },
   {
    "duration": 15,
    "start_time": "2024-01-28T14:16:12.047Z"
   },
   {
    "duration": 7,
    "start_time": "2024-01-28T14:16:12.064Z"
   },
   {
    "duration": 2,
    "start_time": "2024-01-28T14:16:12.073Z"
   },
   {
    "duration": 338,
    "start_time": "2024-01-28T14:16:12.077Z"
   },
   {
    "duration": 0,
    "start_time": "2024-01-28T14:16:12.417Z"
   },
   {
    "duration": 0,
    "start_time": "2024-01-28T14:16:12.418Z"
   },
   {
    "duration": 0,
    "start_time": "2024-01-28T14:16:12.419Z"
   },
   {
    "duration": 0,
    "start_time": "2024-01-28T14:16:12.420Z"
   },
   {
    "duration": 34,
    "start_time": "2024-01-28T14:20:33.129Z"
   },
   {
    "duration": 34,
    "start_time": "2024-01-28T14:20:40.047Z"
   },
   {
    "duration": 33,
    "start_time": "2024-01-28T14:20:46.074Z"
   },
   {
    "duration": 36,
    "start_time": "2024-01-28T14:34:50.274Z"
   },
   {
    "duration": 32,
    "start_time": "2024-01-28T14:40:20.263Z"
   },
   {
    "duration": 32,
    "start_time": "2024-01-28T14:40:42.579Z"
   },
   {
    "duration": 51,
    "start_time": "2024-01-28T15:02:07.430Z"
   },
   {
    "duration": 34,
    "start_time": "2024-01-28T15:02:22.534Z"
   },
   {
    "duration": 9709,
    "start_time": "2024-01-28T15:02:35.192Z"
   },
   {
    "duration": 5,
    "start_time": "2024-01-28T15:02:58.132Z"
   },
   {
    "duration": 34,
    "start_time": "2024-01-28T15:03:33.102Z"
   },
   {
    "duration": 37,
    "start_time": "2024-01-28T15:04:04.893Z"
   },
   {
    "duration": 34,
    "start_time": "2024-01-28T15:04:13.441Z"
   },
   {
    "duration": 4131,
    "start_time": "2024-01-28T15:06:22.017Z"
   },
   {
    "duration": 4,
    "start_time": "2024-01-28T15:06:44.635Z"
   },
   {
    "duration": 12,
    "start_time": "2024-01-28T15:09:24.728Z"
   },
   {
    "duration": 7,
    "start_time": "2024-01-28T15:12:25.613Z"
   },
   {
    "duration": 1209,
    "start_time": "2024-01-28T15:19:41.241Z"
   },
   {
    "duration": 50,
    "start_time": "2024-01-28T19:14:22.634Z"
   },
   {
    "duration": 3,
    "start_time": "2024-01-28T19:14:22.686Z"
   },
   {
    "duration": 11055,
    "start_time": "2024-01-28T19:14:22.690Z"
   },
   {
    "duration": 5137,
    "start_time": "2024-01-28T19:14:33.747Z"
   },
   {
    "duration": 2290,
    "start_time": "2024-01-28T19:14:38.885Z"
   },
   {
    "duration": 10,
    "start_time": "2024-01-28T19:14:41.177Z"
   },
   {
    "duration": 29,
    "start_time": "2024-01-28T19:14:41.188Z"
   },
   {
    "duration": 62,
    "start_time": "2024-01-28T19:14:41.219Z"
   },
   {
    "duration": 230,
    "start_time": "2024-01-28T19:14:41.283Z"
   },
   {
    "duration": 164,
    "start_time": "2024-01-28T19:14:41.515Z"
   },
   {
    "duration": 3,
    "start_time": "2024-01-28T19:14:41.680Z"
   },
   {
    "duration": 8,
    "start_time": "2024-01-28T19:14:41.685Z"
   },
   {
    "duration": 2102744,
    "start_time": "2024-01-28T19:14:41.694Z"
   },
   {
    "duration": 4,
    "start_time": "2024-01-28T19:49:44.439Z"
   },
   {
    "duration": 22,
    "start_time": "2024-01-28T19:49:44.444Z"
   },
   {
    "duration": 27,
    "start_time": "2024-01-28T19:49:44.467Z"
   },
   {
    "duration": 4,
    "start_time": "2024-01-28T19:49:44.496Z"
   },
   {
    "duration": 3,
    "start_time": "2024-01-28T19:49:44.501Z"
   },
   {
    "duration": 6368,
    "start_time": "2024-01-28T19:49:44.506Z"
   },
   {
    "duration": 5,
    "start_time": "2024-01-28T19:49:50.875Z"
   },
   {
    "duration": 243308,
    "start_time": "2024-01-28T19:49:50.881Z"
   },
   {
    "duration": 4,
    "start_time": "2024-01-28T19:53:54.191Z"
   },
   {
    "duration": 8,
    "start_time": "2024-01-28T19:53:54.197Z"
   },
   {
    "duration": 9,
    "start_time": "2024-01-28T19:53:54.207Z"
   },
   {
    "duration": 58835,
    "start_time": "2024-01-28T19:53:54.218Z"
   },
   {
    "duration": 4,
    "start_time": "2024-01-28T19:54:53.055Z"
   },
   {
    "duration": 107087,
    "start_time": "2024-01-28T19:54:53.065Z"
   },
   {
    "duration": 106661,
    "start_time": "2024-01-28T19:56:40.154Z"
   },
   {
    "duration": 3,
    "start_time": "2024-01-28T19:58:26.816Z"
   },
   {
    "duration": 20256,
    "start_time": "2024-01-28T19:58:26.821Z"
   },
   {
    "duration": 11,
    "start_time": "2024-01-28T19:58:47.079Z"
   },
   {
    "duration": 13,
    "start_time": "2024-01-28T19:58:47.091Z"
   },
   {
    "duration": 10,
    "start_time": "2024-01-28T20:00:02.675Z"
   },
   {
    "duration": 12,
    "start_time": "2024-01-28T20:00:15.087Z"
   },
   {
    "duration": 39,
    "start_time": "2024-03-31T16:00:14.482Z"
   },
   {
    "duration": 3,
    "start_time": "2024-03-31T16:00:14.523Z"
   },
   {
    "duration": 11482,
    "start_time": "2024-03-31T16:00:14.527Z"
   },
   {
    "duration": 4997,
    "start_time": "2024-03-31T16:00:26.011Z"
   },
   {
    "duration": 2311,
    "start_time": "2024-03-31T16:00:31.009Z"
   },
   {
    "duration": 11,
    "start_time": "2024-03-31T16:00:33.321Z"
   },
   {
    "duration": 44,
    "start_time": "2024-03-31T16:00:33.333Z"
   },
   {
    "duration": 48,
    "start_time": "2024-03-31T16:00:33.378Z"
   },
   {
    "duration": 211,
    "start_time": "2024-03-31T16:00:33.428Z"
   },
   {
    "duration": 161,
    "start_time": "2024-03-31T16:00:33.641Z"
   },
   {
    "duration": 3,
    "start_time": "2024-03-31T16:00:33.804Z"
   },
   {
    "duration": 14,
    "start_time": "2024-03-31T16:00:33.808Z"
   },
   {
    "duration": 2315973,
    "start_time": "2024-03-31T16:00:33.823Z"
   },
   {
    "duration": 4,
    "start_time": "2024-03-31T16:39:09.798Z"
   },
   {
    "duration": 14,
    "start_time": "2024-03-31T16:39:09.803Z"
   },
   {
    "duration": 46,
    "start_time": "2024-03-31T16:39:09.819Z"
   },
   {
    "duration": 3,
    "start_time": "2024-03-31T16:39:09.867Z"
   },
   {
    "duration": 5,
    "start_time": "2024-03-31T16:39:09.872Z"
   },
   {
    "duration": 6900,
    "start_time": "2024-03-31T16:39:09.879Z"
   },
   {
    "duration": 4,
    "start_time": "2024-03-31T16:39:16.781Z"
   },
   {
    "duration": 233591,
    "start_time": "2024-03-31T16:39:16.787Z"
   },
   {
    "duration": 4,
    "start_time": "2024-03-31T16:43:10.380Z"
   },
   {
    "duration": 67891,
    "start_time": "2024-03-31T16:43:10.385Z"
   },
   {
    "duration": 4,
    "start_time": "2024-03-31T16:44:18.278Z"
   },
   {
    "duration": 115619,
    "start_time": "2024-03-31T16:44:18.283Z"
   },
   {
    "duration": 5,
    "start_time": "2024-03-31T16:46:13.903Z"
   },
   {
    "duration": 32,
    "start_time": "2024-03-31T16:46:13.909Z"
   },
   {
    "duration": 13,
    "start_time": "2024-03-31T16:46:13.944Z"
   }
  ],
  "kernelspec": {
   "display_name": "Python 3 (ipykernel)",
   "language": "python",
   "name": "python3"
  },
  "language_info": {
   "codemirror_mode": {
    "name": "ipython",
    "version": 3
   },
   "file_extension": ".py",
   "mimetype": "text/x-python",
   "name": "python",
   "nbconvert_exporter": "python",
   "pygments_lexer": "ipython3",
   "version": "3.9.5"
  },
  "toc": {
   "base_numbering": 1,
   "nav_menu": {},
   "number_sections": false,
   "sideBar": true,
   "skip_h1_title": true,
   "title_cell": "Содержание",
   "title_sidebar": "Contents",
   "toc_cell": true,
   "toc_position": {
    "height": "calc(100% - 180px)",
    "left": "10px",
    "top": "150px",
    "width": "302.391px"
   },
   "toc_section_display": true,
   "toc_window_display": false
  }
 },
 "nbformat": 4,
 "nbformat_minor": 2
}
